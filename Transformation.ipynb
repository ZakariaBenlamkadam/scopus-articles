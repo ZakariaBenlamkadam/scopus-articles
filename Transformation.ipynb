{
 "cells": [
  {
   "cell_type": "markdown",
   "metadata": {
    "application/vnd.databricks.v1+cell": {
     "cellMetadata": {
      "byteLimit": 2048000,
      "rowLimit": 10000
     },
     "inputWidgets": {},
     "nuid": "e6fbfe80-9c99-4750-9495-cb72922efa6e",
     "showTitle": false,
     "tableResultSettingsMap": {},
     "title": ""
    }
   },
   "source": [
    "\n",
    "**Source**\n",
    "/FileStore/tables/articles/2024_2025.csv"
   ]
  },
  {
   "cell_type": "markdown",
   "metadata": {
    "application/vnd.databricks.v1+cell": {
     "cellMetadata": {
      "byteLimit": 2048000,
      "rowLimit": 10000
     },
     "inputWidgets": {},
     "nuid": "16ff1b8a-9d78-4ffc-a4a4-883dce22e00c",
     "showTitle": false,
     "tableResultSettingsMap": {},
     "title": ""
    }
   },
   "source": [
    "**Imports**"
   ]
  },
  {
   "cell_type": "code",
   "execution_count": 0,
   "metadata": {
    "application/vnd.databricks.v1+cell": {
     "cellMetadata": {
      "byteLimit": 2048000,
      "rowLimit": 10000
     },
     "inputWidgets": {},
     "nuid": "5efc5806-05ed-45fe-a5d1-fc81a0000e65",
     "showTitle": false,
     "tableResultSettingsMap": {},
     "title": ""
    }
   },
   "outputs": [],
   "source": [
    "from pyspark.sql import functions as F\n",
    "from pyspark.sql import Window\n",
    "from pyspark.sql.functions import when, col\n",
    "from pyspark.sql.types import IntegerType, StringType, BooleanType"
   ]
  },
  {
   "cell_type": "code",
   "execution_count": 0,
   "metadata": {
    "application/vnd.databricks.v1+cell": {
     "cellMetadata": {
      "byteLimit": 2048000,
      "rowLimit": 10000
     },
     "inputWidgets": {},
     "nuid": "f43c13dc-13e4-43fc-bb7b-640b19cc6d9b",
     "showTitle": false,
     "tableResultSettingsMap": {},
     "title": ""
    }
   },
   "outputs": [
    {
     "output_type": "display_data",
     "data": {
      "text/html": [
       "<style scoped>\n",
       "  .table-result-container {\n",
       "    max-height: 300px;\n",
       "    overflow: auto;\n",
       "  }\n",
       "  table, th, td {\n",
       "    border: 1px solid black;\n",
       "    border-collapse: collapse;\n",
       "  }\n",
       "  th, td {\n",
       "    padding: 5px;\n",
       "  }\n",
       "  th {\n",
       "    text-align: left;\n",
       "  }\n",
       "</style><div class='table-result-container'><table class='table-result'><thead style='background-color: white'><tr><th>path</th><th>name</th><th>size</th><th>modificationTime</th></tr></thead><tbody><tr><td>dbfs:/FileStore/tables/articles/2024_2025.csv</td><td>2024_2025.csv</td><td>195961853</td><td>1730978546000</td></tr></tbody></table></div>"
      ]
     },
     "metadata": {
      "application/vnd.databricks.v1+output": {
       "addedWidgets": {},
       "aggData": [],
       "aggError": "",
       "aggOverflow": false,
       "aggSchema": [],
       "aggSeriesLimitReached": false,
       "aggType": "",
       "arguments": {},
       "columnCustomDisplayInfos": {},
       "data": [
        [
         "dbfs:/FileStore/tables/articles/2024_2025.csv",
         "2024_2025.csv",
         195961853,
         1730978546000
        ]
       ],
       "datasetInfos": [],
       "dbfsResultPath": null,
       "isJsonSchema": true,
       "metadata": {
        "isDbfsCommandResult": false
       },
       "overflow": false,
       "plotOptions": {
        "customPlotOptions": {},
        "displayType": "table",
        "pivotAggregation": null,
        "pivotColumns": null,
        "xColumns": null,
        "yColumns": null
       },
       "removedWidgets": [],
       "schema": [
        {
         "metadata": "{}",
         "name": "path",
         "type": "\"string\""
        },
        {
         "metadata": "{}",
         "name": "name",
         "type": "\"string\""
        },
        {
         "metadata": "{}",
         "name": "size",
         "type": "\"long\""
        },
        {
         "metadata": "{}",
         "name": "modificationTime",
         "type": "\"long\""
        }
       ],
       "type": "table"
      }
     },
     "output_type": "display_data"
    }
   ],
   "source": [
    "%fs\n",
    "\n",
    "ls /FileStore/tables/articles/2024_2025.csv"
   ]
  },
  {
   "cell_type": "code",
   "execution_count": 0,
   "metadata": {
    "application/vnd.databricks.v1+cell": {
     "cellMetadata": {
      "byteLimit": 2048000,
      "rowLimit": 10000
     },
     "inputWidgets": {},
     "nuid": "a641a10a-4203-4f0f-b3f0-78b4c0fefaa6",
     "showTitle": false,
     "tableResultSettingsMap": {},
     "title": ""
    }
   },
   "outputs": [],
   "source": [
    "df = spark.read.format(\"csv\").option(\"header\",\"true\").option(\"inferSchema\",\"true\").load(\"/FileStore/tables/articles/2024_2025.csv\")"
   ]
  },
  {
   "cell_type": "code",
   "execution_count": 0,
   "metadata": {
    "application/vnd.databricks.v1+cell": {
     "cellMetadata": {
      "byteLimit": 2048000,
      "rowLimit": 10000
     },
     "inputWidgets": {},
     "nuid": "45458dd7-3c66-4be1-8fd0-4ce6a2d9694d",
     "showTitle": false,
     "tableResultSettingsMap": {},
     "title": ""
    }
   },
   "outputs": [],
   "source": [
    "df = (\n",
    "    df.withColumn(\"Authors\", df[\"Authors\"].cast(StringType()))\n",
    "      .withColumn(\"Author full names\", df[\"Author full names\"].cast(StringType()))\n",
    "      .withColumn(\"Author(s) ID\", df[\"Author(s) ID\"].cast(StringType()))\n",
    "      .withColumn(\"Title\", df[\"Title\"].cast(StringType()))\n",
    "      .withColumn(\"Year\", df[\"Year\"].cast(IntegerType()))\n",
    "      .withColumn(\"Source title\", df[\"Source title\"].cast(StringType()))\n",
    "      .withColumn(\"Volume\", df[\"Volume\"].cast(IntegerType()))\n",
    "      .withColumn(\"Issue\", df[\"Issue\"].cast(IntegerType()))\n",
    "      .withColumn(\"Art. No.\", df[\"`Art. No.`\"].cast(IntegerType()))  # Add backticks here\n",
    "      .withColumn(\"Page start\", df[\"Page start\"].cast(IntegerType()))\n",
    "      .withColumn(\"Page end\", df[\"Page end\"].cast(IntegerType()))\n",
    "      .withColumn(\"Page count\", df[\"Page count\"].cast(IntegerType()))\n",
    "      .withColumn(\"Cited by\", df[\"Cited by\"].cast(IntegerType()))\n",
    "      .withColumn(\"DOI\", df[\"DOI\"].cast(StringType()))\n",
    "      .withColumn(\"Link\", df[\"Link\"].cast(StringType()))\n",
    "      .withColumn(\"Affiliations\", df[\"Affiliations\"].cast(StringType()))\n",
    "      .withColumn(\"Authors with affiliations\", df[\"Authors with affiliations\"].cast(StringType()))\n",
    "      .withColumn(\"Abstract\", df[\"Abstract\"].cast(StringType()))\n",
    "      .withColumn(\"Author Keywords\", df[\"Author Keywords\"].cast(StringType()))\n",
    "      .withColumn(\"Index Keywords\", df[\"Index Keywords\"].cast(StringType()))\n",
    "      .withColumn(\"Molecular Sequence Numbers\", df[\"Molecular Sequence Numbers\"].cast(StringType()))\n",
    "      .withColumn(\"Chemicals/CAS\", df[\"Chemicals/CAS\"].cast(StringType()))\n",
    "      .withColumn(\"Tradenames\", df[\"Tradenames\"].cast(StringType()))\n",
    "      .withColumn(\"Manufacturers\", df[\"Manufacturers\"].cast(StringType()))\n",
    "      .withColumn(\"Funding Details\", df[\"Funding Details\"].cast(StringType()))\n",
    "      .withColumn(\"Funding Texts\", df[\"Funding Texts\"].cast(StringType()))\n",
    "      .withColumn(\"References\", df[\"References\"].cast(StringType()))\n",
    "      .withColumn(\"Correspondence Address\", df[\"Correspondence Address\"].cast(StringType()))\n",
    "      .withColumn(\"Editors\", df[\"Editors\"].cast(StringType()))\n",
    "      .withColumn(\"Publisher\", df[\"Publisher\"].cast(StringType()))\n",
    "      .withColumn(\"Sponsors\", df[\"Sponsors\"].cast(StringType()))\n",
    "      .withColumn(\"Conference name\", df[\"Conference name\"].cast(StringType()))\n",
    "      .withColumn(\"Conference date\", df[\"Conference date\"].cast(StringType()))\n",
    "      .withColumn(\"Conference location\", df[\"Conference location\"].cast(StringType()))\n",
    "      .withColumn(\"Conference code\", df[\"Conference code\"].cast(StringType()))\n",
    "      .withColumn(\"ISSN\", df[\"ISSN\"].cast(StringType()))\n",
    "      .withColumn(\"ISBN\", df[\"ISBN\"].cast(StringType()))\n",
    "      .withColumn(\"CODEN\", df[\"CODEN\"].cast(StringType()))\n",
    "      .withColumn(\"PubMed ID\", df[\"PubMed ID\"].cast(StringType()))\n",
    "      .withColumn(\"Language of Original Document\", df[\"Language of Original Document\"].cast(StringType()))\n",
    "      .withColumn(\"Abbreviated Source Title\", df[\"Abbreviated Source Title\"].cast(StringType()))\n",
    "      .withColumn(\"Document Type\", df[\"Document Type\"].cast(StringType()))\n",
    "      .withColumn(\"Publication Stage\", df[\"Publication Stage\"].cast(StringType()))\n",
    "      .withColumn(\"Open Access\", when(col(\"Open Access\").isNotNull(), True).otherwise(False).cast(BooleanType()))  # Boolean based on null check\n",
    "      .withColumn(\"Source\", df[\"Source\"].cast(StringType()))\n",
    "      .withColumn(\"EID\", df[\"EID\"].cast(StringType()))\n",
    ")\n"
   ]
  },
  {
   "cell_type": "code",
   "execution_count": 0,
   "metadata": {
    "application/vnd.databricks.v1+cell": {
     "cellMetadata": {
      "byteLimit": 2048000,
      "rowLimit": 10000
     },
     "inputWidgets": {},
     "nuid": "012c948f-4394-4cd9-ba5d-11732c6c24d3",
     "showTitle": false,
     "tableResultSettingsMap": {},
     "title": ""
    }
   },
   "outputs": [
    {
     "output_type": "stream",
     "name": "stdout",
     "output_type": "stream",
     "text": [
      "root\n |-- Authors: string (nullable = true)\n |-- Author full names: string (nullable = true)\n |-- Author(s) ID: string (nullable = true)\n |-- Title: string (nullable = true)\n |-- Year: integer (nullable = true)\n |-- Source title: string (nullable = true)\n |-- Volume: integer (nullable = true)\n |-- Issue: integer (nullable = true)\n |-- Art. No.: integer (nullable = true)\n |-- Page start: integer (nullable = true)\n |-- Page end: integer (nullable = true)\n |-- Page count: integer (nullable = true)\n |-- Cited by: integer (nullable = true)\n |-- DOI: string (nullable = true)\n |-- Link: string (nullable = true)\n |-- Affiliations: string (nullable = true)\n |-- Authors with affiliations: string (nullable = true)\n |-- Abstract: string (nullable = true)\n |-- Author Keywords: string (nullable = true)\n |-- Index Keywords: string (nullable = true)\n |-- Molecular Sequence Numbers: string (nullable = true)\n |-- Chemicals/CAS: string (nullable = true)\n |-- Tradenames: string (nullable = true)\n |-- Manufacturers: string (nullable = true)\n |-- Funding Details: string (nullable = true)\n |-- Funding Texts: string (nullable = true)\n |-- References: string (nullable = true)\n |-- Correspondence Address: string (nullable = true)\n |-- Editors: string (nullable = true)\n |-- Publisher: string (nullable = true)\n |-- Sponsors: string (nullable = true)\n |-- Conference name: string (nullable = true)\n |-- Conference date: string (nullable = true)\n |-- Conference location: string (nullable = true)\n |-- Conference code: string (nullable = true)\n |-- ISSN: string (nullable = true)\n |-- ISBN: string (nullable = true)\n |-- CODEN: string (nullable = true)\n |-- PubMed ID: string (nullable = true)\n |-- Language of Original Document: string (nullable = true)\n |-- Abbreviated Source Title: string (nullable = true)\n |-- Document Type: string (nullable = true)\n |-- Publication Stage: string (nullable = true)\n |-- Open Access: boolean (nullable = false)\n |-- Source: string (nullable = true)\n |-- EID: string (nullable = true)\n\n"
     ]
    }
   ],
   "source": [
    "df.printSchema()"
   ]
  },
  {
   "cell_type": "code",
   "execution_count": 0,
   "metadata": {
    "application/vnd.databricks.v1+cell": {
     "cellMetadata": {
      "byteLimit": 2048000,
      "rowLimit": 10000
     },
     "inputWidgets": {},
     "nuid": "72b0cc1c-f8d5-4b8c-82ee-857603a867e9",
     "showTitle": false,
     "tableResultSettingsMap": {},
     "title": ""
    }
   },
   "outputs": [],
   "source": [
    "from pyspark.sql import functions as F\n",
    "\n",
    "df = df.withColumn(\n",
    "    \"Title\",\n",
    "    F.ltrim(F.regexp_replace(F.col(\"Title\"), \"[å‘˜å·¥çš„æ•Œäººè¿˜æ˜¯æœ‹å‹ï¼šäººå·¥æ™ºèƒ½ä¸Žå‘˜å·¥ç¦»èŒå€¾å‘çš„å…³ç³»ç ”ç©¶\\\"]\", \"\"))\n",
    ")"
   ]
  },
  {
   "cell_type": "code",
   "execution_count": 0,
   "metadata": {
    "application/vnd.databricks.v1+cell": {
     "cellMetadata": {
      "byteLimit": 2048000,
      "rowLimit": 10000
     },
     "inputWidgets": {},
     "nuid": "5860dfda-fd6c-459f-9668-cd286d298a29",
     "showTitle": false,
     "tableResultSettingsMap": {},
     "title": ""
    }
   },
   "outputs": [],
   "source": [
    "# Corrected transformation for the 'CODEN' column\n",
    "df = df.withColumn(\n",
    "    \"CODEN\",\n",
    "    F.when(\n",
    "        F.col(\"CODEN\").rlike(\".*\\\\d.*\") & F.col(\"CODEN\").rlike(\".*[^a-zA-Z].*\"),  # Contains numbers and non-letter characters\n",
    "        \"no coden\"\n",
    "    ).when(\n",
    "        F.size(F.split(F.col(\"CODEN\"), \" \")) > 1,  # More than one word\n",
    "        \"non coden\"\n",
    "    ).otherwise(\n",
    "        F.col(\"CODEN\")  # Keep original value\n",
    "    )\n",
    ")\n",
    "\n"
   ]
  },
  {
   "cell_type": "code",
   "execution_count": 0,
   "metadata": {
    "application/vnd.databricks.v1+cell": {
     "cellMetadata": {
      "byteLimit": 2048000,
      "rowLimit": 10000
     },
     "inputWidgets": {},
     "nuid": "eb9eb6aa-44f8-459e-a303-cc2a7ec62910",
     "showTitle": false,
     "tableResultSettingsMap": {},
     "title": ""
    }
   },
   "outputs": [
    {
     "output_type": "stream",
     "name": "stdout",
     "output_type": "stream",
     "text": [
      "+--------------------+\n|          Tradenames|\n+--------------------+\n| 100306]. Referen...|\n|       67 ppm “Cd67”|\n| Abdelmalek Essaâ...|\n| Association of A...|\n|           Beni-Suef|\n|           Brazilian|\n| COMSATS Institut...|\n|          Casablanca|\n|      DarijaBert-mix|\n|            Edmonton|\n|                FSTH|\n| Faculty of Scien...|\n| Fourier transfor...|\n|             France\"|\n| Germany; Fakultä...|\n| Germany; Fakultä...|\n| Germany; Fakultä...|\n| Germany; Fakultä...|\n|          HIV status|\n|             Hamburg|\n+--------------------+\nonly showing top 20 rows\n\n"
     ]
    }
   ],
   "source": [
    "# Sort the DataFrame by the 'Title' column in dictionary order\n",
    "df_sorted = df.orderBy(F.col(\"Tradenames\").asc())\n",
    "\n",
    "# Show the sorted result\n",
    "df_sorted.filter(F.col(\"Tradenames\").isNotNull()).select(\"Tradenames\").show()"
   ]
  },
  {
   "cell_type": "code",
   "execution_count": 0,
   "metadata": {
    "application/vnd.databricks.v1+cell": {
     "cellMetadata": {
      "byteLimit": 2048000,
      "rowLimit": 10000
     },
     "inputWidgets": {},
     "nuid": "b7562a9f-68e5-4e5f-a037-d2a26ebfca8f",
     "showTitle": false,
     "tableResultSettingsMap": {},
     "title": ""
    }
   },
   "outputs": [],
   "source": [
    "df = df.withColumn(\n",
    "    \"Sponsors\",\n",
    "    F.when(\n",
    "        ~F.col(\"Sponsors\").rlike(\"^[a-zA-Z]\"),  # If the value does not start with a letter\n",
    "        None  # Set it to null\n",
    "    ).when(\n",
    "        F.size(F.split(F.col(\"Sponsors\"), \" \")) < 3,  # If it has less than 3 words\n",
    "        None  # Set it to null\n",
    "    ).when(\n",
    "        F.col(\"Sponsors\").rlike(\"^[a-z]\"),  # If it starts with a lowercase letter\n",
    "        None  # Set it to null\n",
    "    ).otherwise(F.col(\"Sponsors\"))\n",
    ")"
   ]
  },
  {
   "cell_type": "code",
   "execution_count": 0,
   "metadata": {
    "application/vnd.databricks.v1+cell": {
     "cellMetadata": {
      "byteLimit": 2048000,
      "rowLimit": 10000
     },
     "inputWidgets": {},
     "nuid": "9cee010a-721a-4f08-a8e7-d4c4dec4c43d",
     "showTitle": false,
     "tableResultSettingsMap": {},
     "title": ""
    }
   },
   "outputs": [],
   "source": [
    "df = df.withColumn(\n",
    "    \"Tradenames\",\n",
    "    F.when(\n",
    "        ~F.col(\"Tradenames\").rlike(\"^[a-zA-Z]\"),  # If the value does not start with a letter\n",
    "        None  # Set it to null\n",
    "    ).when(\n",
    "        F.size(F.split(F.col(\"Tradenames\"), \" \")) < 3,  # If it has less than 3 words\n",
    "        None  # Set it to null\n",
    "    ).when(\n",
    "        F.col(\"Tradenames\").rlike(\"^[a-z]\"),  # If it starts with a lowercase letter\n",
    "        None  # Set it to null\n",
    "    ).otherwise(F.col(\"Tradenames\"))\n",
    ")"
   ]
  },
  {
   "cell_type": "code",
   "execution_count": 0,
   "metadata": {
    "application/vnd.databricks.v1+cell": {
     "cellMetadata": {
      "byteLimit": 2048000,
      "rowLimit": 10000
     },
     "inputWidgets": {},
     "nuid": "c80770b8-73bd-48e8-b841-7a4f5a60233a",
     "showTitle": false,
     "tableResultSettingsMap": {},
     "title": ""
    }
   },
   "outputs": [],
   "source": [
    "df = df.withColumn(\n",
    "    \"PubMed ID\",\n",
    "    F.when(\n",
    "        F.col(\"PubMed ID\").rlike(\"[a-zA-Z]\"),  # Contains any text (letters)\n",
    "        None\n",
    "    ).when(\n",
    "        ~F.col(\"PubMed ID\").rlike(\"^[0-9]\"),  # Does not start with a number\n",
    "        None\n",
    "    ).when(\n",
    "        F.length(F.regexp_replace(F.col(\"PubMed ID\"), \"[^0-9]\", \"\")) < 5,  # Fewer than 5 digits\n",
    "        None\n",
    "    ).otherwise(F.col(\"PubMed ID\"))  # Keep original value if none of the conditions are met\n",
    ")"
   ]
  },
  {
   "cell_type": "code",
   "execution_count": 0,
   "metadata": {
    "application/vnd.databricks.v1+cell": {
     "cellMetadata": {
      "byteLimit": 2048000,
      "rowLimit": 10000
     },
     "inputWidgets": {},
     "nuid": "cfca12cc-ca5a-4408-80e0-b6829f37699d",
     "showTitle": false,
     "tableResultSettingsMap": {},
     "title": ""
    }
   },
   "outputs": [],
   "source": [
    "\n",
    "df = df.withColumn(\n",
    "    \"Publisher\",\n",
    "    F.trim(\n",
    "        F.when(\n",
    "            ~F.col(\"Publisher\").rlike(\"^[a-zA-Z]\"),  # If the value does not start with a letter\n",
    "            None  # Set it to null\n",
    "        ).otherwise(\n",
    "            F.expr(\n",
    "                \"\"\"\n",
    "                regexp_replace(\n",
    "                    case \n",
    "                        when Publisher rlike '^[a-z]' then regexp_extract(Publisher, '[A-Z].*', 0)\n",
    "                        else Publisher \n",
    "                    end, \n",
    "                    '\"', ''\n",
    "                )\n",
    "                \"\"\"\n",
    "            )\n",
    "        )\n",
    "    )\n",
    ")\n"
   ]
  },
  {
   "cell_type": "code",
   "execution_count": 0,
   "metadata": {
    "application/vnd.databricks.v1+cell": {
     "cellMetadata": {
      "byteLimit": 2048000,
      "rowLimit": 10000
     },
     "inputWidgets": {},
     "nuid": "46518e52-9e44-4224-b151-d270c6f534b1",
     "showTitle": false,
     "tableResultSettingsMap": {},
     "title": ""
    }
   },
   "outputs": [],
   "source": [
    "df = df.withColumn(\n",
    "    \"Correspondence Address\",\n",
    "    F.when(\n",
    "        ~F.col(\"Correspondence Address\").rlike(\"^[a-zA-Z]\"),  # Does not start with a letter\n",
    "        \"Unknown\"\n",
    "    ).otherwise(F.col(\"Correspondence Address\"))\n",
    ")\n"
   ]
  },
  {
   "cell_type": "code",
   "execution_count": 0,
   "metadata": {
    "application/vnd.databricks.v1+cell": {
     "cellMetadata": {
      "byteLimit": 2048000,
      "rowLimit": 10000
     },
     "inputWidgets": {},
     "nuid": "214e7ee6-ef77-4214-957d-7aaeb8cf6386",
     "showTitle": false,
     "tableResultSettingsMap": {},
     "title": ""
    }
   },
   "outputs": [],
   "source": [
    "df = df.withColumn(\n",
    "    \"ISSN\",\n",
    "    F.when(\n",
    "        F.col(\"ISSN\").rlike(\"[a-zA-Z]{3,}\"),  # Contains more than 2 letters\n",
    "        None\n",
    "    ).when(\n",
    "        F.col(\"ISSN\").rlike(\"^[0-9]\"),  # Does not start with a number\n",
    "        None\n",
    "    ).when(\n",
    "        F.length(F.regexp_replace(F.col(\"ISSN\"), \"[^0-9]\", \"\")) < 5,  # Fewer than 5 digits\n",
    "        None\n",
    "    ).otherwise(F.col(\"ISSN\"))  # Keep original value if none of the conditions are met\n",
    ")\n"
   ]
  },
  {
   "cell_type": "code",
   "execution_count": 0,
   "metadata": {
    "application/vnd.databricks.v1+cell": {
     "cellMetadata": {
      "byteLimit": 2048000,
      "rowLimit": 10000
     },
     "inputWidgets": {},
     "nuid": "af7fe46f-5574-44bb-93d0-d676aa36d11a",
     "showTitle": false,
     "tableResultSettingsMap": {},
     "title": ""
    }
   },
   "outputs": [],
   "source": [
    "df = df.withColumn(\n",
    "    \"ISBN\",\n",
    "    F.when(\n",
    "        F.col(\"ISBN\").rlike(\"[a-zA-Z]\"),  # Contains any text (letters)\n",
    "        None\n",
    "    ).when(\n",
    "        ~F.col(\"ISBN\").rlike(\"^[0-9]\"),  # Does not start with a number\n",
    "        None\n",
    "    ).when(\n",
    "        F.length(F.regexp_replace(F.col(\"ISBN\"), \"[^0-9]\", \"\")) < 5,  # Fewer than 5 digits\n",
    "        None\n",
    "    ).otherwise(F.col(\"ISBN\"))  # Keep original value if none of the conditions are met\n",
    ")\n"
   ]
  },
  {
   "cell_type": "code",
   "execution_count": 0,
   "metadata": {
    "application/vnd.databricks.v1+cell": {
     "cellMetadata": {
      "byteLimit": 2048000,
      "rowLimit": 10000
     },
     "inputWidgets": {},
     "nuid": "ccd6e7b3-f831-42f3-b191-570e18673051",
     "showTitle": false,
     "tableResultSettingsMap": {},
     "title": ""
    }
   },
   "outputs": [],
   "source": [
    "df = df.withColumn(\n",
    "    \"Manufacturers\",\n",
    "    F.when(\n",
    "        F.col(\"Manufacturers\").rlike(\"^[^a-zA-Z]\"),  \n",
    "        None  \n",
    "    ).otherwise(F.col(\"Manufacturers\"))  \n",
    ")"
   ]
  },
  {
   "cell_type": "code",
   "execution_count": 0,
   "metadata": {
    "application/vnd.databricks.v1+cell": {
     "cellMetadata": {
      "byteLimit": 2048000,
      "rowLimit": 10000
     },
     "inputWidgets": {},
     "nuid": "bc75fc04-3ca1-45f3-ae58-e6358b8a2778",
     "showTitle": false,
     "tableResultSettingsMap": {},
     "title": ""
    }
   },
   "outputs": [],
   "source": [
    "df = df.withColumn(\n",
    "    \"Chemicals/CAS\",\n",
    "    F.when(\n",
    "        F.col(\"Chemicals/CAS\").rlike(\"^[^a-zA-Z0-9]\"),  \n",
    "        None  \n",
    "    ).otherwise(F.col(\"Chemicals/CAS\"))  \n",
    ")\n"
   ]
  },
  {
   "cell_type": "code",
   "execution_count": 0,
   "metadata": {
    "application/vnd.databricks.v1+cell": {
     "cellMetadata": {
      "byteLimit": 2048000,
      "rowLimit": 10000
     },
     "inputWidgets": {},
     "nuid": "00efb29b-a47f-463b-86d3-ffe05b568e54",
     "showTitle": false,
     "tableResultSettingsMap": {},
     "title": ""
    }
   },
   "outputs": [],
   "source": [
    "df = df.withColumn(\n",
    "    \"Authors\",\n",
    "    F.when(F.col(\"Authors\").rlike(\"^[^a-zA-Z]\"), \"Unknown\").otherwise(F.col(\"Authors\"))\n",
    ")\n"
   ]
  },
  {
   "cell_type": "code",
   "execution_count": 0,
   "metadata": {
    "application/vnd.databricks.v1+cell": {
     "cellMetadata": {
      "byteLimit": 2048000,
      "rowLimit": 10000
     },
     "inputWidgets": {},
     "nuid": "2dc0ca8a-b95c-4345-86ae-ae403669c4c3",
     "showTitle": false,
     "tableResultSettingsMap": {},
     "title": ""
    }
   },
   "outputs": [],
   "source": [
    "df = df.withColumn(\n",
    "    \"Author full names\",\n",
    "    F.when(F.col(\"Author full names\").rlike(\"^[^a-zA-Z]\"), \"Unknown\").otherwise(F.col(\"Author full names\"))\n",
    ")\n"
   ]
  },
  {
   "cell_type": "code",
   "execution_count": 0,
   "metadata": {
    "application/vnd.databricks.v1+cell": {
     "cellMetadata": {
      "byteLimit": 2048000,
      "rowLimit": 10000
     },
     "inputWidgets": {},
     "nuid": "10bc4830-ba66-4e8b-bdc1-d768f23ed5c1",
     "showTitle": false,
     "tableResultSettingsMap": {},
     "title": ""
    }
   },
   "outputs": [],
   "source": [
    "df = df.withColumn(\n",
    "    \"Abstract\",\n",
    "    F.when(\n",
    "        F.col(\"Abstract\").rlike(\"^[^a-zA-Z]\"),  # Starts with non-letter character\n",
    "        F.regexp_replace(F.col(\"Abstract\"), \"^[^a-zA-Z]+\", \"\")  # Remove non-letters at the beginning\n",
    "    ).otherwise(F.col(\"Abstract\"))\n",
    ")\n",
    "\n",
    "# Remove all double quotes (\") from the entire 'Abstract' column\n",
    "df = df.withColumn(\"Abstract\", F.regexp_replace(F.col(\"Abstract\"), '\"', ''))\n"
   ]
  },
  {
   "cell_type": "code",
   "execution_count": 0,
   "metadata": {
    "application/vnd.databricks.v1+cell": {
     "cellMetadata": {
      "byteLimit": 2048000,
      "rowLimit": 10000
     },
     "inputWidgets": {},
     "nuid": "4ff48585-11e7-476e-a6de-5cb635bb0f74",
     "showTitle": false,
     "tableResultSettingsMap": {},
     "title": ""
    }
   },
   "outputs": [
    {
     "output_type": "stream",
     "name": "stdout",
     "output_type": "stream",
     "text": [
      "+-----------+\n|Open Access|\n+-----------+\n|      false|\n|      false|\n|      false|\n|      false|\n|      false|\n|      false|\n|       true|\n|      false|\n|      false|\n|      false|\n|      false|\n|      false|\n|      false|\n|      false|\n|      false|\n|      false|\n|      false|\n|      false|\n|      false|\n|      false|\n|      false|\n|      false|\n|      false|\n|       true|\n|       true|\n|      false|\n|      false|\n|       true|\n|      false|\n|      false|\n|       true|\n|      false|\n|      false|\n|      false|\n|      false|\n|      false|\n|      false|\n|      false|\n|      false|\n|      false|\n+-----------+\nonly showing top 40 rows\n\n"
     ]
    }
   ],
   "source": [
    "df[['Open Access']].show(40)\n"
   ]
  },
  {
   "cell_type": "code",
   "execution_count": 0,
   "metadata": {
    "application/vnd.databricks.v1+cell": {
     "cellMetadata": {
      "byteLimit": 2048000,
      "rowLimit": 10000
     },
     "inputWidgets": {},
     "nuid": "2252903e-49e7-4180-b9ee-895c0e6dca0e",
     "showTitle": false,
     "tableResultSettingsMap": {},
     "title": ""
    }
   },
   "outputs": [
    {
     "output_type": "stream",
     "name": "stdout",
     "output_type": "stream",
     "text": [
      "Out[21]: ['Authors',\n 'Author full names',\n 'Author(s) ID',\n 'Title',\n 'Year',\n 'Source title',\n 'Volume',\n 'Issue',\n 'Art. No.',\n 'Page start',\n 'Page end',\n 'Page count',\n 'Cited by',\n 'DOI',\n 'Link',\n 'Affiliations',\n 'Authors with affiliations',\n 'Abstract',\n 'Author Keywords',\n 'Index Keywords',\n 'Molecular Sequence Numbers',\n 'Chemicals/CAS',\n 'Tradenames',\n 'Manufacturers',\n 'Funding Details',\n 'Funding Texts',\n 'References',\n 'Correspondence Address',\n 'Editors',\n 'Publisher',\n 'Sponsors',\n 'Conference name',\n 'Conference date',\n 'Conference location',\n 'Conference code',\n 'ISSN',\n 'ISBN',\n 'CODEN',\n 'PubMed ID',\n 'Language of Original Document',\n 'Abbreviated Source Title',\n 'Document Type',\n 'Publication Stage',\n 'Open Access',\n 'Source',\n 'EID']"
     ]
    }
   ],
   "source": [
    "df.columns"
   ]
  },
  {
   "cell_type": "code",
   "execution_count": 0,
   "metadata": {
    "application/vnd.databricks.v1+cell": {
     "cellMetadata": {
      "byteLimit": 2048000,
      "rowLimit": 10000
     },
     "inputWidgets": {},
     "nuid": "06d6722e-a15d-4f4a-9cfb-9f485c41aff6",
     "showTitle": false,
     "tableResultSettingsMap": {},
     "title": ""
    }
   },
   "outputs": [
    {
     "output_type": "stream",
     "name": "stdout",
     "output_type": "stream",
     "text": [
      "+--------------------+\n|   Author full names|\n+--------------------+\n|Elbour, Aziz (259...|\n|El Ouardi, Otmane...|\n|Benallel, Abderra...|\n|Bousseta, Mohamme...|\n|Lemnawar, A. (589...|\n|Mounnan, Oussama ...|\n|Li, Xue (57221400...|\n|Ouchn, Rachid (57...|\n|Ahmida, Youssef (...|\n|Farooq, Muhammad ...|\n|Laamari, Yassine ...|\n|Ettalibi, Nouhail...|\n|Bifari, Elham N. ...|\n|Laamari, Yassine ...|\n|Adardour, Mohamed...|\n|Alaoui, S. Bouham...|\n|Rouzi, Khouloud (...|\n|Abad, Nadeem (571...|\n|Haloui, Doha (585...|\n|Seqqat, Yousra (5...|\n+--------------------+\nonly showing top 20 rows\n\n"
     ]
    }
   ],
   "source": [
    "df.select(\"Author full names\").show()\n"
   ]
  },
  {
   "cell_type": "code",
   "execution_count": 0,
   "metadata": {
    "application/vnd.databricks.v1+cell": {
     "cellMetadata": {
      "byteLimit": 2048000,
      "rowLimit": 10000
     },
     "inputWidgets": {},
     "nuid": "d4f43597-3bbc-4890-aac8-e7ce91c763e1",
     "showTitle": false,
     "tableResultSettingsMap": {},
     "title": ""
    }
   },
   "outputs": [],
   "source": [
    "df = df.dropDuplicates([\"Title\"])\n"
   ]
  },
  {
   "cell_type": "code",
   "execution_count": 0,
   "metadata": {
    "application/vnd.databricks.v1+cell": {
     "cellMetadata": {
      "byteLimit": 2048000,
      "rowLimit": 10000
     },
     "inputWidgets": {},
     "nuid": "53854670-41dc-4d08-aef0-356b99af311a",
     "showTitle": false,
     "tableResultSettingsMap": {},
     "title": ""
    }
   },
   "outputs": [],
   "source": [
    "df = df.filter(df['Title'].isNotNull())\n"
   ]
  },
  {
   "cell_type": "code",
   "execution_count": 0,
   "metadata": {
    "application/vnd.databricks.v1+cell": {
     "cellMetadata": {
      "byteLimit": 2048000,
      "rowLimit": 10000
     },
     "inputWidgets": {},
     "nuid": "13949ba7-44be-4004-9021-ce4c42ad21df",
     "showTitle": false,
     "tableResultSettingsMap": {},
     "title": ""
    }
   },
   "outputs": [
    {
     "output_type": "stream",
     "name": "stdout",
     "output_type": "stream",
     "text": [
      "Out[25]: 0"
     ]
    }
   ],
   "source": [
    "df.filter(df['Title'].isNull()).count()\n"
   ]
  },
  {
   "cell_type": "code",
   "execution_count": 0,
   "metadata": {
    "application/vnd.databricks.v1+cell": {
     "cellMetadata": {
      "byteLimit": 2048000,
      "rowLimit": 10000
     },
     "inputWidgets": {},
     "nuid": "568a079a-f2a5-4bab-9dca-1d2b86c7a36b",
     "showTitle": false,
     "tableResultSettingsMap": {},
     "title": ""
    }
   },
   "outputs": [
    {
     "output_type": "stream",
     "name": "stdout",
     "output_type": "stream",
     "text": [
      "Out[26]: 0"
     ]
    }
   ],
   "source": [
    "df.filter(df['Page start'] == -1).count()\n"
   ]
  },
  {
   "cell_type": "code",
   "execution_count": 0,
   "metadata": {
    "application/vnd.databricks.v1+cell": {
     "cellMetadata": {
      "byteLimit": 2048000,
      "rowLimit": 10000
     },
     "inputWidgets": {},
     "nuid": "c6d48af8-510e-4988-a2d7-e5ad3935e0b3",
     "showTitle": false,
     "tableResultSettingsMap": {},
     "title": ""
    }
   },
   "outputs": [],
   "source": [
    "#Add a Column where the authors are splitted as an Array\n",
    "df = df.withColumn(\"Authors\", F.split(F.col(\"Authors\"), \",|;\")) \n",
    "df = df.withColumn(\"Authors\", F.expr(\"transform(Authors, x -> trim(lower(x)))\"))\n"
   ]
  },
  {
   "cell_type": "code",
   "execution_count": 0,
   "metadata": {
    "application/vnd.databricks.v1+cell": {
     "cellMetadata": {
      "byteLimit": 2048000,
      "rowLimit": 10000
     },
     "inputWidgets": {},
     "nuid": "6e6d8ab3-0d82-4695-adaf-6d44c9d61a6c",
     "showTitle": false,
     "tableResultSettingsMap": {},
     "title": ""
    }
   },
   "outputs": [
    {
     "output_type": "stream",
     "name": "stdout",
     "output_type": "stream",
     "text": [
      "+--------------------+\n|   Author Full Names|\n+--------------------+\n|Mesrar, M. (57201...|\n|Oulhakem, Oussama...|\n|Ouhaddou, Madani ...|\n|Amenchar, Ouiam (...|\n|Koucham, M’hamed ...|\n|Abbad, Abdelghafo...|\n|Aboussaleh, Ilyas...|\n|Haboubi, Chaimae ...|\n|Benatiya Andalous...|\n|Oumoussa, Idris (...|\n|Al Awaidy, Salah ...|\n|Kim, Hwankoo (569...|\n|Bouhssini, Ahmed ...|\n|Belkadi, Said (57...|\n|Douhi, Saïd (5813...|\n|Briache, Ayoub (5...|\n|Seridi, Karim (58...|\n|Belatik, Assia (5...|\n|Akiirne, Ziad (59...|\n|Refki, Siham (566...|\n|Qasery, Mouna El ...|\n|Hakkoum, Hajar (5...|\n|Houmma, Ismaguil ...|\n|Boumajdi, Nasma (...|\n|Ben Hssain, Idris...|\n|Achagar, Redouane...|\n|Bouanani, Oumaima...|\n|Boussatta, Hicham...|\n|Mimi, Safaa (5855...|\n|Maskar, E. (57221...|\n|Moustabchir, Abde...|\n|Dahbi, Houda (593...|\n|Zarrouk, Yassine ...|\n|Boutyour, Youness...|\n|Chait, Fatima (58...|\n|Rbah, Yahya (5757...|\n|Mohamed, Ait Yous...|\n|Ed-daoudy, Lhouss...|\n|Hamdoune, Meryem ...|\n|Yamni, Mohamed (5...|\n|Elmhaia, Oussama ...|\n|El Idrissi, A. Qa...|\n|El Hadiri, Abdelj...|\n|Ouadou, Mourad (5...|\n|Ahmed, Jafar (582...|\n|Abdellaoui, Ayoub...|\n|Derouech, Oumaima...|\n|Mansour, Abdeljeb...|\n|Adnane, El Mansou...|\n|Chaimae, El Attar...|\n|Ouardi, Ayoub (58...|\n|El Marzougui, Mus...|\n|Naimi, Lahbib (58...|\n|Abassi, Abdelfatt...|\n|Zahra, T. (586973...|\n|Touail, Youssef (...|\n|Sandhu, G.S. (571...|\n|El Azhar, Hamza (...|\n|Khaled Assaad, Re...|\n|Abubakar, Isah Nd...|\n|Zokay, Mustapha (...|\n|Ait Ben Hassi, Yo...|\n|Lagraoui, Mouhssi...|\n|Semmouni, Meryem ...|\n|Massaq, Zakaria (...|\n|Nour, Mohamed-Yas...|\n|El Bourakkadi, Ha...|\n|Saidi, S. (591253...|\n|Mahomed, Nawaz (7...|\n|Boubekri, Abderra...|\n|Benmhahe, Brahim ...|\n|Ghazaoui, Yousra ...|\n|Machkih, Karima (...|\n|Elaidi, Hind (565...|\n|Marzagui, Khadija...|\n|Jabri, Fatima-Ezz...|\n|Bnouhachem, Abdel...|\n|El Haddouti, Sami...|\n|Tligui, Samia (58...|\n|Datsi, Toufik (57...|\n|Ait El Mouden, Ra...|\n|Chakraborty, Rups...|\n|Boumalek, Kaoutar...|\n|Barkal, Youssef (...|\n|Azrour, Mourade (...|\n|Louah, Soulaiman ...|\n|Ihichr, Adel (592...|\n|Lamine, Zakaria (...|\n|Lamaakal, Ismail ...|\n|Hamzaoui, Ikhlass...|\n|Chahbi, Abdellati...|\n|Jrhilifa, Ismael ...|\n|Ayadi, Mohamed E....|\n|El Moussaoui, El ...|\n|Ben-loghfyry, Ano...|\n|Chakit, Miloud (5...|\n|Oudrhiri, Mohamme...|\n|Bouraya, Sara (57...|\n|Arectout, A. (572...|\n|Shtaiwi, Amneh (5...|\n+--------------------+\nonly showing top 100 rows\n\n"
     ]
    }
   ],
   "source": [
    "df.select(df[\"Author Full Names\"]).show(100)\n"
   ]
  },
  {
   "cell_type": "code",
   "execution_count": 0,
   "metadata": {
    "application/vnd.databricks.v1+cell": {
     "cellMetadata": {
      "byteLimit": 2048000,
      "rowLimit": 10000
     },
     "inputWidgets": {},
     "nuid": "f639419b-55dd-4830-a147-515237bad230",
     "showTitle": false,
     "tableResultSettingsMap": {},
     "title": ""
    }
   },
   "outputs": [],
   "source": [
    "#Add two columns where the authors id and full names are splitted as an Array\n",
    "df = df.withColumn(\"Author(s) ID\", F.split(F.col(\"`Author(s) ID`\"), \",|;\"))\n",
    "df = df.withColumn(\"Author(s) ID\", F.expr(\"transform(`Author(s) ID`, x -> trim(x))\"))\n"
   ]
  },
  {
   "cell_type": "code",
   "execution_count": 0,
   "metadata": {
    "application/vnd.databricks.v1+cell": {
     "cellMetadata": {
      "byteLimit": 2048000,
      "rowLimit": 10000
     },
     "inputWidgets": {},
     "nuid": "62af6e9f-b28c-4a42-959e-84b8dbbf558c",
     "showTitle": false,
     "tableResultSettingsMap": {},
     "title": ""
    }
   },
   "outputs": [],
   "source": [
    "df = df.withColumn(\n",
    "    \"Author Full Names\",\n",
    "    F.expr(\"\"\"\n",
    "        transform(\n",
    "            split(`Author Full Names`, ';'),\n",
    "            x -> trim(\n",
    "                    regexp_replace(regexp_replace(x, '[0-9()]+', ''), ',', '')  -- Remove numbers, parentheses, and commas\n",
    "                )\n",
    "        )\n",
    "    \"\"\")\n",
    ")\n",
    "\n",
    "\n"
   ]
  },
  {
   "cell_type": "code",
   "execution_count": 0,
   "metadata": {
    "application/vnd.databricks.v1+cell": {
     "cellMetadata": {
      "byteLimit": 2048000,
      "rowLimit": 10000
     },
     "inputWidgets": {},
     "nuid": "affb15f0-358a-4bfd-8882-6c63298dda12",
     "showTitle": false,
     "tableResultSettingsMap": {},
     "title": ""
    }
   },
   "outputs": [
    {
     "output_type": "stream",
     "name": "stdout",
     "output_type": "stream",
     "text": [
      "Out[31]: ['Authors',\n 'Author Full Names',\n 'Author(s) ID',\n 'Title',\n 'Year',\n 'Source title',\n 'Volume',\n 'Issue',\n 'Art. No.',\n 'Page start',\n 'Page end',\n 'Page count',\n 'Cited by',\n 'DOI',\n 'Link',\n 'Affiliations',\n 'Authors with affiliations',\n 'Abstract',\n 'Author Keywords',\n 'Index Keywords',\n 'Molecular Sequence Numbers',\n 'Chemicals/CAS',\n 'Tradenames',\n 'Manufacturers',\n 'Funding Details',\n 'Funding Texts',\n 'References',\n 'Correspondence Address',\n 'Editors',\n 'Publisher',\n 'Sponsors',\n 'Conference name',\n 'Conference date',\n 'Conference location',\n 'Conference code',\n 'ISSN',\n 'ISBN',\n 'CODEN',\n 'PubMed ID',\n 'Language of Original Document',\n 'Abbreviated Source Title',\n 'Document Type',\n 'Publication Stage',\n 'Open Access',\n 'Source',\n 'EID']"
     ]
    }
   ],
   "source": [
    "df.columns"
   ]
  },
  {
   "cell_type": "markdown",
   "metadata": {
    "application/vnd.databricks.v1+cell": {
     "cellMetadata": {
      "byteLimit": 2048000,
      "rowLimit": 10000
     },
     "inputWidgets": {},
     "nuid": "5ed1b2da-f597-4479-b283-2b537895d267",
     "showTitle": false,
     "tableResultSettingsMap": {},
     "title": ""
    }
   },
   "source": [
    "****Done with authors****"
   ]
  },
  {
   "cell_type": "code",
   "execution_count": 0,
   "metadata": {
    "application/vnd.databricks.v1+cell": {
     "cellMetadata": {
      "byteLimit": 2048000,
      "rowLimit": 10000
     },
     "inputWidgets": {},
     "nuid": "63c26198-62e5-4eae-9372-24e2d3837926",
     "showTitle": false,
     "tableResultSettingsMap": {},
     "title": ""
    }
   },
   "outputs": [],
   "source": [
    "df = df.withColumn(\"Affiliations_Cleaned\", F.regexp_replace(F.col(\"Affiliations\"), \",\", \" \"))\n",
    "df = df.withColumn(\"Affiliations\", F.split(F.col(\"Affiliations_Cleaned\"), \";\"))\n",
    "\n",
    "# Optionally, drop the temporary 'Affiliations_Cleaned' column\n",
    "df = df.drop(\"Affiliations_Cleaned\")"
   ]
  },
  {
   "cell_type": "code",
   "execution_count": 0,
   "metadata": {
    "application/vnd.databricks.v1+cell": {
     "cellMetadata": {
      "byteLimit": 2048000,
      "rowLimit": 10000
     },
     "inputWidgets": {},
     "nuid": "00a50bc6-2829-4d9d-a52d-9bee1d2ba5ca",
     "showTitle": false,
     "tableResultSettingsMap": {},
     "title": ""
    }
   },
   "outputs": [],
   "source": [
    "from pyspark.sql import functions as F\n",
    "\n",
    "# Truncate the 'Abstract' column to 3000 characters\n",
    "df = df.withColumn(\"Abstract\", F.when(F.length(F.col(\"Abstract\")) > 3000, F.expr(\"substring(Abstract, 1, 3000)\"))\n",
    "                  .otherwise(F.col(\"Abstract\")))\n"
   ]
  },
  {
   "cell_type": "markdown",
   "metadata": {
    "application/vnd.databricks.v1+cell": {
     "cellMetadata": {
      "byteLimit": 2048000,
      "rowLimit": 10000
     },
     "inputWidgets": {},
     "nuid": "bee47650-36a7-4a5f-b08e-78b5c5b4b37c",
     "showTitle": false,
     "tableResultSettingsMap": {},
     "title": ""
    }
   },
   "source": [
    "**done with affiliations**"
   ]
  },
  {
   "cell_type": "code",
   "execution_count": 0,
   "metadata": {
    "application/vnd.databricks.v1+cell": {
     "cellMetadata": {
      "byteLimit": 2048000,
      "rowLimit": 10000
     },
     "inputWidgets": {},
     "nuid": "a03e5b1f-9ed0-4757-807a-bf081853bd89",
     "showTitle": false,
     "tableResultSettingsMap": {},
     "title": ""
    }
   },
   "outputs": [],
   "source": [
    "df = df.withColumnRenamed(\"Art. No.\", \"article_number\")\n"
   ]
  },
  {
   "cell_type": "code",
   "execution_count": 0,
   "metadata": {
    "application/vnd.databricks.v1+cell": {
     "cellMetadata": {
      "byteLimit": 2048000,
      "rowLimit": 10000
     },
     "inputWidgets": {},
     "nuid": "7ac7cc74-3d81-4013-a56c-71c3f6ec914b",
     "showTitle": false,
     "tableResultSettingsMap": {},
     "title": ""
    }
   },
   "outputs": [
    {
     "output_type": "stream",
     "name": "stdout",
     "output_type": "stream",
     "text": [
      "Out[35]: ['Authors',\n 'Author Full Names',\n 'Author(s) ID',\n 'Title',\n 'Year',\n 'Source title',\n 'Volume',\n 'Issue',\n 'article_number',\n 'Page start',\n 'Page end',\n 'Page count',\n 'Cited by',\n 'DOI',\n 'Link',\n 'Affiliations',\n 'Authors with affiliations',\n 'Abstract',\n 'Author Keywords',\n 'Index Keywords',\n 'Molecular Sequence Numbers',\n 'Chemicals/CAS',\n 'Tradenames',\n 'Manufacturers',\n 'Funding Details',\n 'Funding Texts',\n 'References',\n 'Correspondence Address',\n 'Editors',\n 'Publisher',\n 'Sponsors',\n 'Conference name',\n 'Conference date',\n 'Conference location',\n 'Conference code',\n 'ISSN',\n 'ISBN',\n 'CODEN',\n 'PubMed ID',\n 'Language of Original Document',\n 'Abbreviated Source Title',\n 'Document Type',\n 'Publication Stage',\n 'Open Access',\n 'Source',\n 'EID']"
     ]
    }
   ],
   "source": [
    "df.columns"
   ]
  },
  {
   "cell_type": "code",
   "execution_count": 0,
   "metadata": {
    "application/vnd.databricks.v1+cell": {
     "cellMetadata": {
      "byteLimit": 2048000,
      "rowLimit": 10000
     },
     "inputWidgets": {},
     "nuid": "491e26da-d10d-411a-9658-7a582fcb7317",
     "showTitle": false,
     "tableResultSettingsMap": {},
     "title": ""
    }
   },
   "outputs": [
    {
     "output_type": "stream",
     "name": "stdout",
     "output_type": "stream",
     "text": [
      "+---------------------------------------------------------------------------------------------------------------------------------------------------------------------------------------------------------------------------------------------------------------------------------------------------------------------------------------------------------------------------------------------------------------------------------------------------------------------------------------------------------------------------------------------------------------------------------------------------------------------------------------------------------------------------------------------------------------------------------------------------------------------------------------------------------------------------------------------------------------------------------------------------------------------------------------------------------------------------------------------------------------------------------------------------------------------------------------------------------------------------------------------------------------------------------------------------------------------------------------------------------------------------------------------------------------------------------------------------------------------------------------------------------------------------------------------------------------------------------------------------------------------------------------------------------------------------------------------------------------------------------------------------------------------------------------------------------------------------------------------------------------------------------+\n|Authors with affiliations                                                                                                                                                                                                                                                                                                                                                                                                                                                                                                                                                                                                                                                                                                                                                                                                                                                                                                                                                                                                                                                                                                                                                                                                                                                                                                                                                                                                                                                                                                                                                                                                                                                                                                                                                        |\n+---------------------------------------------------------------------------------------------------------------------------------------------------------------------------------------------------------------------------------------------------------------------------------------------------------------------------------------------------------------------------------------------------------------------------------------------------------------------------------------------------------------------------------------------------------------------------------------------------------------------------------------------------------------------------------------------------------------------------------------------------------------------------------------------------------------------------------------------------------------------------------------------------------------------------------------------------------------------------------------------------------------------------------------------------------------------------------------------------------------------------------------------------------------------------------------------------------------------------------------------------------------------------------------------------------------------------------------------------------------------------------------------------------------------------------------------------------------------------------------------------------------------------------------------------------------------------------------------------------------------------------------------------------------------------------------------------------------------------------------------------------------------------------+\n|Mesrar M., Signals, Systems and Components Laboratory (LSSC), Faculty of Sciences and Technologies of Fez, Sidi Mohamed Ben Abdellah University, B.P. 2022, Fez, Morocco; Majdoubi H., Materials Science Energy and Nanoengineering Department, Mohamed VI Polytechnic University, Benguerir, Morocco; Le Y., University of Chinese Academy, 28 Road, Beijing, 100041, China                                                                                                                                                                                                                                                                                                                                                                                                                                                                                                                                                                                                                                                                                                                                                                                                                                                                                                                                                                                                                                                                                                                                                                                                                                                                                                                                                                                                     |\n|Ouhaddou M., Molecular Chemistry, Materials and Catalysis Laboratory, Faculty of Sciences and Technologies, Sultan Moulay Slimane University, BP 523, Beni-Mellal, 23000, Morocco; Bouissane L., Molecular Chemistry, Materials and Catalysis Laboratory, Faculty of Sciences and Technologies, Sultan Moulay Slimane University, BP 523, Beni-Mellal, 23000, Morocco; Zazouli S., Molecular Chemistry, Materials and Catalysis Laboratory, Faculty of Sciences and Technologies, Sultan Moulay Slimane University, BP 523, Beni-Mellal, 23000, Morocco; Jouffret L., Institut de Chimie de Clermont-Ferrand, Université Blaise Pascal, ICCF-UMR 6296, Aubière, F-63178, France; Hafid A., Molecular Chemistry, Materials and Catalysis Laboratory, Faculty of Sciences and Technologies, Sultan Moulay Slimane University, BP 523, Beni-Mellal, 23000, Morocco; Khouili M., Molecular Chemistry, Materials and Catalysis Laboratory, Faculty of Sciences and Technologies, Sultan Moulay Slimane University, BP 523, Beni-Mellal, 23000, Morocco; Ketatni E.M., Molecular Chemistry, Materials and Catalysis Laboratory, Faculty of Sciences and Technologies, Sultan Moulay Slimane University, BP 523, Beni-Mellal, 23000, Morocco                                                                                                                                                                                                                                                                                                                                                                                                                                                                                                                                            |\n|Amenchar O., University of Abdelmalek Essâddi, LabTIC, ENSA of Tangier, Tangier, Morocco; Baghouri M., LCCPS, ENSAM of Casablanca, University of Hassan II, Casablanca, Morocco; Chakkor S., University of Abdelmalek Essâddi, LabTIC, ENSA of Tangier, Tangier, Morocco; Dkiouak A., LaSIT, ENSA of Tetuan, University of Abdelmalek Essaadi, Tetuan, Morocco; Lagmich Y., University of Abdelmalek Essaadi, Faculty Polydisciplinaire of Larache, Larache, Morocco                                                                                                                                                                                                                                                                                                                                                                                                                                                                                                                                                                                                                                                                                                                                                                                                                                                                                                                                                                                                                                                                                                                                                                                                                                                                                                             |\n|Koucham M., Resources Valorization, Environment and Sustainable Development Research Team (RVESD), Department of Mines, Mines School of Rabat, Ave Hadj Ahmed Cherkaoui, BP 753, Agdal, Rabat, 10090, Morocco; Ait-Khouia Y., Geology and Sustainable Mining Institute, Mohammed VI Polytechnic University, Lot 660, Hay Moulay Rachid, Ben Guerir, 43150, Morocco; Soulaimani S., Resources Valorization, Environment and Sustainable Development Research Team (RVESD), Department of Mines, Mines School of Rabat, Ave Hadj Ahmed Cherkaoui, BP 753, Agdal, Rabat, 10090, Morocco, Geology and Sustainable Mining Institute, Mohammed VI Polytechnic University, Lot 660, Hay Moulay Rachid, Ben Guerir, 43150, Morocco; El-Adnani M., Resources Valorization, Environment and Sustainable Development Research Team (RVESD), Department of Mines, Mines School of Rabat, Ave Hadj Ahmed Cherkaoui, BP 753, Agdal, Rabat, 10090, Morocco; Khalil A., Resources Valorization, Environment and Sustainable Development Research Team (RVESD), Department of Mines, Mines School of Rabat, Ave Hadj Ahmed Cherkaoui, BP 753, Agdal, Rabat, 10090, Morocco, Geology and Sustainable Mining Institute, Mohammed VI Polytechnic University, Lot 660, Hay Moulay Rachid, Ben Guerir, 43150, Morocco                                                                                                                                                                                                                                                                                                                                                                                                                                                                                  |\n|Abbad A., ISA, Department of Computer Science, Faculty of Science and Technology, University Sidi Mohamed Ben Abdelah, Fez, Morocco; El Kaitouni S.E.I., LISAC, Department of Computer Science, Faculty of Sciences Dhar El Mahraz, University Sidi Mohamed Ben Abdelah, Fez, Morocco; Benhdech A., Computer Science and Systems Engineering, Department of Computer Science, Faculty of Science and Technology, University Abdelmalek Essaadi, Tetouan, Morocco; Abbad K., ISA, Department of Computer Science, Faculty of Science and Technology, University Sidi Mohamed Ben Abdelah, Fez, Morocco; Tairi H., LISAC, Department of Computer Science, Faculty of Sciences Dhar El Mahraz, University Sidi Mohamed Ben Abdelah, Fez, Morocco                                                                                                                                                                                                                                                                                                                                                                                                                                                                                                                                                                                                                                                                                                                                                                                                                                                                                                                                                                                                                                    |\n|Aboussaleh I., LISAC Laboratory, Department of Computer Sciences, Faculty of Sciences, Sidi Mohamed ben Abdellah University, Dhar El Mahraz, Fez, 30050, Morocco; Riffi J., LISAC Laboratory, Department of Computer Sciences, Faculty of Sciences, Sidi Mohamed ben Abdellah University, Dhar El Mahraz, Fez, 30050, Morocco; el Fazazy K., LISAC Laboratory, Department of Computer Sciences, Faculty of Sciences, Sidi Mohamed ben Abdellah University, Dhar El Mahraz, Fez, 30050, Morocco; Mahraz A.M., LISAC Laboratory, Department of Computer Sciences, Faculty of Sciences, Sidi Mohamed ben Abdellah University, Dhar El Mahraz, Fez, 30050, Morocco; Tairi H., LISAC Laboratory, Department of Computer Sciences, Faculty of Sciences, Sidi Mohamed ben Abdellah University, Dhar El Mahraz, Fez, 30050, Morocco                                                                                                                                                                                                                                                                                                                                                                                                                                                                                                                                                                                                                                                                                                                                                                                                                                                                                                                                                      |\n|Haboubi C., Department of Energy and Environmental Civil Engineering, National School of Applied Sciences of Al-Hoceima, Engineering Sciences and Applications Laboratory, Abdelmalek Essaâdi University, Tetouan, Morocco; El Hammoudani Y., Department of Energy and Environmental Civil Engineering, National School of Applied Sciences of Al-Hoceima, Engineering Sciences and Applications Laboratory, Abdelmalek Essaâdi University, Tetouan, Morocco; Jaradat N., Faculty of Medicine and Health Sciences, An-Najah National University, Nablus, Palestine; Jodeh S., Department of Chemistry, An-Najah National University, Nablus, Palestine; Haboubi K., Department of Energy and Environmental Civil Engineering, National School of Applied Sciences of Al-Hoceima, Engineering Sciences and Applications Laboratory, Abdelmalek Essaâdi University, Tetouan, Morocco; Dimane F., Department of Energy and Environmental Civil Engineering, National School of Applied Sciences of Al-Hoceima, Engineering Sciences and Applications Laboratory, Abdelmalek Essaâdi University, Tetouan, Morocco                                                                                                                                                                                                                                                                                                                                                                                                                                                                                                                                                                                                                                                                    |\n|Benatiya Andaloussi M., FPSB, Chouaib Doukkali University, El Jadida, Morocco                                                                                                                                                                                                                                                                                                                                                                                                                                                                                                                                                                                                                                                                                                                                                                                                                                                                                                                                                                                                                                                                                                                                                                                                                                                                                                                                                                                                                                                                                                                                                                                                                                                                                                    |\n|Oumoussa I., SI2M Laboratory, National Institute of Statistics and Applied Economics, Rabat, Morocco; Saidi R., SI2M Laboratory, National Institute of Statistics and Applied Economics, Rabat, Morocco; Daoud M., Claude Bernard Lyon 1 University, Lyon, France; Moha N., Ecole de Technologie Supérieure, Montreal, Canada; Faieq S., Faculty of Sciences, Mohammed V University, Rabat, Morocco                                                                                                                                                                                                                                                                                                                                                                                                                                                                                                                                                                                                                                                                                                                                                                                                                                                                                                                                                                                                                                                                                                                                                                                                                                                                                                                                                                              |\n|Al Awaidy S.T., Middle East, Africa, and Eurasia Influenza Stakeholder Network (MENA-ISN), P.O.Box 393 PC 100, Muscat, Oman; Koul P.A., Middle East, Africa, and Eurasia Influenza Stakeholder Network (MENA-ISN), P.O.Box 393 PC 100, Muscat, Oman, Internal and Pulmonary Medicine Department, Sheri Kashmir Institute of Medical Sciences, Srinagar, India; Khamis F., Adult Infectious Diseases, Department of Medicine, Royal Hospital, MOH, Muscat, Oman; Al Slil F., Middle East, Africa, and Eurasia Influenza Stakeholder Network (MENA-ISN), P.O.Box 393 PC 100, Muscat, Oman, Directorate of the National Diabetes Prevention and Control Program, Ministry of Health, Riyadh, Saudi Arabia; Jroundi I., Middle East, Africa, and Eurasia Influenza Stakeholder Network (MENA-ISN), P.O.Box 393 PC 100, Muscat, Oman, Faculty of Medicine and Pharmacy of Rabat, Mohammed V University, Rabat, Morocco; Al Olama F., Child Health section, Dubai Health Authority, Dubai, United Arab Emirates; Elawad K.H., Health Protection, Primary Health Care Center, MOPH, Doha, Qatar; Abuhasan M.Y.H., Department of National immunization Program, Ministry of Health, Riyadh, Saudi Arabia; Al Oraimi F., Health Affairs, Muscat MOH, Oman; Tanriover M.D., Middle East, Africa, and Eurasia Influenza Stakeholder Network (MENA-ISN), P.O.Box 393 PC 100, Muscat, Oman, Department of Internal Medicine, Division of General Internal Medicine, Hacettepe University Faculty of Medicine, Ankara, Turkey; Zaraket H., Middle East, Africa, and Eurasia Influenza Stakeholder Network (MENA-ISN), P.O.Box 393 PC 100, Muscat, Oman, Department of Experimental Pathology, Immunology, and Microbiology, Faculty of Medicine, American University of Beirut, Beirut, Lebanon|\n|Kim H., Division of Computer Engineering, Hoseo University, Asan, 31499, South Korea; Mahdou N., Department of Mathematics, Faculty of Science and Technology of Fez, University S. M. Ben Abdellah, Box 2202, Fez, Morocco; Oubouhou E.H., Department of Mathematics, Faculty of Science and Technology of Fez, University S. M. Ben Abdellah, Box 2202, Fez, Morocco                                                                                                                                                                                                                                                                                                                                                                                                                                                                                                                                                                                                                                                                                                                                                                                                                                                                                                                                                                                                                                                                                                                                                                                                                                                                                                                                                                                                           |\n|Bouhssini A., Laboratory of Plants, Animals Productions and Agro-Industry, Faculty of Sciences, Ibn Tofail University, BP 133, Kenitra, 14000, Morocco; Achoual K., Laboratory of Plants, Animals Productions and Agro-Industry, Faculty of Sciences, Ibn Tofail University, BP 133, Kenitra, 14000, Morocco; Saadi K., Laboratory of Plants, Animals Productions and Agro-Industry, Faculty of Sciences, Ibn Tofail University, BP 133, Kenitra, 14000, Morocco; Dahmani J., Laboratory of Plants, Animals Productions and Agro-Industry, Faculty of Sciences, Ibn Tofail University, BP 133, Kenitra, 14000, Morocco; Belahbib N., Laboratory of Plants, Animals Productions and Agro-Industry, Faculty of Sciences, Ibn Tofail University, BP 133, Kenitra, 14000, Morocco                                                                                                                                                                                                                                                                                                                                                                                                                                                                                                                                                                                                                                                                                                                                                                                                                                                                                                                                                                                                    |\n|Belkadi S., Department of Mathematics, Multidisciplinary Faculty of Nador, University Mohammed First, Oujda, Morocco; Atounti M., Department of Mathematics, Multidisciplinary Faculty of Nador, University Mohammed First, Oujda, Morocco                                                                                                                                                                                                                                                                                                                                                                                                                                                                                                                                                                                                                                                                                                                                                                                                                                                                                                                                                                                                                                                                                                                                                                                                                                                                                                                                                                                                                                                                                                                                       |\n|Douhi S., Laboratory of Physics of Condensed Matter (LPMC), Faculty of Sciences Ben M’Sik, Hassan II University of Casablanca, Casablanca, Morocco, REMTEX Laboratory, Higher School of Textile and Clothing Industries (ESITH), Casablanca, Morocco; Eddiai A., Laboratory of Physics of Condensed Matter (LPMC), Faculty of Sciences Ben M’Sik, Hassan II University of Casablanca, Casablanca, Morocco; Islam T., Department of Electrical and Computer Engineering, University of Houston, Houston, 77204, TX, United States; Das S., Department of Electronics and Communication Engineering, IMPS College of Engineering and Technology, West Bengal, Malda, 732103, India; Cherkaoui O., REMTEX Laboratory, Higher School of Textile and Clothing Industries (ESITH), Casablanca, Morocco; Mazroui M., Laboratory of Physics of Condensed Matter (LPMC), Faculty of Sciences Ben M’Sik, Hassan II University of Casablanca, Casablanca, Morocco                                                                                                                                                                                                                                                                                                                                                                                                                                                                                                                                                                                                                                                                                                                                                                                                                           |\n|Briache A., MaSEEL, FSTT, Abdelmalek Essaâdi University, Tetouan, Morocco; Afass A., MaSEEL, FSTT, Abdelmalek Essaâdi University, Tetouan, Morocco; Ouardouz M., MaSEEL, FSTT, Abdelmalek Essaâdi University, Tetouan, Morocco; Ahachad M., MaSEEL, FSTT, Abdelmalek Essaâdi University, Tetouan, Morocco; Mahdaoui M., MaSEEL, FSTT, Abdelmalek Essaâdi University, Tetouan, Morocco, Univ. Polytechnique Hauts-de-France, CNRS, UMR 8201 – LAMIH, Valenciennes, F-59313, France                                                                                                                                                                                                                                                                                                                                                                                                                                                                                                                                                                                                                                                                                                                                                                                                                                                                                                                                                                                                                                                                                                                                                                                                                                                                                                |\n|Seridi K., SIRC-LAGES Lab, Hassania School of Public Works, Casablanca, Morocco; El Rharras A., SIRC-LAGES Lab, Hassania School of Public Works, Casablanca, Morocco                                                                                                                                                                                                                                                                                                                                                                                                                                                                                                                                                                                                                                                                                                                                                                                                                                                                                                                                                                                                                                                                                                                                                                                                                                                                                                                                                                                                                                                                                                                                                                                                             |\n|Belatik A., Faculty of Sciences Dhar Mahraz, Sidi Mohamed Ben Abdellah University, Fez, Morocco; Sabri M.A., Faculty of Sciences Dhar Mahraz, Sidi Mohamed Ben Abdellah University, Fez, Morocco; El Khoukhi H., Faculty of Sciences Dhar Mahraz, Sidi Mohamed Ben Abdellah University, Fez, Morocco; Aarab A., Faculty of Sciences Dhar Mahraz, Sidi Mohamed Ben Abdellah University, Fez, Morocco                                                                                                                                                                                                                                                                                                                                                                                                                                                                                                                                                                                                                                                                                                                                                                                                                                                                                                                                                                                                                                                                                                                                                                                                                                                                                                                                                                              |\n|Akiirne Z., ENSIAS, Mohammed V University in Rabat, Smart Systems Laboratory (SSL), Morocco; Benkirane A., ENSIAS, Mohammed V University in Rabat, Morocco; Bouzidi D., ENSIAS, Mohammed V University in Rabat, Smart Systems Laboratory (SSL), Morocco                                                                                                                                                                                                                                                                                                                                                                                                                                                                                                                                                                                                                                                                                                                                                                                                                                                                                                                                                                                                                                                                                                                                                                                                                                                                                                                                                                                                                                                                                                                          |\n|Qasery M.E., Mohamadia School of Engineers, Department of Electrical Engineering, Mohammed V University, Rabat, Morocco, Green Energy Park, Benguerir, Morocco; Barkouki B.E.L., Mohamadia School of Engineers, Department of Electrical Engineering, Mohammed V University, Rabat, Morocco, Green Energy Park, Benguerir, Morocco; Laamim M., Laboratoire Des Sciences de L’Ingénieur & Biosciences (LSIB), Faculté Des Sciences Et Techniques de Mohammedia, Mohammedia, Morocco, Green Energy Park, Benguerir, Morocco; Rochd A., Electrical Engineering and Intelligent System Laboratory, ENSET, Hassan II University Green Energy Park Mohammedia, Mohammedia, Morocco, Green Energy Park, Benguerir, Morocco; Mahir O., Laboratory of Signals, Systems, and Components, University Sidi Mohamed Ben Abdellah, Fez, Morocco, Green Energy Park, Benguerir, Morocco; Abbou A., Mohamadia School of Engineers, Department of Electrical Engineering, Mohammed V University, Rabat, Morocco                                                                                                                                                                                                                                                                                                                                                                                                                                                                                                                                                                                                                                                                                                                                                                                   |\n|Hakkoum H., SPM, ENSIAS, Mohammed V University, Rabat, Morocco; Idri A., SPM, ENSIAS, Mohammed V University, Rabat, Morocco, Faculty of Medical Sciences, Mohammed VI Polytechnic University, Ben Guerir, Morocco                                                                                                                                                                                                                                                                                                                                                                                                                                                                                                                                                                                                                                                                                                                                                                                                                                                                                                                                                                                                                                                                                                                                                                                                                                                                                                                                                                                                                                                                                                                                                                |\n+---------------------------------------------------------------------------------------------------------------------------------------------------------------------------------------------------------------------------------------------------------------------------------------------------------------------------------------------------------------------------------------------------------------------------------------------------------------------------------------------------------------------------------------------------------------------------------------------------------------------------------------------------------------------------------------------------------------------------------------------------------------------------------------------------------------------------------------------------------------------------------------------------------------------------------------------------------------------------------------------------------------------------------------------------------------------------------------------------------------------------------------------------------------------------------------------------------------------------------------------------------------------------------------------------------------------------------------------------------------------------------------------------------------------------------------------------------------------------------------------------------------------------------------------------------------------------------------------------------------------------------------------------------------------------------------------------------------------------------------------------------------------------------+\nonly showing top 20 rows\n\n"
     ]
    }
   ],
   "source": [
    "df[['Authors with affiliations']].show(truncate=False)\n"
   ]
  },
  {
   "cell_type": "code",
   "execution_count": 0,
   "metadata": {
    "application/vnd.databricks.v1+cell": {
     "cellMetadata": {
      "byteLimit": 2048000,
      "rowLimit": 10000
     },
     "inputWidgets": {},
     "nuid": "175f8217-54d8-420d-84cc-2396729b64db",
     "showTitle": false,
     "tableResultSettingsMap": {},
     "title": ""
    }
   },
   "outputs": [],
   "source": [
    "df = df.fillna({\"Page start\": -1, \"Page end\": -1})\n"
   ]
  },
  {
   "cell_type": "code",
   "execution_count": 0,
   "metadata": {
    "application/vnd.databricks.v1+cell": {
     "cellMetadata": {
      "byteLimit": 2048000,
      "rowLimit": 10000
     },
     "inputWidgets": {},
     "nuid": "bf5cfee6-b522-4677-9919-c18475988efa",
     "showTitle": false,
     "tableResultSettingsMap": {},
     "title": ""
    }
   },
   "outputs": [],
   "source": [
    "df = df.fillna({\"Cited by\": 0})\n"
   ]
  },
  {
   "cell_type": "code",
   "execution_count": 0,
   "metadata": {
    "application/vnd.databricks.v1+cell": {
     "cellMetadata": {
      "byteLimit": 2048000,
      "rowLimit": 10000
     },
     "inputWidgets": {},
     "nuid": "a8e0f8d3-ac16-47e3-9097-36dced4aaf51",
     "showTitle": false,
     "tableResultSettingsMap": {},
     "title": ""
    }
   },
   "outputs": [],
   "source": [
    "df = df.fillna({\"DOI\": 0})\n"
   ]
  },
  {
   "cell_type": "code",
   "execution_count": 0,
   "metadata": {
    "application/vnd.databricks.v1+cell": {
     "cellMetadata": {
      "byteLimit": 2048000,
      "rowLimit": 10000
     },
     "inputWidgets": {},
     "nuid": "de39057a-039e-4745-90a5-8917949d6672",
     "showTitle": false,
     "tableResultSettingsMap": {},
     "title": ""
    }
   },
   "outputs": [
    {
     "output_type": "stream",
     "name": "stdout",
     "output_type": "stream",
     "text": [
      "+--------------------------------------------------------------------------------------------------------------------------------------------------------------------------------------------------------------------------------------------------------------------------------------------------------------------------------------------------------------------------------------------------------------------------------------------------------------------------------------------------------------------------------------------------------------------------------------------------------------------------------------------------------------------------------------------------------------------------------------------------------------------------------------------------------------------------------------------------------------------------------------------------------------------------------------------------------------------------------------------------------------------------------------------------------------------------------------------------------------------------------------------------------------------------------------------------------------------------------------------------------------------------------------------------------------------------------------------------------------------------------------------------------------------------------------------------------------------------------------------------------------------------------------------------------------------------------------------------------------------------------------------------------------------------------------------------------------------------------------------------------------------------------------------------------------------------------------------------------------------------------+\n|'Authors with affiliations                                                                                                                                                                                                                                                                                                                                                                                                                                                                                                                                                                                                                                                                                                                                                                                                                                                                                                                                                                                                                                                                                                                                                                                                                                                                                                                                                                                                                                                                                                                                                                                                                                                                                                                                                                                                                                                      |\n+--------------------------------------------------------------------------------------------------------------------------------------------------------------------------------------------------------------------------------------------------------------------------------------------------------------------------------------------------------------------------------------------------------------------------------------------------------------------------------------------------------------------------------------------------------------------------------------------------------------------------------------------------------------------------------------------------------------------------------------------------------------------------------------------------------------------------------------------------------------------------------------------------------------------------------------------------------------------------------------------------------------------------------------------------------------------------------------------------------------------------------------------------------------------------------------------------------------------------------------------------------------------------------------------------------------------------------------------------------------------------------------------------------------------------------------------------------------------------------------------------------------------------------------------------------------------------------------------------------------------------------------------------------------------------------------------------------------------------------------------------------------------------------------------------------------------------------------------------------------------------------+\n|{Le Y. -> University of Chinese Academy,  28 Road,  Beijing,  100041,  China, Majdoubi H. -> Materials Science Energy and Nanoengineering Department,  Mohamed VI Polytechnic University,  Benguerir,  Morocco, Mesrar M. -> Signals,  Systems and Components Laboratory (LSSC),  Faculty of Sciences and Technologies of Fez,  Sidi Mohamed Ben Abdellah University,  B.P. 2022,  Fez,  Morocco}                                                                                                                                                                                                                                                                                                                                                                                                                                                                                                                                                                                                                                                                                                                                                                                                                                                                                                                                                                                                                                                                                                                                                                                                                                                                                                                                                                                                                                                                               |\n|{Hafid A. -> Molecular Chemistry,  Materials and Catalysis Laboratory,  Faculty of Sciences and Technologies,  Sultan Moulay Slimane University,  BP 523,  Beni-Mellal,  23000,  Morocco, Ketatni E.M. -> Molecular Chemistry,  Materials and Catalysis Laboratory,  Faculty of Sciences and Technologies,  Sultan Moulay Slimane University,  BP 523,  Beni-Mellal,  23000,  Morocco, Ouhaddou M. -> Molecular Chemistry,  Materials and Catalysis Laboratory,  Faculty of Sciences and Technologies,  Sultan Moulay Slimane University,  BP 523,  Beni-Mellal,  23000,  Morocco, Khouili M. -> Molecular Chemistry,  Materials and Catalysis Laboratory,  Faculty of Sciences and Technologies,  Sultan Moulay Slimane University,  BP 523,  Beni-Mellal,  23000,  Morocco, Bouissane L. -> Molecular Chemistry,  Materials and Catalysis Laboratory,  Faculty of Sciences and Technologies,  Sultan Moulay Slimane University,  BP 523,  Beni-Mellal,  23000,  Morocco, Zazouli S. -> Molecular Chemistry,  Materials and Catalysis Laboratory,  Faculty of Sciences and Technologies,  Sultan Moulay Slimane University,  BP 523,  Beni-Mellal,  23000,  Morocco, Jouffret L. -> Institut de Chimie de Clermont-Ferrand,  Université Blaise Pascal,  ICCF-UMR 6296,  Aubière,  F-63178,  France}                                                                                                                                                                                                                                                                                                                                                                                                                                                                                                                                                                            |\n|{Dkiouak A. -> LaSIT,  ENSA of Tetuan,  University of Abdelmalek Essaadi,  Tetuan,  Morocco, Lagmich Y. -> University of Abdelmalek Essaadi,  Faculty Polydisciplinaire of Larache,  Larache,  Morocco, Baghouri M. -> LCCPS,  ENSAM of Casablanca,  University of Hassan II,  Casablanca,  Morocco, Chakkor S. -> University of Abdelmalek Essâddi,  LabTIC,  ENSA of Tangier,  Tangier,  Morocco, Amenchar O. -> University of Abdelmalek Essâddi,  LabTIC,  ENSA of Tangier,  Tangier,  Morocco}                                                                                                                                                                                                                                                                                                                                                                                                                                                                                                                                                                                                                                                                                                                                                                                                                                                                                                                                                                                                                                                                                                                                                                                                                                                                                                                                                                             |\n|{Ait-Khouia Y. -> Geology and Sustainable Mining Institute,  Mohammed VI Polytechnic University,  Lot 660,  Hay Moulay Rachid,  Ben Guerir,  43150,  Morocco, Soulaimani S. -> Resources Valorization,  Environment and Sustainable Development Research Team (RVESD),  Department of Mines,  Mines School of Rabat,  Ave Hadj Ahmed Cherkaoui,  BP 753,  Agdal,  Rabat,  10090,  Morocco,  Geology and Sustainable Mining Institute,  Mohammed VI Polytechnic University,  Lot 660,  Hay Moulay Rachid,  Ben Guerir,  43150,  Morocco, Koucham M. -> Resources Valorization,  Environment and Sustainable Development Research Team (RVESD),  Department of Mines,  Mines School of Rabat,  Ave Hadj Ahmed Cherkaoui,  BP 753,  Agdal,  Rabat,  10090,  Morocco, Khalil A. -> Resources Valorization,  Environment and Sustainable Development Research Team (RVESD),  Department of Mines,  Mines School of Rabat,  Ave Hadj Ahmed Cherkaoui,  BP 753,  Agdal,  Rabat,  10090,  Morocco,  Geology and Sustainable Mining Institute,  Mohammed VI Polytechnic University,  Lot 660,  Hay Moulay Rachid,  Ben Guerir,  43150,  Morocco, El-Adnani M. -> Resources Valorization,  Environment and Sustainable Development Research Team (RVESD),  Department of Mines,  Mines School of Rabat,  Ave Hadj Ahmed Cherkaoui,  BP 753,  Agdal,  Rabat,  10090,  Morocco}                                                                                                                                                                                                                                                                                                                                                                                                                                                                                                             |\n|{Tairi H. -> LISAC,  Department of Computer Science,  Faculty of Sciences Dhar El Mahraz,  University Sidi Mohamed Ben Abdelah,  Fez,  Morocco, Abbad K. -> ISA,  Department of Computer Science,  Faculty of Science and Technology,  University Sidi Mohamed Ben Abdelah,  Fez,  Morocco, El Kaitouni S.E.I. -> LISAC,  Department of Computer Science,  Faculty of Sciences Dhar El Mahraz,  University Sidi Mohamed Ben Abdelah,  Fez,  Morocco, Benhdech A. -> Computer Science and Systems Engineering,  Department of Computer Science,  Faculty of Science and Technology,  University Abdelmalek Essaadi,  Tetouan,  Morocco, Abbad A. -> ISA,  Department of Computer Science,  Faculty of Science and Technology,  University Sidi Mohamed Ben Abdelah,  Fez,  Morocco}                                                                                                                                                                                                                                                                                                                                                                                                                                                                                                                                                                                                                                                                                                                                                                                                                                                                                                                                                                                                                                                                                              |\n|{Riffi J. -> LISAC Laboratory,  Department of Computer Sciences,  Faculty of Sciences,  Sidi Mohamed ben Abdellah University,  Dhar El Mahraz,  Fez,  30050,  Morocco, Tairi H. -> LISAC Laboratory,  Department of Computer Sciences,  Faculty of Sciences,  Sidi Mohamed ben Abdellah University,  Dhar El Mahraz,  Fez,  30050,  Morocco, Mahraz A.M. -> LISAC Laboratory,  Department of Computer Sciences,  Faculty of Sciences,  Sidi Mohamed ben Abdellah University,  Dhar El Mahraz,  Fez,  30050,  Morocco, el Fazazy K. -> LISAC Laboratory,  Department of Computer Sciences,  Faculty of Sciences,  Sidi Mohamed ben Abdellah University,  Dhar El Mahraz,  Fez,  30050,  Morocco, Aboussaleh I. -> LISAC Laboratory,  Department of Computer Sciences,  Faculty of Sciences,  Sidi Mohamed ben Abdellah University,  Dhar El Mahraz,  Fez,  30050,  Morocco}                                                                                                                                                                                                                                                                                                                                                                                                                                                                                                                                                                                                                                                                                                                                                                                                                                                                                                                                                                                                      |\n|{Jaradat N. -> Faculty of Medicine and Health Sciences,  An-Najah National University,  Nablus,  Palestine, Haboubi K. -> Department of Energy and Environmental Civil Engineering,  National School of Applied Sciences of Al-Hoceima,  Engineering Sciences and Applications Laboratory,  Abdelmalek Essaâdi University,  Tetouan,  Morocco, Jodeh S. -> Department of Chemistry,  An-Najah National University,  Nablus,  Palestine, El Hammoudani Y. -> Department of Energy and Environmental Civil Engineering,  National School of Applied Sciences of Al-Hoceima,  Engineering Sciences and Applications Laboratory,  Abdelmalek Essaâdi University,  Tetouan,  Morocco, Dimane F. -> Department of Energy and Environmental Civil Engineering,  National School of Applied Sciences of Al-Hoceima,  Engineering Sciences and Applications Laboratory,  Abdelmalek Essaâdi University,  Tetouan,  Morocco, Haboubi C. -> Department of Energy and Environmental Civil Engineering,  National School of Applied Sciences of Al-Hoceima,  Engineering Sciences and Applications Laboratory,  Abdelmalek Essaâdi University,  Tetouan,  Morocco}                                                                                                                                                                                                                                                                                                                                                                                                                                                                                                                                                                                                                                                                                                                           |\n|{Benatiya Andaloussi M. -> FPSB,  Chouaib Doukkali University,  El Jadida,  Morocco}                                                                                                                                                                                                                                                                                                                                                                                                                                                                                                                                                                                                                                                                                                                                                                                                                                                                                                                                                                                                                                                                                                                                                                                                                                                                                                                                                                                                                                                                                                                                                                                                                                                                                                                                                                                            |\n|{Saidi R. -> SI2M Laboratory,  National Institute of Statistics and Applied Economics,  Rabat,  Morocco, Oumoussa I. -> SI2M Laboratory,  National Institute of Statistics and Applied Economics,  Rabat,  Morocco, Moha N. -> Ecole de Technologie Supérieure,  Montreal,  Canada, Daoud M. -> Claude Bernard Lyon 1 University,  Lyon,  France, Faieq S. -> Faculty of Sciences,  Mohammed V University,  Rabat,  Morocco}                                                                                                                                                                                                                                                                                                                                                                                                                                                                                                                                                                                                                                                                                                                                                                                                                                                                                                                                                                                                                                                                                                                                                                                                                                                                                                                                                                                                                                                    |\n|{Al Awaidy S.T. -> Middle East,  Africa,  and Eurasia Influenza Stakeholder Network (MENA-ISN),  P.O.Box 393 PC 100,  Muscat,  Oman, Abuhasan M.Y.H. -> Department of National immunization Program,  Ministry of Health,  Riyadh,  Saudi Arabia, Al Slil F. -> Middle East,  Africa,  and Eurasia Influenza Stakeholder Network (MENA-ISN),  P.O.Box 393 PC 100,  Muscat,  Oman,  Directorate of the National Diabetes Prevention and Control Program,  Ministry of Health,  Riyadh,  Saudi Arabia, Jroundi I. -> Middle East,  Africa,  and Eurasia Influenza Stakeholder Network (MENA-ISN),  P.O.Box 393 PC 100,  Muscat,  Oman,  Faculty of Medicine and Pharmacy of Rabat,  Mohammed V University,  Rabat,  Morocco, Elawad K.H. -> Health Protection,  Primary Health Care Center,  MOPH,  Doha,  Qatar, Khamis F. -> Adult Infectious Diseases,  Department of Medicine,  Royal Hospital,  MOH,  Muscat,  Oman, Koul P.A. -> Middle East,  Africa,  and Eurasia Influenza Stakeholder Network (MENA-ISN),  P.O.Box 393 PC 100,  Muscat,  Oman,  Internal and Pulmonary Medicine Department,  Sheri Kashmir Institute of Medical Sciences,  Srinagar,  India, Tanriover M.D. -> Middle East,  Africa,  and Eurasia Influenza Stakeholder Network (MENA-ISN),  P.O.Box 393 PC 100,  Muscat,  Oman,  Department of Internal Medicine,  Division of General Internal Medicine,  Hacettepe University Faculty of Medicine,  Ankara,  Turkey, Al Oraimi F. -> Health Affairs,  Muscat MOH,  Oman, Al Olama F. -> Child Health section,  Dubai Health Authority,  Dubai,  United Arab Emirates, Zaraket H. -> Middle East,  Africa,  and Eurasia Influenza Stakeholder Network (MENA-ISN),  P.O.Box 393 PC 100,  Muscat,  Oman,  Department of Experimental Pathology,  Immunology,  and Microbiology,  Faculty of Medicine,  American University of Beirut,  Beirut,  Lebanon}|\n|{Oubouhou E.H. -> Department of Mathematics,  Faculty of Science and Technology of Fez,  University S. M. Ben Abdellah,  Box 2202,  Fez,  Morocco, Kim H. -> Division of Computer Engineering,  Hoseo University,  Asan,  31499,  South Korea, Mahdou N. -> Department of Mathematics,  Faculty of Science and Technology of Fez,  University S. M. Ben Abdellah,  Box 2202,  Fez,  Morocco}                                                                                                                                                                                                                                                                                                                                                                                                                                                                                                                                                                                                                                                                                                                                                                                                                                                                                                                                                                                                                                                                                                                                                                                                                                                                                                                                                                                                                                                                                    |\n|{Bouhssini A. -> Laboratory of Plants,  Animals Productions and Agro-Industry,  Faculty of Sciences,  Ibn Tofail University,  BP 133,  Kenitra,  14000,  Morocco, Belahbib N. -> Laboratory of Plants,  Animals Productions and Agro-Industry,  Faculty of Sciences,  Ibn Tofail University,  BP 133,  Kenitra,  14000,  Morocco, Achoual K. -> Laboratory of Plants,  Animals Productions and Agro-Industry,  Faculty of Sciences,  Ibn Tofail University,  BP 133,  Kenitra,  14000,  Morocco, Saadi K. -> Laboratory of Plants,  Animals Productions and Agro-Industry,  Faculty of Sciences,  Ibn Tofail University,  BP 133,  Kenitra,  14000,  Morocco, Dahmani J. -> Laboratory of Plants,  Animals Productions and Agro-Industry,  Faculty of Sciences,  Ibn Tofail University,  BP 133,  Kenitra,  14000,  Morocco}                                                                                                                                                                                                                                                                                                                                                                                                                                                                                                                                                                                                                                                                                                                                                                                                                                                                                                                                                                                                                                                    |\n|{Atounti M. -> Department of Mathematics,  Multidisciplinary Faculty of Nador,  University Mohammed First,  Oujda,  Morocco, Belkadi S. -> Department of Mathematics,  Multidisciplinary Faculty of Nador,  University Mohammed First,  Oujda,  Morocco}                                                                                                                                                                                                                                                                                                                                                                                                                                                                                                                                                                                                                                                                                                                                                                                                                                                                                                                                                                                                                                                                                                                                                                                                                                                                                                                                                                                                                                                                                                                                                                                                                        |\n|{Das S. -> Department of Electronics and Communication Engineering,  IMPS College of Engineering and Technology,  West Bengal,  Malda,  732103,  India, Douhi S. -> Laboratory of Physics of Condensed Matter (LPMC),  Faculty of Sciences Ben M’Sik,  Hassan II University of Casablanca,  Casablanca,  Morocco,  REMTEX Laboratory,  Higher School of Textile and Clothing Industries (ESITH),  Casablanca,  Morocco, Islam T. -> Department of Electrical and Computer Engineering,  University of Houston,  Houston,  77204,  TX,  United States, Cherkaoui O. -> REMTEX Laboratory,  Higher School of Textile and Clothing Industries (ESITH),  Casablanca,  Morocco, Eddiai A. -> Laboratory of Physics of Condensed Matter (LPMC),  Faculty of Sciences Ben M’Sik,  Hassan II University of Casablanca,  Casablanca,  Morocco, Mazroui M. -> Laboratory of Physics of Condensed Matter (LPMC),  Faculty of Sciences Ben M’Sik,  Hassan II University of Casablanca,  Casablanca,  Morocco}                                                                                                                                                                                                                                                                                                                                                                                                                                                                                                                                                                                                                                                                                                                                                                                                                                                                               |\n|{Mahdaoui M. -> MaSEEL,  FSTT,  Abdelmalek Essaâdi University,  Tetouan,  Morocco,  Univ. Polytechnique Hauts-de-France,  CNRS,  UMR 8201 – LAMIH,  Valenciennes,  F-59313,  France, Ouardouz M. -> MaSEEL,  FSTT,  Abdelmalek Essaâdi University,  Tetouan,  Morocco, Ahachad M. -> MaSEEL,  FSTT,  Abdelmalek Essaâdi University,  Tetouan,  Morocco, Briache A. -> MaSEEL,  FSTT,  Abdelmalek Essaâdi University,  Tetouan,  Morocco, Afass A. -> MaSEEL,  FSTT,  Abdelmalek Essaâdi University,  Tetouan,  Morocco}                                                                                                                                                                                                                                                                                                                                                                                                                                                                                                                                                                                                                                                                                                                                                                                                                                                                                                                                                                                                                                                                                                                                                                                                                                                                                                                                                         |\n|{El Rharras A. -> SIRC-LAGES Lab,  Hassania School of Public Works,  Casablanca,  Morocco, Seridi K. -> SIRC-LAGES Lab,  Hassania School of Public Works,  Casablanca,  Morocco}                                                                                                                                                                                                                                                                                                                                                                                                                                                                                                                                                                                                                                                                                                                                                                                                                                                                                                                                                                                                                                                                                                                                                                                                                                                                                                                                                                                                                                                                                                                                                                                                                                                                                                |\n|{Sabri M.A. -> Faculty of Sciences Dhar Mahraz,  Sidi Mohamed Ben Abdellah University,  Fez,  Morocco, Belatik A. -> Faculty of Sciences Dhar Mahraz,  Sidi Mohamed Ben Abdellah University,  Fez,  Morocco, El Khoukhi H. -> Faculty of Sciences Dhar Mahraz,  Sidi Mohamed Ben Abdellah University,  Fez,  Morocco, Aarab A. -> Faculty of Sciences Dhar Mahraz,  Sidi Mohamed Ben Abdellah University,  Fez,  Morocco}                                                                                                                                                                                                                                                                                                                                                                                                                                                                                                                                                                                                                                                                                                                                                                                                                                                                                                                                                                                                                                                                                                                                                                                                                                                                                                                                                                                                                                                       |\n|{Benkirane A. -> ENSIAS,  Mohammed V University in Rabat,  Morocco, Akiirne Z. -> ENSIAS,  Mohammed V University in Rabat,  Smart Systems Laboratory (SSL),  Morocco, Bouzidi D. -> ENSIAS,  Mohammed V University in Rabat,  Smart Systems Laboratory (SSL),  Morocco}                                                                                                                                                                                                                                                                                                                                                                                                                                                                                                                                                                                                                                                                                                                                                                                                                                                                                                                                                                                                                                                                                                                                                                                                                                                                                                                                                                                                                                                                                                                                                                                                         |\n|{Rochd A. -> Electrical Engineering and Intelligent System Laboratory,  ENSET,  Hassan II University Green Energy Park Mohammedia,  Mohammedia,  Morocco,  Green Energy Park,  Benguerir,  Morocco, Laamim M. -> Laboratoire Des Sciences de L’Ingénieur & Biosciences (LSIB),  Faculté Des Sciences Et Techniques de Mohammedia,  Mohammedia,  Morocco,  Green Energy Park,  Benguerir,  Morocco, Mahir O. -> Laboratory of Signals,  Systems,  and Components,  University Sidi Mohamed Ben Abdellah,  Fez,  Morocco,  Green Energy Park,  Benguerir,  Morocco, Barkouki B.E.L. -> Mohamadia School of Engineers,  Department of Electrical Engineering,  Mohammed V University,  Rabat,  Morocco,  Green Energy Park,  Benguerir,  Morocco, Abbou A. -> Mohamadia School of Engineers,  Department of Electrical Engineering,  Mohammed V University,  Rabat,  Morocco, Qasery M.E. -> Mohamadia School of Engineers,  Department of Electrical Engineering,  Mohammed V University,  Rabat,  Morocco,  Green Energy Park,  Benguerir,  Morocco}                                                                                                                                                                                                                                                                                                                                                                                                                                                                                                                                                                                                                                                                                                                                                                                                                             |\n|{Idri A. -> SPM,  ENSIAS,  Mohammed V University,  Rabat,  Morocco,  Faculty of Medical Sciences,  Mohammed VI Polytechnic University,  Ben Guerir,  Morocco, Hakkoum H. -> SPM,  ENSIAS,  Mohammed V University,  Rabat,  Morocco}                                                                                                                                                                                                                                                                                                                                                                                                                                                                                                                                                                                                                                                                                                                                                                                                                                                                                                                                                                                                                                                                                                                                                                                                                                                                                                                                                                                                                                                                                                                                                                                                                                             |\n+--------------------------------------------------------------------------------------------------------------------------------------------------------------------------------------------------------------------------------------------------------------------------------------------------------------------------------------------------------------------------------------------------------------------------------------------------------------------------------------------------------------------------------------------------------------------------------------------------------------------------------------------------------------------------------------------------------------------------------------------------------------------------------------------------------------------------------------------------------------------------------------------------------------------------------------------------------------------------------------------------------------------------------------------------------------------------------------------------------------------------------------------------------------------------------------------------------------------------------------------------------------------------------------------------------------------------------------------------------------------------------------------------------------------------------------------------------------------------------------------------------------------------------------------------------------------------------------------------------------------------------------------------------------------------------------------------------------------------------------------------------------------------------------------------------------------------------------------------------------------------------+\nonly showing top 20 rows\n\n"
     ]
    }
   ],
   "source": [
    "from pyspark.sql.functions import udf\n",
    "from pyspark.sql.types import MapType, StringType\n",
    "\n",
    "# Define the UDF to create the dictionary\n",
    "def create_author_affiliation_dict(authors_with_affiliations):\n",
    "    # Split the authors and affiliations by ';'\n",
    "    author_affiliation_pairs = authors_with_affiliations.split(';')\n",
    "    \n",
    "    # Create the dictionary\n",
    "    author_affiliation_dict = {}\n",
    "    for pair in author_affiliation_pairs:\n",
    "        # Split each pair into author and affiliation\n",
    "        parts = pair.split(',')\n",
    "        author = parts[0].strip()  # Get the author's name\n",
    "        affiliation = ', '.join(parts[1:]).strip()  # Join the remaining parts as the affiliation\n",
    "        author_affiliation_dict[author] = affiliation\n",
    "\n",
    "    return author_affiliation_dict\n",
    "\n",
    "# Register the UDF\n",
    "create_author_affiliation_dict_udf = udf(create_author_affiliation_dict, MapType(StringType(), StringType()))\n",
    "\n",
    "# Apply the UDF to the DataFrame\n",
    "df = df.withColumn(\"'Authors with affiliations\", create_author_affiliation_dict_udf(df['Authors with affiliations']))\n",
    "\n",
    "# Show the results\n",
    "df.select(\"'Authors with affiliations\").show(truncate=False)\n"
   ]
  },
  {
   "cell_type": "code",
   "execution_count": 0,
   "metadata": {
    "application/vnd.databricks.v1+cell": {
     "cellMetadata": {
      "byteLimit": 2048000,
      "rowLimit": 10000
     },
     "inputWidgets": {},
     "nuid": "5b574fd9-e68a-4df3-972a-7c949c35f885",
     "showTitle": false,
     "tableResultSettingsMap": {},
     "title": ""
    }
   },
   "outputs": [],
   "source": [
    "#Add two columns where the authors id and full names are splitted as an Array\n",
    "df = df.withColumn(\"Author Keywords\", F.split(F.col(\"Author Keywords\"), \",|;\"))\n",
    "df = df.withColumn(\"Author Keywords\", F.expr(\"transform(`Author Keywords`, x -> trim(x))\"))"
   ]
  },
  {
   "cell_type": "code",
   "execution_count": 0,
   "metadata": {
    "application/vnd.databricks.v1+cell": {
     "cellMetadata": {
      "byteLimit": 2048000,
      "rowLimit": 10000
     },
     "inputWidgets": {},
     "nuid": "77f054fc-906c-49fd-a94b-10b5e9eef953",
     "showTitle": false,
     "tableResultSettingsMap": {},
     "title": ""
    }
   },
   "outputs": [],
   "source": [
    "#Add two columns where the authors id and full names are splitted as an Array\n",
    "df = df.withColumn(\"Index Keywords\", F.split(F.col(\"Index Keywords\"), \",|;\"))\n",
    "df = df.withColumn(\"Index Keywords\", F.expr(\"transform(`Index Keywords`, x -> trim(x))\"))"
   ]
  },
  {
   "cell_type": "code",
   "execution_count": 0,
   "metadata": {
    "application/vnd.databricks.v1+cell": {
     "cellMetadata": {
      "byteLimit": 2048000,
      "rowLimit": 10000
     },
     "inputWidgets": {},
     "nuid": "04b973ea-881f-4605-a0ae-e6529f0ba3a6",
     "showTitle": false,
     "tableResultSettingsMap": {},
     "title": ""
    }
   },
   "outputs": [
    {
     "output_type": "stream",
     "name": "stdout",
     "output_type": "stream",
     "text": [
      "root\n |-- Authors: array (nullable = true)\n |    |-- element: string (containsNull = false)\n |-- Author Full Names: array (nullable = true)\n |    |-- element: string (containsNull = false)\n |-- Author(s) ID: array (nullable = true)\n |    |-- element: string (containsNull = false)\n |-- Title: string (nullable = true)\n |-- Year: integer (nullable = true)\n |-- Source title: string (nullable = true)\n |-- Volume: integer (nullable = true)\n |-- Issue: integer (nullable = true)\n |-- article_number: integer (nullable = true)\n |-- Page start: integer (nullable = false)\n |-- Page end: integer (nullable = false)\n |-- Page count: integer (nullable = true)\n |-- Cited by: integer (nullable = false)\n |-- DOI: string (nullable = false)\n |-- Link: string (nullable = true)\n |-- Affiliations: array (nullable = true)\n |    |-- element: string (containsNull = false)\n |-- Authors with affiliations: string (nullable = true)\n |-- Abstract: string (nullable = true)\n |-- Author Keywords: array (nullable = true)\n |    |-- element: string (containsNull = false)\n |-- Index Keywords: array (nullable = true)\n |    |-- element: string (containsNull = false)\n |-- Molecular Sequence Numbers: string (nullable = true)\n |-- Chemicals/CAS: string (nullable = true)\n |-- Tradenames: string (nullable = true)\n |-- Manufacturers: string (nullable = true)\n |-- Funding Details: string (nullable = true)\n |-- Funding Texts: string (nullable = true)\n |-- References: string (nullable = true)\n |-- Correspondence Address: string (nullable = true)\n |-- Editors: string (nullable = true)\n |-- Publisher: string (nullable = true)\n |-- Sponsors: string (nullable = true)\n |-- Conference name: string (nullable = true)\n |-- Conference date: string (nullable = true)\n |-- Conference location: string (nullable = true)\n |-- Conference code: string (nullable = true)\n |-- ISSN: string (nullable = true)\n |-- ISBN: string (nullable = true)\n |-- CODEN: string (nullable = true)\n |-- PubMed ID: string (nullable = true)\n |-- Language of Original Document: string (nullable = true)\n |-- Abbreviated Source Title: string (nullable = true)\n |-- Document Type: string (nullable = true)\n |-- Publication Stage: string (nullable = true)\n |-- Open Access: boolean (nullable = false)\n |-- Source: string (nullable = true)\n |-- EID: string (nullable = true)\n |-- 'Authors with affiliations: map (nullable = true)\n |    |-- key: string\n |    |-- value: string (valueContainsNull = true)\n\n"
     ]
    }
   ],
   "source": [
    "df.printSchema()"
   ]
  },
  {
   "cell_type": "code",
   "execution_count": 0,
   "metadata": {
    "application/vnd.databricks.v1+cell": {
     "cellMetadata": {
      "byteLimit": 2048000,
      "rowLimit": 10000
     },
     "inputWidgets": {},
     "nuid": "f5d88c95-3def-4fc0-8722-a767095f2078",
     "showTitle": false,
     "tableResultSettingsMap": {},
     "title": ""
    }
   },
   "outputs": [],
   "source": [
    "df = df.fillna({'Tradenames': 'Unknown'})\n"
   ]
  },
  {
   "cell_type": "code",
   "execution_count": 0,
   "metadata": {
    "application/vnd.databricks.v1+cell": {
     "cellMetadata": {
      "byteLimit": 2048000,
      "rowLimit": 10000
     },
     "inputWidgets": {},
     "nuid": "e61834d4-4925-40c1-b6c0-0131027d6584",
     "showTitle": false,
     "tableResultSettingsMap": {},
     "title": ""
    }
   },
   "outputs": [],
   "source": [
    "df = df.fillna({'Manufacturers': 'Unknown'})\n"
   ]
  },
  {
   "cell_type": "code",
   "execution_count": 0,
   "metadata": {
    "application/vnd.databricks.v1+cell": {
     "cellMetadata": {
      "byteLimit": 2048000,
      "rowLimit": 10000
     },
     "inputWidgets": {},
     "nuid": "c4008555-1fdd-40b9-84b3-c5a967e9f3f0",
     "showTitle": false,
     "tableResultSettingsMap": {},
     "title": ""
    }
   },
   "outputs": [],
   "source": [
    "df = df.fillna({'Funding Details': 'Unknown'})\n"
   ]
  },
  {
   "cell_type": "code",
   "execution_count": 0,
   "metadata": {
    "application/vnd.databricks.v1+cell": {
     "cellMetadata": {
      "byteLimit": 2048000,
      "rowLimit": 10000
     },
     "inputWidgets": {},
     "nuid": "1c65bff6-74fe-4648-bbf9-a06ed0b14912",
     "showTitle": false,
     "tableResultSettingsMap": {},
     "title": ""
    }
   },
   "outputs": [],
   "source": [
    "df = df.fillna({'Funding Texts': 'Unknown'})\n"
   ]
  },
  {
   "cell_type": "code",
   "execution_count": 0,
   "metadata": {
    "application/vnd.databricks.v1+cell": {
     "cellMetadata": {
      "byteLimit": 2048000,
      "rowLimit": 10000
     },
     "inputWidgets": {},
     "nuid": "47b46a61-1d33-4f07-8afa-d10240fb4969",
     "showTitle": false,
     "tableResultSettingsMap": {},
     "title": ""
    }
   },
   "outputs": [],
   "source": [
    "df = df.withColumn(\"References\", F.regexp_replace(F.col(\"References\"), \",\", \".\"))\n",
    "df = df.withColumn(\"References\", F.split(F.col(\"References\"), \";\"))\n",
    "df = df.withColumn(\"References\", F.expr(\"transform(`References`, x -> trim(x))\"))"
   ]
  },
  {
   "cell_type": "code",
   "execution_count": 0,
   "metadata": {
    "application/vnd.databricks.v1+cell": {
     "cellMetadata": {
      "byteLimit": 2048000,
      "rowLimit": 10000
     },
     "inputWidgets": {},
     "nuid": "dbf8dcda-604f-4271-b993-dbf984c9d26e",
     "showTitle": false,
     "tableResultSettingsMap": {},
     "title": ""
    }
   },
   "outputs": [],
   "source": [
    "df = df.withColumn(\n",
    "    \"References\",\n",
    "    F.when(F.col(\"References\").isNull(), F.array(F.lit(\"Unknown\"))).otherwise(F.col(\"References\"))\n",
    ")"
   ]
  },
  {
   "cell_type": "code",
   "execution_count": 0,
   "metadata": {
    "application/vnd.databricks.v1+cell": {
     "cellMetadata": {
      "byteLimit": 2048000,
      "rowLimit": 10000
     },
     "inputWidgets": {},
     "nuid": "c196d3ce-418d-490a-90f9-9bef486c6bb9",
     "showTitle": false,
     "tableResultSettingsMap": {},
     "title": ""
    }
   },
   "outputs": [],
   "source": [
    "df = df.fillna({'Correspondence Address': 'Unknown'})\n"
   ]
  },
  {
   "cell_type": "code",
   "execution_count": 0,
   "metadata": {
    "application/vnd.databricks.v1+cell": {
     "cellMetadata": {
      "byteLimit": 2048000,
      "rowLimit": 10000
     },
     "inputWidgets": {},
     "nuid": "0e458e4a-d5c9-49ae-8580-43f330f1202c",
     "showTitle": false,
     "tableResultSettingsMap": {},
     "title": ""
    }
   },
   "outputs": [],
   "source": [
    "df = df.fillna({'Editors': 'Unknown'})\n"
   ]
  },
  {
   "cell_type": "code",
   "execution_count": 0,
   "metadata": {
    "application/vnd.databricks.v1+cell": {
     "cellMetadata": {
      "byteLimit": 2048000,
      "rowLimit": 10000
     },
     "inputWidgets": {},
     "nuid": "c2182a37-15bb-4102-ba7e-5c504521464f",
     "showTitle": false,
     "tableResultSettingsMap": {},
     "title": ""
    }
   },
   "outputs": [],
   "source": [
    "df = df.fillna({'Sponsors': 'Unknown'})\n"
   ]
  },
  {
   "cell_type": "code",
   "execution_count": 0,
   "metadata": {
    "application/vnd.databricks.v1+cell": {
     "cellMetadata": {
      "byteLimit": 2048000,
      "rowLimit": 10000
     },
     "inputWidgets": {},
     "nuid": "933f4074-bb37-4dd6-b321-f7b29feffdc3",
     "showTitle": false,
     "tableResultSettingsMap": {},
     "title": ""
    }
   },
   "outputs": [],
   "source": [
    "df = df.fillna({'Conference location': 'Unknown'})\n",
    "df = df.fillna({'Conference name': 'Unknown'})\n",
    "\n"
   ]
  },
  {
   "cell_type": "code",
   "execution_count": 0,
   "metadata": {
    "application/vnd.databricks.v1+cell": {
     "cellMetadata": {
      "byteLimit": 2048000,
      "rowLimit": 10000
     },
     "inputWidgets": {},
     "nuid": "c2d1c05c-b077-4f59-8a32-81f099b96fec",
     "showTitle": false,
     "tableResultSettingsMap": {},
     "title": ""
    }
   },
   "outputs": [
    {
     "output_type": "stream",
     "name": "stdout",
     "output_type": "stream",
     "text": [
      "Total number of rows: 14935\n"
     ]
    }
   ],
   "source": [
    "# Get the number of rows\n",
    "row_count = df.count()\n",
    "\n",
    "print(f\"Total number of rows: {row_count}\")\n"
   ]
  },
  {
   "cell_type": "code",
   "execution_count": 0,
   "metadata": {
    "application/vnd.databricks.v1+cell": {
     "cellMetadata": {
      "byteLimit": 2048000,
      "rowLimit": 10000
     },
     "inputWidgets": {},
     "nuid": "0ae97a74-f40f-4527-a1fd-dbd926ea33c3",
     "showTitle": false,
     "tableResultSettingsMap": {},
     "title": ""
    }
   },
   "outputs": [
    {
     "output_type": "stream",
     "name": "stdout",
     "output_type": "stream",
     "text": [
      "Data type of the column 'Conference date': StringType()\n"
     ]
    }
   ],
   "source": [
    "# Get the data type of a specific column\n",
    "column_type = df.schema['Conference date'].dataType\n",
    "print(f\"Data type of the column 'Conference date': {column_type}\")\n"
   ]
  },
  {
   "cell_type": "code",
   "execution_count": 0,
   "metadata": {
    "application/vnd.databricks.v1+cell": {
     "cellMetadata": {
      "byteLimit": 2048000,
      "rowLimit": 10000
     },
     "inputWidgets": {},
     "nuid": "7bd93bb5-4b03-4951-9d85-283c1f343d75",
     "showTitle": false,
     "tableResultSettingsMap": {},
     "title": ""
    }
   },
   "outputs": [],
   "source": [
    "\n",
    "\n",
    "# Extract start and end dates using regex and convert them to DATE type\n",
    "df = df.withColumn(\"Start_date\", F.to_date(F.regexp_extract(F.col(\"Conference date\"), r\"(\\d{1,2} \\w+ \\d{4})\", 1), \"d MMM yyyy\"))\n",
    "df = df.withColumn(\"End_date\", F.to_date(F.regexp_extract(F.col(\"Conference date\"), r\"through (\\d{1,2} \\w+ \\d{4})\", 1), \"d MMM yyyy\"))\n",
    "\n"
   ]
  },
  {
   "cell_type": "code",
   "execution_count": 0,
   "metadata": {
    "application/vnd.databricks.v1+cell": {
     "cellMetadata": {
      "byteLimit": 2048000,
      "rowLimit": 10000
     },
     "inputWidgets": {},
     "nuid": "1a75eaf6-2b27-44ec-a6ad-023c2c2fb790",
     "showTitle": false,
     "tableResultSettingsMap": {},
     "title": ""
    }
   },
   "outputs": [],
   "source": [
    "df = df.withColumn(\"ISSN\", F.when(df['ISSN'].isNull(), \"No ISSN\").otherwise(df['ISSN']))\n",
    "df = df.withColumn(\"ISBN\", F.when(df['ISBN'].isNull(), \"No ISBN\").otherwise(df['ISBN']))\n",
    "df = df.withColumn(\"CODEN\", F.when(df['CODEN'].isNull(), \"No CODEN\").otherwise(df['CODEN']))\n",
    "df = df.withColumn(\"PubMed ID\", F.when(df['PubMed ID'].isNull(), \"No PubMed ID\").otherwise(df['PubMed ID']))\n",
    "\n",
    "\n",
    "\n"
   ]
  },
  {
   "cell_type": "code",
   "execution_count": 0,
   "metadata": {
    "application/vnd.databricks.v1+cell": {
     "cellMetadata": {
      "byteLimit": 2048000,
      "rowLimit": 10000
     },
     "inputWidgets": {},
     "nuid": "666ef593-c7b6-4cda-9e23-2e09792b78a3",
     "showTitle": false,
     "tableResultSettingsMap": {},
     "title": ""
    }
   },
   "outputs": [
    {
     "output_type": "stream",
     "name": "stdout",
     "output_type": "stream",
     "text": [
      "+---------+\n|CODEN    |\n+---------+\n|OCPHC    |\n|No CODEN |\n|ECMAD    |\n|IJHMA    |\n|IJHED    |\n|OCMAE    |\n|JECMA    |\n|PSISD    |\n|no coden |\n|PPPYA    |\n|JCEAA    |\n|RPCHD    |\n|SSIOD    |\n|MCSID    |\n|non coden|\n|CMSTC    |\n|CAGDE    |\n|CPEAE    |\n|ESPLE    |\n|JMOSB    |\n+---------+\nonly showing top 20 rows\n\nNumber of distinct CODEN values: 1014\n"
     ]
    }
   ],
   "source": [
    "df.select(\"CODEN\").distinct().show(truncate=False)\n",
    "distinct_count = df.select(\"CODEN\").distinct().count()\n",
    "\n",
    "print(f\"Number of distinct CODEN values: {distinct_count}\")\n"
   ]
  },
  {
   "cell_type": "code",
   "execution_count": 0,
   "metadata": {
    "application/vnd.databricks.v1+cell": {
     "cellMetadata": {
      "byteLimit": 2048000,
      "rowLimit": 10000
     },
     "inputWidgets": {},
     "nuid": "7c12723e-23ab-49c3-b011-e4995c2bd689",
     "showTitle": false,
     "tableResultSettingsMap": {},
     "title": ""
    }
   },
   "outputs": [
    {
     "output_type": "stream",
     "name": "stdout",
     "output_type": "stream",
     "text": [
      "+---------------------------------------------------------------------------------+\n|Language of Original Document                                                    |\n+---------------------------------------------------------------------------------+\n| Annu Rev Pathol Mech Dis                                                        |\n| (2021); Mikolov T.                                                              |\n| (2023); Jeroundi D.                                                             |\n| (2013);  World Health Assembly: Progress reports (A68/36)                       |\n| Li H.                                                                           |\n| Smart locks: Exploring security breaches and access extensions                  |\n|null                                                                             |\n|IGI Global                                                                       |\n| Estimation of Electricity Production for a Moroccan Wind Farm; Triantaphyllou E.|\n| Sarajevo through Time                                                           |\n| Appl. Math. Comput                                                              |\n|English                                                                          |\n| (2021)\"                                                                         |\n|French                                                                           |\n| A fast simulated annealing strategy for community detection in complex networks |\n| Maffezzoni P.                                                                   |\n| (2023); SEAFBV-DREF/HA                                                          |\n| (2023); De Witte M.                                                             |\n| (1974); Hidary J.D.                                                             |\n| 2021 International conference on emerging power technologies (ICEPT)            |\n+---------------------------------------------------------------------------------+\nonly showing top 20 rows\n\nNumber of distinct Language of Original Document values: 394\n"
     ]
    }
   ],
   "source": [
    "df.select(\"Language of Original Document\").distinct().show(truncate=False)\n",
    "distinct_count = df.select(\"Language of Original Document\").distinct().count()\n",
    "\n",
    "print(f\"Number of distinct Language of Original Document values: {distinct_count}\")"
   ]
  },
  {
   "cell_type": "code",
   "execution_count": 0,
   "metadata": {
    "application/vnd.databricks.v1+cell": {
     "cellMetadata": {
      "byteLimit": 2048000,
      "rowLimit": 10000
     },
     "inputWidgets": {},
     "nuid": "538d6281-af27-45ad-8d4e-e42bfaf5c020",
     "showTitle": false,
     "tableResultSettingsMap": {},
     "title": ""
    }
   },
   "outputs": [
    {
     "output_type": "stream",
     "name": "stdout",
     "output_type": "stream",
     "text": [
      "+------------------------------------------------------------------------------------------------------------------------------------------------------------------------------------------------------------------------------------------------------------------------------------------------------------------+-----+\n|Language of Original Document                                                                                                                                                                                                                                                                                     |count|\n+------------------------------------------------------------------------------------------------------------------------------------------------------------------------------------------------------------------------------------------------------------------------------------------------------------------+-----+\n| 370                                                                                                                                                                                                                                                                                                              |1    |\n| pp. 6-9                                                                                                                                                                                                                                                                                                          |1    |\n| Annu Rev Pathol Mech Dis                                                                                                                                                                                                                                                                                         |1    |\n| Component display theory                                                                                                                                                                                                                                                                                         |1    |\n| (2021); Logistic of Mining Industry Infographic Pictures Vector Image                                                                                                                                                                                                                                            |1    |\n|NPAD; High-Performance Processing Nucleus; Conselho Nacional de Desenvolvimento Científico e Tecnológico, CNPq; Coordenação de Aperfeiçoamento de Pessoal de Nível Superior, CAPES; Universidade Federal do Rio Grande do Norte, UFRN; Brazil; King Saud University, KSU, (RSP2024R457); King Saud University, KSU|1    |\n| pp. 3979-3990                                                                                                                                                                                                                                                                                                    |1    |\n| (2014); Kerambrun L.                                                                                                                                                                                                                                                                                             |1    |\n| Jiang X.                                                                                                                                                                                                                                                                                                         |1    |\n| Parr R.G.                                                                                                                                                                                                                                                                                                        |1    |\n|Elsevier Ltd                                                                                                                                                                                                                                                                                                      |1    |\n|13570560                                                                                                                                                                                                                                                                                                          |1    |\n| (2001); Deschenes A. J.                                                                                                                                                                                                                                                                                          |1    |\n| Nikolaou C. K.                                                                                                                                                                                                                                                                                                   |1    |\n| Liesa C.L.                                                                                                                                                                                                                                                                                                       |1    |\n| pp. 134-144                                                                                                                                                                                                                                                                                                      |1    |\n| (2018); McCormick J.R.                                                                                                                                                                                                                                                                                           |1    |\n|2 November 2023 through 4 November 2023                                                                                                                                                                                                                                                                           |1    |\n| Comput Mater Sci                                                                                                                                                                                                                                                                                                 |1    |\n| Adler N.S.                                                                                                                                                                                                                                                                                                       |1    |\n+------------------------------------------------------------------------------------------------------------------------------------------------------------------------------------------------------------------------------------------------------------------------------------------------------------------+-----+\nonly showing top 20 rows\n\n"
     ]
    }
   ],
   "source": [
    "# Count the occurrences of each distinct value in the 'Language of Original Document' column\n",
    "language_counts = df.groupBy(\"Language of Original Document\").count()\n",
    "\n",
    "# Show the counts for verification\n",
    "language_counts.show(truncate=False)\n"
   ]
  },
  {
   "cell_type": "code",
   "execution_count": 0,
   "metadata": {
    "application/vnd.databricks.v1+cell": {
     "cellMetadata": {
      "byteLimit": 2048000,
      "rowLimit": 10000
     },
     "inputWidgets": {},
     "nuid": "e381a9d9-edab-4d9e-a1e1-075291f5b22b",
     "showTitle": false,
     "tableResultSettingsMap": {},
     "title": ""
    }
   },
   "outputs": [],
   "source": [
    "from pyspark.sql import functions as F\n",
    "\n",
    "# Step 1: Count the occurrences of each distinct value in the 'Language of Original Document' column\n",
    "language_counts = df.groupBy(\"Language of Original Document\").count()\n",
    "\n",
    "# Step 2: Join the original DataFrame with the counts DataFrame\n",
    "df_with_counts = df.join(language_counts, on=\"Language of Original Document\", how=\"left\")\n",
    "\n",
    "# Step 3: Replace values that appear fewer than 10 times or are non-language values (like numbers) with \"Unknown\"\n",
    "df = df_with_counts.withColumn(\n",
    "    \"Language of Original Document\",\n",
    "    F.when(df_with_counts[\"count\"] < 10, \"Unknown\")  # Replace values with count less than 10\n",
    "    .when(df_with_counts[\"Language of Original Document\"].rlike(\"^\\d+$\"), \"Unknown\")  # Replace numeric values\n",
    "    .otherwise(df_with_counts[\"Language of Original Document\"])  # Keep values with count >= 10\n",
    ")\n",
    "\n",
    "# Step 4: Drop the count column as it's no longer needed\n",
    "df = df.drop(\"count\")\n",
    "\n",
    "\n",
    "\n"
   ]
  },
  {
   "cell_type": "code",
   "execution_count": 0,
   "metadata": {
    "application/vnd.databricks.v1+cell": {
     "cellMetadata": {
      "byteLimit": 2048000,
      "rowLimit": 10000
     },
     "inputWidgets": {},
     "nuid": "53a435f9-be3b-4bf9-b0d1-7b1b17903789",
     "showTitle": false,
     "tableResultSettingsMap": {},
     "title": ""
    }
   },
   "outputs": [
    {
     "output_type": "stream",
     "name": "stdout",
     "output_type": "stream",
     "text": [
      "+-----------------------------+\n|Language of Original Document|\n+-----------------------------+\n|English                      |\n|Unknown                      |\n|Spanish                      |\n|French                       |\n+-----------------------------+\n\n"
     ]
    }
   ],
   "source": [
    "df = df.fillna({'Language of Original Document': 'Unknown'})\n",
    "df.select(\"Language of Original Document\").distinct().show(truncate=False)"
   ]
  },
  {
   "cell_type": "code",
   "execution_count": 0,
   "metadata": {
    "application/vnd.databricks.v1+cell": {
     "cellMetadata": {
      "byteLimit": 2048000,
      "rowLimit": 10000
     },
     "inputWidgets": {},
     "nuid": "c89f72c5-fc84-4457-aca3-2b81aee4f445",
     "showTitle": false,
     "tableResultSettingsMap": {},
     "title": ""
    }
   },
   "outputs": [
    {
     "output_type": "stream",
     "name": "stdout",
     "output_type": "stream",
     "text": [
      "+------------------------+\n|Document Type           |\n+------------------------+\n|Article                 |\n|Article                 |\n|Article                 |\n| Klix.ba Magazin Kultura|\n|Article                 |\n|Article                 |\n|Article                 |\n|Article                 |\n|Article                 |\n|Article                 |\n|Article                 |\n|Article                 |\n|Article                 |\n|Conference paper        |\n|Article                 |\n|Article                 |\n|Article                 |\n|Article                 |\n|Article                 |\n|Article                 |\n+------------------------+\nonly showing top 20 rows\n\n"
     ]
    }
   ],
   "source": [
    "df.select(\"Document Type\").show(truncate=False)\n"
   ]
  },
  {
   "cell_type": "code",
   "execution_count": 0,
   "metadata": {
    "application/vnd.databricks.v1+cell": {
     "cellMetadata": {
      "byteLimit": 2048000,
      "rowLimit": 10000
     },
     "inputWidgets": {},
     "nuid": "020848a5-685a-4cb3-85e4-b37fa28c6f1d",
     "showTitle": false,
     "tableResultSettingsMap": {},
     "title": ""
    }
   },
   "outputs": [],
   "source": [
    "df = df.fillna({'Abbreviated Source Title': 'Unknown'})\n"
   ]
  },
  {
   "cell_type": "code",
   "execution_count": 0,
   "metadata": {
    "application/vnd.databricks.v1+cell": {
     "cellMetadata": {
      "byteLimit": 2048000,
      "rowLimit": 10000
     },
     "inputWidgets": {},
     "nuid": "f4d86df5-c786-4063-991f-96db4e3ec23a",
     "showTitle": false,
     "tableResultSettingsMap": {},
     "title": ""
    }
   },
   "outputs": [
    {
     "output_type": "stream",
     "name": "stdout",
     "output_type": "stream",
     "text": [
      "+--------------------+\n|       Document Type|\n+--------------------+\n|    Malays. J. Chem.|\n|              Review|\n|    (2021); Singh B.|\n|                Note|\n|        Book chapter|\n|                null|\n|            Leung D.|\n|       pp. 2380-2384|\n| (2019); Kurgalin S.|\n|         pp. 321-344|\n|          Data Brief|\n|           Editorial|\n| Multicriteria De...|\n|          Corrado G.|\n| Klix.ba Magazin ...|\n|         pp. 579-598|\n| (2007); Agence n...|\n|             Article|\n| A feedforward ne...|\n|    Conference paper|\n+--------------------+\nonly showing top 20 rows\n\n"
     ]
    }
   ],
   "source": [
    "df.select(\"Document Type\").distinct().show(truncate=True)"
   ]
  },
  {
   "cell_type": "code",
   "execution_count": 0,
   "metadata": {
    "application/vnd.databricks.v1+cell": {
     "cellMetadata": {
      "byteLimit": 2048000,
      "rowLimit": 10000
     },
     "inputWidgets": {},
     "nuid": "841cc11e-f08a-4063-b594-90324a013c69",
     "showTitle": false,
     "tableResultSettingsMap": {},
     "title": ""
    }
   },
   "outputs": [
    {
     "output_type": "stream",
     "name": "stdout",
     "output_type": "stream",
     "text": [
      "+-------------------------------------+-----+\n|Document Type                        |count|\n+-------------------------------------+-----+\n|Article                              |10383|\n|Conference paper                     |2472 |\n|Review                               |669  |\n|Book chapter                         |616  |\n|null                                 |95   |\n|Erratum                              |72   |\n|Letter                               |55   |\n|Editorial                            |38   |\n|Note                                 |36   |\n|Book                                 |33   |\n|English                              |19   |\n|Data paper                           |18   |\n|Short survey                         |15   |\n| Et al.                              |6    |\n| 2                                   |5    |\n| Freiburg                            |4    |\n| 6                                   |3    |\n| 1                                   |3    |\n| 7                                   |3    |\n| Germany; II. Physikalisches Institut|3    |\n+-------------------------------------+-----+\nonly showing top 20 rows\n\n"
     ]
    }
   ],
   "source": [
    "# Step 1: Group by 'Document Type' and count the occurrences of each value\n",
    "document_type_counts = df.groupBy(\"Document Type\").count()\n",
    "\n",
    "# Step 2: Order the counts in descending order to get the most frequent values first\n",
    "document_type_counts_sorted = document_type_counts.orderBy(F.col(\"count\").desc())\n",
    "\n",
    "# Step 3: Show the result\n",
    "document_type_counts_sorted.show(truncate=False)\n"
   ]
  },
  {
   "cell_type": "code",
   "execution_count": 0,
   "metadata": {
    "application/vnd.databricks.v1+cell": {
     "cellMetadata": {
      "byteLimit": 2048000,
      "rowLimit": 10000
     },
     "inputWidgets": {},
     "nuid": "0621f335-c64c-4793-a04f-be6e4e291836",
     "showTitle": false,
     "tableResultSettingsMap": {},
     "title": ""
    }
   },
   "outputs": [],
   "source": [
    "document_type_counts = df.groupBy(\"Document Type\").count()\n",
    "\n",
    "filtered_document_types = document_type_counts.filter(document_type_counts[\"count\"] > 14)\n",
    "\n",
    "df_with_counts = df.join(filtered_document_types, on=\"Document Type\", how=\"left\")\n",
    "\n",
    "df = df_with_counts.withColumn(\n",
    "    \"Document Type\",\n",
    "    F.when(df_with_counts[\"count\"].isNull(), \"Unknown\")  # Replace low-frequency values with 'Unknown'\n",
    "    .when(df_with_counts[\"Document Type\"] == \"English\", \"Unknown\")  # Replace 'English' with 'Unknown'\n",
    "    .otherwise(df_with_counts[\"Document Type\"])  # Keep values that appear more than 15 times\n",
    ")\n",
    "df = df.drop(\"count\")\n",
    "\n",
    "\n",
    "\n"
   ]
  },
  {
   "cell_type": "code",
   "execution_count": 0,
   "metadata": {
    "application/vnd.databricks.v1+cell": {
     "cellMetadata": {
      "byteLimit": 2048000,
      "rowLimit": 10000
     },
     "inputWidgets": {},
     "nuid": "d3abae9c-fb8d-461d-8435-b3b861f4fd27",
     "showTitle": false,
     "tableResultSettingsMap": {},
     "title": ""
    }
   },
   "outputs": [
    {
     "output_type": "stream",
     "name": "stdout",
     "output_type": "stream",
     "text": [
      "+----------------+\n|Document Type   |\n+----------------+\n|Review          |\n|Note            |\n|Book chapter    |\n|Book            |\n|Unknown         |\n|Short survey    |\n|Editorial       |\n|Erratum         |\n|Letter          |\n|Article         |\n|Conference paper|\n|Data paper      |\n+----------------+\n\n"
     ]
    }
   ],
   "source": [
    "df.select(\"Document Type\").distinct().show(truncate=False)\n"
   ]
  },
  {
   "cell_type": "code",
   "execution_count": 0,
   "metadata": {
    "application/vnd.databricks.v1+cell": {
     "cellMetadata": {
      "byteLimit": 2048000,
      "rowLimit": 10000
     },
     "inputWidgets": {},
     "nuid": "16ef5cb7-4500-4ee7-880b-743472bbac42",
     "showTitle": false,
     "tableResultSettingsMap": {},
     "title": ""
    }
   },
   "outputs": [],
   "source": [
    "df= df.withColumn(\n",
    "    \"Publication Stage\",\n",
    "    F.when(df[\"Publication Stage\"].isNull(), \"Unknown\")  \n",
    "    .when(~df[\"Publication Stage\"].isin(\"Final\", \"Article in press\"), \"Unknown\")  \n",
    "    .otherwise(df[\"Publication Stage\"])  \n",
    ")"
   ]
  },
  {
   "cell_type": "code",
   "execution_count": 0,
   "metadata": {
    "application/vnd.databricks.v1+cell": {
     "cellMetadata": {
      "byteLimit": 2048000,
      "rowLimit": 10000
     },
     "inputWidgets": {},
     "nuid": "a96cb24f-979b-49d3-92aa-24b9013afe5e",
     "showTitle": false,
     "tableResultSettingsMap": {},
     "title": ""
    }
   },
   "outputs": [
    {
     "output_type": "stream",
     "name": "stdout",
     "output_type": "stream",
     "text": [
      "Out[70]: 78"
     ]
    }
   ],
   "source": [
    "df.filter(df['Source'].isNull()).count()\n"
   ]
  },
  {
   "cell_type": "code",
   "execution_count": 0,
   "metadata": {
    "application/vnd.databricks.v1+cell": {
     "cellMetadata": {
      "byteLimit": 2048000,
      "rowLimit": 10000
     },
     "inputWidgets": {},
     "nuid": "04b6b933-c2ec-43ec-91d8-313654aa094f",
     "showTitle": false,
     "tableResultSettingsMap": {},
     "title": ""
    }
   },
   "outputs": [
    {
     "output_type": "stream",
     "name": "stdout",
     "output_type": "stream",
     "text": [
      "+-----------------+\n|Publication Stage|\n+-----------------+\n|Final            |\n|Unknown          |\n|Article in press |\n+-----------------+\n\n"
     ]
    }
   ],
   "source": [
    "df.fillna({'Funding Details': 'Unknown'})\n",
    "df.select(\"Publication Stage\").distinct().show(truncate=False)\n"
   ]
  },
  {
   "cell_type": "code",
   "execution_count": 0,
   "metadata": {
    "application/vnd.databricks.v1+cell": {
     "cellMetadata": {
      "byteLimit": 2048000,
      "rowLimit": 10000
     },
     "inputWidgets": {},
     "nuid": "ed1f9159-b0dc-4b16-84a9-2fbae7c418e3",
     "showTitle": false,
     "tableResultSettingsMap": {},
     "title": ""
    }
   },
   "outputs": [
    {
     "output_type": "stream",
     "name": "stdout",
     "output_type": "stream",
     "text": [
      "+-----------+\n|Open Access|\n+-----------+\n|true       |\n|false      |\n+-----------+\n\n"
     ]
    }
   ],
   "source": [
    "df.select(\"Open Access\").distinct().show(truncate=False)\n"
   ]
  },
  {
   "cell_type": "code",
   "execution_count": 0,
   "metadata": {
    "application/vnd.databricks.v1+cell": {
     "cellMetadata": {
      "byteLimit": 2048000,
      "rowLimit": 10000
     },
     "inputWidgets": {},
     "nuid": "81e6625b-191b-4e1b-815d-6443c1c1a7cf",
     "showTitle": false,
     "tableResultSettingsMap": {},
     "title": ""
    }
   },
   "outputs": [
    {
     "output_type": "stream",
     "name": "stdout",
     "output_type": "stream",
     "text": [
      "+------------------+\n|EID               |\n+------------------+\n|2-s2.0-85186625423|\n| Sarajevo         |\n|2-s2.0-85199263123|\n|2-s2.0-85204184204|\n|2-s2.0-85187793265|\n|2-s2.0-85195665789|\n|2-s2.0-85171750642|\n|2-s2.0-85189164135|\n|2-s2.0-85192757665|\n|2-s2.0-85192671410|\n|2-s2.0-85196429577|\n|2-s2.0-85206664621|\n|2-s2.0-85188596227|\n|2-s2.0-85205061817|\n|2-s2.0-85189529793|\n|2-s2.0-85167914092|\n|2-s2.0-85190685603|\n|2-s2.0-85184996217|\n|2-s2.0-85182150679|\n|2-s2.0-85191006324|\n+------------------+\nonly showing top 20 rows\n\n"
     ]
    }
   ],
   "source": [
    "df.select(\"EID\").show(truncate=False)\n"
   ]
  },
  {
   "cell_type": "code",
   "execution_count": 0,
   "metadata": {
    "application/vnd.databricks.v1+cell": {
     "cellMetadata": {
      "byteLimit": 2048000,
      "rowLimit": 10000
     },
     "inputWidgets": {},
     "nuid": "d309a501-e400-4a94-a85b-31a765250392",
     "showTitle": false,
     "tableResultSettingsMap": {},
     "title": ""
    }
   },
   "outputs": [],
   "source": [
    "df = df.fillna({'Source': 'Scopus'})\n"
   ]
  },
  {
   "cell_type": "code",
   "execution_count": 0,
   "metadata": {
    "application/vnd.databricks.v1+cell": {
     "cellMetadata": {
      "byteLimit": 2048000,
      "rowLimit": 10000
     },
     "inputWidgets": {},
     "nuid": "334ecca9-cf67-4590-846c-5e19e2a268df",
     "showTitle": false,
     "tableResultSettingsMap": {},
     "title": ""
    }
   },
   "outputs": [],
   "source": [
    "from pyspark.sql.functions import to_date, to_timestamp\n",
    "\n",
    "# Example if you have a date column\n",
    "df = df.withColumn(\"Start_date\", to_date(df[\"Start_date\"], \"yyyy-MM-dd\"))\n",
    "df = df.withColumn(\"End_date\", to_date(df[\"End_date\"], \"yyyy-MM-dd\"))\n",
    "\n"
   ]
  },
  {
   "cell_type": "code",
   "execution_count": 0,
   "metadata": {
    "application/vnd.databricks.v1+cell": {
     "cellMetadata": {
      "byteLimit": 2048000,
      "rowLimit": 10000
     },
     "inputWidgets": {},
     "nuid": "9015cd2e-22b7-4dda-a045-e6473ed952be",
     "showTitle": false,
     "tableResultSettingsMap": {},
     "title": ""
    }
   },
   "outputs": [
    {
     "output_type": "stream",
     "name": "stdout",
     "output_type": "stream",
     "text": [
      "root\n |-- Document Type: string (nullable = true)\n |-- Language of Original Document: string (nullable = false)\n |-- Authors: array (nullable = true)\n |    |-- element: string (containsNull = false)\n |-- Author Full Names: array (nullable = true)\n |    |-- element: string (containsNull = false)\n |-- Author(s) ID: array (nullable = true)\n |    |-- element: string (containsNull = false)\n |-- Title: string (nullable = true)\n |-- Year: integer (nullable = true)\n |-- Source title: string (nullable = true)\n |-- Volume: integer (nullable = true)\n |-- Issue: integer (nullable = true)\n |-- article_number: integer (nullable = true)\n |-- Page start: integer (nullable = false)\n |-- Page end: integer (nullable = false)\n |-- Page count: integer (nullable = true)\n |-- Cited by: integer (nullable = false)\n |-- DOI: string (nullable = false)\n |-- Link: string (nullable = true)\n |-- Affiliations: array (nullable = true)\n |    |-- element: string (containsNull = false)\n |-- Authors with affiliations: string (nullable = true)\n |-- Abstract: string (nullable = true)\n |-- Author Keywords: array (nullable = true)\n |    |-- element: string (containsNull = false)\n |-- Index Keywords: array (nullable = true)\n |    |-- element: string (containsNull = false)\n |-- Molecular Sequence Numbers: string (nullable = true)\n |-- Chemicals/CAS: string (nullable = true)\n |-- Tradenames: string (nullable = false)\n |-- Manufacturers: string (nullable = false)\n |-- Funding Details: string (nullable = false)\n |-- Funding Texts: string (nullable = false)\n |-- References: array (nullable = true)\n |    |-- element: string (containsNull = false)\n |-- Correspondence Address: string (nullable = false)\n |-- Editors: string (nullable = false)\n |-- Publisher: string (nullable = true)\n |-- Sponsors: string (nullable = false)\n |-- Conference name: string (nullable = false)\n |-- Conference date: string (nullable = true)\n |-- Conference location: string (nullable = false)\n |-- Conference code: string (nullable = true)\n |-- ISSN: string (nullable = true)\n |-- ISBN: string (nullable = true)\n |-- CODEN: string (nullable = true)\n |-- PubMed ID: string (nullable = true)\n |-- Abbreviated Source Title: string (nullable = false)\n |-- Publication Stage: string (nullable = true)\n |-- Open Access: boolean (nullable = false)\n |-- Source: string (nullable = false)\n |-- EID: string (nullable = true)\n |-- 'Authors with affiliations: map (nullable = true)\n |    |-- key: string\n |    |-- value: string (valueContainsNull = true)\n |-- Start_date: date (nullable = true)\n |-- End_date: date (nullable = true)\n\n"
     ]
    }
   ],
   "source": [
    "df.printSchema()"
   ]
  },
  {
   "cell_type": "code",
   "execution_count": 0,
   "metadata": {
    "application/vnd.databricks.v1+cell": {
     "cellMetadata": {
      "byteLimit": 2048000,
      "rowLimit": 10000
     },
     "inputWidgets": {},
     "nuid": "e85cfa57-9324-4b86-a7ef-e00ae93b3d1f",
     "showTitle": false,
     "tableResultSettingsMap": {},
     "title": ""
    }
   },
   "outputs": [],
   "source": [
    "# Set the legacy time parser policy to handle datetime parsing like Spark 2.x\n",
    "spark.conf.set(\"spark.sql.legacy.timeParserPolicy\", \"LEGACY\")\n"
   ]
  },
  {
   "cell_type": "code",
   "execution_count": 0,
   "metadata": {
    "application/vnd.databricks.v1+cell": {
     "cellMetadata": {
      "byteLimit": 2048000,
      "rowLimit": 10000
     },
     "inputWidgets": {},
     "nuid": "1f2ced17-06a1-42bd-b6c8-3e32b259bc05",
     "showTitle": false,
     "tableResultSettingsMap": {},
     "title": ""
    }
   },
   "outputs": [
    {
     "output_type": "stream",
     "name": "stdout",
     "output_type": "stream",
     "text": [
      "+----------+----------+\n|Start_date|End_date  |\n+----------+----------+\n|2024-05-16|2024-05-17|\n|null      |null      |\n|2024-07-29|2024-07-31|\n|2024-01-11|2024-01-12|\n|2022-11-27|2022-11-30|\n+----------+----------+\nonly showing top 5 rows\n\n"
     ]
    }
   ],
   "source": [
    "from pyspark.sql.functions import to_date\n",
    "\n",
    "# Convert Start_date and End_date to date format (assuming the format is 'yyyy-MM-dd')\n",
    "df = df.withColumn(\"Start_date\", to_date(df[\"Start_date\"], \"yyyy-MM-dd\"))\n",
    "df = df.withColumn(\"End_date\", to_date(df[\"End_date\"], \"yyyy-MM-dd\"))\n",
    "\n",
    "# Check the results\n",
    "df.select(\"Start_date\", \"End_date\").distinct().show(5, truncate=False)\n"
   ]
  },
  {
   "cell_type": "code",
   "execution_count": 0,
   "metadata": {
    "application/vnd.databricks.v1+cell": {
     "cellMetadata": {
      "byteLimit": 2048000,
      "rowLimit": 10000
     },
     "inputWidgets": {},
     "nuid": "67fba739-0a5d-4aab-ab22-02ca70fb6a13",
     "showTitle": false,
     "tableResultSettingsMap": {},
     "title": ""
    }
   },
   "outputs": [],
   "source": [
    "# Reset the legacy time parser policy to the default behavior (Spark >= 3.0)\n",
    "spark.conf.set(\"spark.sql.legacy.timeParserPolicy\", \"CORRECTED\")\n"
   ]
  },
  {
   "cell_type": "code",
   "execution_count": 0,
   "metadata": {
    "application/vnd.databricks.v1+cell": {
     "cellMetadata": {
      "byteLimit": 2048000,
      "rowLimit": 10000
     },
     "inputWidgets": {},
     "nuid": "273c083e-6078-4375-960e-04f6cd13a331",
     "showTitle": false,
     "tableResultSettingsMap": {},
     "title": ""
    }
   },
   "outputs": [
    {
     "output_type": "stream",
     "name": "stdout",
     "output_type": "stream",
     "text": [
      "+----------+----------+\n|Start_date|End_date  |\n+----------+----------+\n|2024-05-16|2024-05-17|\n|2024-05-15|2024-05-17|\n|null      |null      |\n|2024-05-27|2024-05-31|\n|2023-05-29|2023-05-30|\n+----------+----------+\nonly showing top 5 rows\n\n"
     ]
    }
   ],
   "source": [
    "df.select(\"Start_date\", \"End_date\").distinct().show(5, truncate=False)\n"
   ]
  },
  {
   "cell_type": "code",
   "execution_count": 0,
   "metadata": {
    "application/vnd.databricks.v1+cell": {
     "cellMetadata": {
      "byteLimit": 2048000,
      "rowLimit": 10000
     },
     "inputWidgets": {},
     "nuid": "ccb088a4-d873-4335-9536-ba2fe9960665",
     "showTitle": false,
     "tableResultSettingsMap": {},
     "title": ""
    }
   },
   "outputs": [
    {
     "output_type": "stream",
     "name": "stdout",
     "output_type": "stream",
     "text": [
      "+----------------+-----------------------------+--------------------+--------------------+--------------------+--------------------+----+--------------------+------+-----+--------------+----------+--------+----------+--------+--------------------+--------------------+--------------------+-------------------------+--------------------+--------------------+--------------------+--------------------------+--------------------+----------+-------------+--------------------+--------------------+--------------------+----------------------+--------------------+--------------------+--------------------+--------------------+--------------------+-------------------+--------------------+-------+---------------+--------+------------+------------------------+-----------------+-----------+--------+------------------+--------------------------+----------+--------+\n|   Document Type|Language of Original Document|             Authors|   Author Full Names|        Author(s) ID|               Title|Year|        Source title|Volume|Issue|article_number|Page start|Page end|Page count|Cited by|                 DOI|                Link|        Affiliations|Authors with affiliations|            Abstract|     Author Keywords|      Index Keywords|Molecular Sequence Numbers|       Chemicals/CAS|Tradenames|Manufacturers|     Funding Details|       Funding Texts|          References|Correspondence Address|             Editors|           Publisher|            Sponsors|     Conference name|     Conference date|Conference location|     Conference code|   ISSN|           ISBN|   CODEN|   PubMed ID|Abbreviated Source Title|Publication Stage|Open Access|  Source|               EID|'Authors with affiliations|Start_date|End_date|\n+----------------+-----------------------------+--------------------+--------------------+--------------------+--------------------+----+--------------------+------+-----+--------------+----------+--------+----------+--------+--------------------+--------------------+--------------------+-------------------------+--------------------+--------------------+--------------------+--------------------------+--------------------+----------+-------------+--------------------+--------------------+--------------------+----------------------+--------------------+--------------------+--------------------+--------------------+--------------------+-------------------+--------------------+-------+---------------+--------+------------+------------------------+-----------------+-----------+--------+------------------+--------------------------+----------+--------+\n|         Article|                      English|[mesrar m., majdo...|[Mesrar M., Majdo...|[57201494664, 572...|(1-x)(Na₀.₅Bi₀.₅)...|2024|             Heliyon|    10|    5|          null|        -1|      -1|      null|       5|10.1016/j.heliyon...|https://www.scopu...|[Signals  Systems...|     Mesrar M., Signal...|x)(Na₀.₅Bi₀.₅)TiO...|[(1-x)NBT-xCT, Ch...|                null|                      null|                null|   Unknown|      Unknown|             Unknown|             Unknown|[Kaur R.. Sharma ...|  M. Mesrar; Signal...|             Unknown|        Elsevier Ltd|             Unknown|             Unknown|                null|            Unknown|                null|No ISSN|        No ISBN|No CODEN|No PubMed ID|                 Heliyon|            Final|       true|  Scopus|2-s2.0-85186625423|      {Le Y. -> Univers...|      null|    null|\n|         Article|                      English|[ouhaddou m., bou...|[Ouhaddou Madani,...|[59179288200, 236...|3-Pyrazolyl-pyran...|2024|Journal of Molecu...|  1316| null|        139049|        -1|      -1|      null|       2|10.1016/j.molstru...|https://www.scopu...|[Molecular Chemis...|     Ouhaddou M., Mole...|Synthesis, crysta...|[3-Pyrazolyl-pyra...|[Charge transfer,...|                      null|                null|   Unknown|      Unknown|Université Sultan...|The authors are t...|[Hayat F.. Salahu...|  L. Bouissane; Mol...|             Unknown|       Elsevier B.V.|             Unknown|             Unknown|                null|            Unknown|                null|No ISSN|        No ISBN|   JMOSB|No PubMed ID|         J. Mol. Struct.|            Final|      false|  Scopus|2-s2.0-85196429577|      {Hafid A. -> Mole...|      null|    null|\n|Conference paper|                      English|[amenchar o., bag...|[Amenchar Ouiam, ...|[59145233900, 566...|3D Efficient HWSN...|2024|1st International...|  null| null|          null|        -1|      -1|      null|       0|10.1109/ICCIMS616...|https://www.scopu...|[University of Ab...|     Amenchar O., Univ...|For different liv...|[3D geometry, clu...|[Steganography, W...|                      null|                null|   Unknown|      Unknown|             Unknown|             Unknown|[Ammari H.M.. Das...|               Unknown|             Unknown|Institute of Elec...|             Unknown|1st International...|29 July 2024 thro...|           Gatineau|              203023|No ISSN|979-835035173-6|No CODEN|No PubMed ID|    Int. Conf. Comput...|            Final|      false|  Scopus|2-s2.0-85206664621|      {Dkiouak A. -> La...|      null|    null|\n|         Article|                      English|[koucham m., ait-...|[Koucham M’hamed,...|[59344845000, 572...|3D Geostatistical...|2024|            Minerals|    14|    9|           893|        -1|      -1|      null|       0| 10.3390/min14090893|https://www.scopu...|[Resources Valori...|     Koucham M., Resou...|The management of...|[3D geostatistica...|                null|                      null|                null|   Unknown|      Unknown|             Unknown|             Unknown|[Lottermoser B.G....|  M. El-Adnani; Res...|             Unknown|Multidisciplinary...|             Unknown|             Unknown|                null|            Unknown|                null|No ISSN|        No ISBN|No CODEN|No PubMed ID|                Minerals|            Final|       true|  Scopus|2-s2.0-85205061817|      {Ait-Khouia Y. ->...|      null|    null|\n|         Article|                      English|[abbad a., el kai...|[Abbad Abdelghafo...|[56034962600, 571...|3D face recogniti...|2024|Signal, Image and...|    18| null|          null|        17|      30|        13|       0|10.1007/s11760-02...|https://www.scopu...|[ISA  Department ...|     Abbad A., ISA, De...|This article pres...|[3D face recognit...|[Face recognition...|                      null|                null|   Unknown|      Unknown|             Unknown|             Unknown|[Li M.. Huang B.....|  A. Abbad; ISA, De...|             Unknown|Springer Science ...|             Unknown|             Unknown|                null|            Unknown|                null|No ISSN|        No ISBN|No CODEN|No PubMed ID|    Signal Image Vide...|            Final|      false|  Scopus|2-s2.0-85190685603|      {Tairi H. -> LISA...|      null|    null|\n|         Unknown|                      Unknown|[haboubi c., el h...|[Haboubi Chaimae,...|[58018909100, 572...|A Bibliometric An...|2024|Palestinian Medic...|     9|    2|             1|       125|     136|        11|       6|10.59049/2790-023...|https://www.scopu...|[Department of En...|     Haboubi C., Depar...|Cannabis plant cu...|      [institutions]|[and authors enga...|       An-Najah Nationa...|Bibliometric anal...|   Unknown|      Unknown|             Unknown|             Unknown|           [Unknown]|               Unknown|             Unknown|Rull V, Et al., A...|Y. El Hammoudani;...|             Unknown|An-Najah National...|            Unknown|                null|No ISSN|        No ISBN|No CODEN|    24138568|                 Unknown|          Unknown|       true| Article|             Final|      {Jaradat N. -> Fa...|      null|    null|\n|         Article|                      English|[benatiya andalou...|[Benatiya Andalou...|       [58722486300]|A Bibliometric Li...|2024|           SAGE Open|    14|    2|          null|        -1|      -1|      null|       2|10.1177/215824402...|https://www.scopu...|[FPSB  Chouaib Do...|     Benatiya Andalous...|This paper presen...|[data analytics, ...|                null|                      null|                null|   Unknown|      Unknown|             Unknown|             Unknown|[Abdirad M.. Kris...|  M. Benatiya Andal...|             Unknown|SAGE Publications...|             Unknown|             Unknown|                null|            Unknown|                null|No ISSN|        No ISBN|No CODEN|No PubMed ID|               SAGE Open|            Final|       true|  Scopus|2-s2.0-85190498988|      {Benatiya Andalou...|      null|    null|\n|Conference paper|                      English|[oumoussa i., sai...|[Oumoussa Idris, ...|[57436524100, 247...|A Business-Centri...|2024|Lecture Notes in ...|  null| null|          null|       240|     249|         9|       0|10.1007/978-3-031...|https://www.scopu...|[SI2M Laboratory ...|     Oumoussa I., SI2M...|Microservice-orie...|[Business process...|[Administrative d...|                      null|                null|   Unknown|      Unknown|             Unknown|             Unknown|[Davenport T.. Sh...|  I. Oumoussa; SI2M...|Motahhir S.; Boss...|Springer Science ...|             Unknown|4th International...|2 February 2024 t...|          Benguerir|              317269|No ISSN|978-303168674-0|No CODEN|No PubMed ID|    Lect. Notes Netwo...|            Final|      false|  Scopus|2-s2.0-85203595545|      {Saidi R. -> SI2M...|      null|    null|\n|         Article|                      English|[kim h., mahdou n...|[Kim Hwankoo, Mah...|[56981361100, 560...|A Characterizatio...|2024|Kyungpook Mathema...|    64|    1|          null|         1|      14|        13|       0|10.5666/KMJ.2024....|https://www.scopu...|[Division of Comp...|     Kim H., Division ...|Recently, Zhao, W...|[Nonnil-commutati...|                null|                      null|                null|   Unknown|      Unknown|National Research...|* Corresponding A...|[Anderson D. F.. ...|  H. Kim; Division ...|             Unknown|Kyungmoon Publishing|             Unknown|             Unknown|                null|            Unknown|                null|No ISSN|        No ISBN|No CODEN|No PubMed ID|      Kyungpook Math. J.|            Final|      false|  Scopus|2-s2.0-85190300573|      {Oubouhou E.H. ->...|      null|    null|\n|         Article|                      English|[belkadi s., atou...|[Belkadi Said, At...|[57942050000, 553...|A Class of Centra...|2024|Boletim da Socied...|    42| null|          null|        -1|      -1|      null|       0|  10.5269/bspm.63895|https://www.scopu...|[Department of Ma...|     Belkadi S., Depar...|This study introd...|[finite volume sc...|                null|                      null|                null|   Unknown|      Unknown|             Unknown|             Unknown|[Aggarwal A.. Col...|               Unknown|             Unknown|Boletim da Socied...|             Unknown|             Unknown|                null|            Unknown|                null|No ISSN|        No ISBN|No CODEN|No PubMed ID|    Bol. Soc. Parana....|            Final|      false|  Scopus|2-s2.0-85192759789|      {Atounti M. -> De...|      null|    null|\n|    Book chapter|                      English|[douhi s., eddiai...|[Douhi Saïd, Eddi...|[58134691100, 552...|A Compact Two-Por...|2024|Signals and Commu...|  null| null|          null|       149|     160|        11|       0|10.1007/978-3-031...|https://www.scopu...|[Laboratory of Ph...|     Douhi S., Laborat...|This article intr...|[Axial ratio (AR)...|[5G mobile commun...|                      null|                null|   Unknown|      Unknown|Moroccan Ministry...|We want to thank ...|[Douhi S.. Invest...|  S. Douhi; Laborat...|             Unknown|Springer Science ...|             Unknown|             Unknown|                null|            Unknown|                null|No ISSN|        No ISBN|No CODEN|No PubMed ID|    Signals Commun. T...|            Final|      false|  Scopus|2-s2.0-85201369164|      {Das S. -> Depart...|      null|    null|\n|         Article|                      English|[briache a., afas...|[Briache Ayoub, A...|[58713663300, 572...|A Comparative Ana...|2024|International Jou...|   229| null|        125730|        -1|      -1|      null|       3|10.1016/j.ijheatm...|https://www.scopu...|[MaSEEL  FSTT  Ab...|     Briache A., MaSEE...|Efficient cooling...|[Heat Sink, Phase...|[Copper, Electron...|                      null|                null|   Unknown|      Unknown|             Unknown|             Unknown|[Sohel Murshed S....|  A. Briache; MaSEE...|             Unknown|        Elsevier Ltd|             Unknown|             Unknown|                null|            Unknown|                null|No ISSN|        No ISBN|   IJHMA|No PubMed ID|    Int. J. Heat Mass...|            Final|      false|  Scopus|2-s2.0-85193800504|      {Mahdaoui M. -> M...|      null|    null|\n|Conference paper|                      English|[seridi k., el rh...|[Seridi Karim, El...|[58973791900, 572...|A Comparative Ana...|2024|Lecture Notes in ...|  null| null|          null|        75|      86|        11|       0|10.1007/978-3-031...|https://www.scopu...|[SIRC-LAGES Lab  ...|     Seridi K., SIRC-L...|Today, several su...|[collaborative fi...|[Collaborative fi...|                      null|                null|   Unknown|      Unknown|             Unknown|             Unknown|[Ricci F.. Rokach...|  K. Seridi; SIRC-L...|Ahmed M.B.; El Me...|Springer Science ...|             Unknown|8th International...|4 October 2023 th...|              Paris|              308359|No ISSN|978-303154375-3|No CODEN|No PubMed ID|    Lect. Notes Netwo...|            Final|      false|  Scopus|2-s2.0-85189622318|      {El Rharras A. ->...|      null|    null|\n|Conference paper|                      English|[belatik a., sabr...|[Belatik Assia, S...|[59315070900, 514...|A Comparative Rev...|2024|Lecture Notes in ...|  null| null|          null|       446|     456|        10|       0|10.1007/978-3-031...|https://www.scopu...|[Faculty of Scien...|     Belatik A., Facul...|This paper presen...|[Arduino Nano 33 ...|[Contrastive Lear...|                      null|                null|   Unknown|      Unknown|             Unknown|             Unknown|[Attaran N.. Pura...|  A. Belatik; Facul...|Motahhir S.; Boss...|Springer Science ...|             Unknown|4th International...|2 February 2024 t...|          Benguerir|              317269|No ISSN|978-303168659-7|No CODEN|No PubMed ID|    Lect. Notes Netwo...|            Final|      false|  Scopus|2-s2.0-85203186222|      {Sabri M.A. -> Fa...|      null|    null|\n|         Unknown|                      Unknown|[akiirne z., benk...|[Akiirne Ziad, Be...|[59304456700, 593...|A Comparative Stu...|2024|Proceedings - 11t...|  null| null|          null|        -1|      -1|      null|       0|10.1109/WINCOM622...|https://www.scopu...|[ENSIAS  Mohammed...|     Akiirne Z., ENSIA...|The advent of sma...|[Authentication P...|[Authentication, ...|                      null|                null|   Unknown|      Unknown|Centre National p...|\"This work was ca...|[\"Vailshery L.S.....|               Unknown|          pp. 99-106|                null|             Unknown|      Dharmavaram J.|            Kabra A.|       Degaonkar K.| Smart Security S...|No ISSN|        No ISBN|no coden|No PubMed ID|           (2017); Ho G.|          Unknown|       true| Song D.|         Wagner D.|      {Benkirane A. -> ...|      null|    null|\n|Conference paper|                      English|[qasery m.e., bar...|[Qasery Mouna El,...|[59322278500, 584...|A Comparative Stu...|2024|Lecture Notes in ...|  null| null|          null|       349|     358|         9|       0|10.1007/978-3-031...|https://www.scopu...|[Mohamadia School...|     Qasery M.E., Moha...|The study contrib...|[economic dispatc...|[Electric load di...|                      null|                null|   Unknown|      Unknown|             Unknown|             Unknown|[Elmouatamid A.. ...|  M.E. Qasery; Moha...|Motahhir S.; Boss...|Springer Science ...|             Unknown|4th International...|2 February 2024 t...|          Benguerir|              317269|No ISSN|978-303168674-0|No CODEN|No PubMed ID|    Lect. Notes Netwo...|            Final|      false|  Scopus|2-s2.0-85203595203|      {Rochd A. -> Elec...|      null|    null|\n|Conference paper|                      English|[houmma i.h., gad...|[Houmma Ismaguil ...|[57219930589, 650...|A Composite Appro...|2024|Advances in Scien...|  null| null|          null|       131|     136|         5|       0|10.1007/978-3-031...|https://www.scopu...|[Aix Marseille Un...|     Houmma I.H., Aix ...|In this chapter, ...|[Drought risk, In...|                null|                      null|                null|   Unknown|      Unknown|             Unknown|             Unknown|[Abou Ali N.. Haf...|  I.H. Houmma; Aix ...|Bezzeghoud M.; Er...|     Springer Nature|             Unknown|2nd International...|27 November 2022 ...|          Marrakech|              308399|No ISSN|978-303148714-9|No CODEN|No PubMed ID|    Adv. Sci. Tech. I...|            Final|      false|  Scopus|2-s2.0-85187706308|      {Gbetkom P.G. -> ...|      null|    null|\n|         Article|                      English|[boumajdi n., ben...|[Boumajdi Nasma, ...|[57219394294, 572...|A Comprehensive A...|2024|Evolutionary Bioi...|    20| null|          null|        -1|      -1|      null|       0|10.1177/117693432...|https://www.scopu...|[Laboratory of Bi...|     Boumajdi N., Labo...|Genetic variation...|[admixture analys...|[adult, African, ...|                      null|                null|   Unknown|      Unknown|Institute of Canc...|This work was car...|[Frazer K.A.. Bal...|  A. Ibrahimi; Labo...|             Unknown|SAGE Publications...|             Unknown|             Unknown|                null|            Unknown|                null|No ISSN|        No ISBN|No CODEN|No PubMed ID|    Evol. Bioinformatics|            Final|       true|  Scopus|2-s2.0-85184147927|      {Bendani H. -> La...|      null|    null|\n|Conference paper|                      English|[ben hssain i., b...|[Ben Hssain Idris...|[59322194400, 572...|A Comprehensive E...|2024|Lecture Notes in ...|  null| null|          null|       526|     535|         9|       0|10.1007/978-3-031...|https://www.scopu...|[Engineering  Sys...|     Ben Hssain I., En...|The sensitivity o...|[CS, DNA, ECC, Im...|[Chaotics, Curve ...|                      null|                null|   Unknown|      Unknown|             Unknown|             Unknown|[Naji M.A.. Et al...|  I. Ben Hssain; En...|Motahhir S.; Boss...|Springer Science ...|             Unknown|4th International...|2 February 2024 t...|          Benguerir|              317269|No ISSN|978-303168674-0|No CODEN|No PubMed ID|    Lect. Notes Netwo...|            Final|      false|  Scopus|2-s2.0-85203582188|      {Hafid A. -> ESIS...|      null|    null|\n|          Review|                      English|[achagar r., ait-...|[Achagar Redouane...|[57222025470, 571...|A Comprehensive R...|2024|           Cosmetics|    11|    2|            48|        -1|      -1|      null|       1|10.3390/cosmetics...|https://www.scopu...|[Laboratory of Or...|     Achagar R., Labor...|This review inves...|[cosmeceutical ap...|                null|                      null|                null|   Unknown|      Unknown|             Unknown|             Unknown|[Zamora Carballo ...|  Z. Ait-Touchente;...|             Unknown|Multidisciplinary...|             Unknown|             Unknown|                null|            Unknown|                null|No ISSN|        No ISBN|No CODEN|No PubMed ID|               Cosmetics|            Final|       true|  Scopus|2-s2.0-85191466738|      {Abdou A. -> Labo...|      null|    null|\n+----------------+-----------------------------+--------------------+--------------------+--------------------+--------------------+----+--------------------+------+-----+--------------+----------+--------+----------+--------+--------------------+--------------------+--------------------+-------------------------+--------------------+--------------------+--------------------+--------------------------+--------------------+----------+-------------+--------------------+--------------------+--------------------+----------------------+--------------------+--------------------+--------------------+--------------------+--------------------+-------------------+--------------------+-------+---------------+--------+------------+------------------------+-----------------+-----------+--------+------------------+--------------------------+----------+--------+\nonly showing top 20 rows\n\n"
     ]
    }
   ],
   "source": [
    "df.show()"
   ]
  },
  {
   "cell_type": "markdown",
   "metadata": {
    "application/vnd.databricks.v1+cell": {
     "cellMetadata": {
      "byteLimit": 2048000,
      "rowLimit": 10000
     },
     "inputWidgets": {},
     "nuid": "b29e35a3-e062-4f1f-b590-23291383ba07",
     "showTitle": false,
     "tableResultSettingsMap": {},
     "title": ""
    }
   },
   "source": [
    "**Dividing to tables**"
   ]
  },
  {
   "cell_type": "code",
   "execution_count": 0,
   "metadata": {
    "application/vnd.databricks.v1+cell": {
     "cellMetadata": {
      "byteLimit": 2048000,
      "rowLimit": 10000
     },
     "inputWidgets": {},
     "nuid": "f30d7954-b352-426d-89fd-15140dc1773b",
     "showTitle": false,
     "tableResultSettingsMap": {},
     "title": ""
    }
   },
   "outputs": [],
   "source": [
    "from pyspark.sql import functions as F\n",
    "from pyspark.sql import types as T"
   ]
  },
  {
   "cell_type": "code",
   "execution_count": 0,
   "metadata": {
    "application/vnd.databricks.v1+cell": {
     "cellMetadata": {
      "byteLimit": 2048000,
      "rowLimit": 10000
     },
     "inputWidgets": {},
     "nuid": "b5a23633-c485-406b-862c-639abfadbc39",
     "showTitle": false,
     "tableResultSettingsMap": {},
     "title": ""
    }
   },
   "outputs": [],
   "source": [
    "# Generate Article_ID as a unique key from EID or DOI\n",
    "df = df.withColumn(\"Article_ID\", F.monotonically_increasing_id())\n"
   ]
  },
  {
   "cell_type": "code",
   "execution_count": 0,
   "metadata": {
    "application/vnd.databricks.v1+cell": {
     "cellMetadata": {
      "byteLimit": 2048000,
      "rowLimit": 10000
     },
     "inputWidgets": {},
     "nuid": "ae8ac791-81b9-4dec-b665-eef32fba7559",
     "showTitle": false,
     "tableResultSettingsMap": {},
     "title": ""
    }
   },
   "outputs": [],
   "source": [
    "articles_df = df.select(\n",
    "    \"Article_ID\", \"Title\", \"Year\", \"Source title\", \"Volume\", \"Issue\", \"article_number\",\n",
    "    \"Page start\", \"Page end\", \"Page count\", \"Cited by\", \"DOI\", \"Link\", \"Abstract\",\n",
    "    \"Molecular Sequence Numbers\", \"Chemicals/CAS\", \"Tradenames\", \"Manufacturers\",\n",
    "    \"Correspondence Address\", \"Editors\", \"Publisher\", \"Sponsors\", \"ISSN\", \"ISBN\",\n",
    "    \"CODEN\", \"PubMed ID\", \"Language of Original Document\", \"Abbreviated Source Title\",\n",
    "    \"Document Type\", \"Publication Stage\", \"Open Access\"\n",
    ")"
   ]
  },
  {
   "cell_type": "code",
   "execution_count": 0,
   "metadata": {
    "application/vnd.databricks.v1+cell": {
     "cellMetadata": {
      "byteLimit": 2048000,
      "rowLimit": 10000
     },
     "inputWidgets": {},
     "nuid": "6d30489c-f938-42f4-90e1-7754111a13e6",
     "showTitle": false,
     "tableResultSettingsMap": {},
     "title": ""
    }
   },
   "outputs": [
    {
     "output_type": "stream",
     "name": "stdout",
     "output_type": "stream",
     "text": [
      "root\n |-- Article_ID: long (nullable = false)\n |-- Title: string (nullable = true)\n |-- Year: integer (nullable = true)\n |-- Source title: string (nullable = true)\n |-- Volume: integer (nullable = true)\n |-- Issue: integer (nullable = true)\n |-- article_number: integer (nullable = true)\n |-- Page start: integer (nullable = false)\n |-- Page end: integer (nullable = false)\n |-- Page count: integer (nullable = true)\n |-- Cited by: integer (nullable = false)\n |-- DOI: string (nullable = false)\n |-- Link: string (nullable = true)\n |-- Abstract: string (nullable = true)\n |-- Molecular Sequence Numbers: string (nullable = true)\n |-- Chemicals/CAS: string (nullable = true)\n |-- Tradenames: string (nullable = false)\n |-- Manufacturers: string (nullable = false)\n |-- Correspondence Address: string (nullable = false)\n |-- Editors: string (nullable = false)\n |-- Publisher: string (nullable = true)\n |-- Sponsors: string (nullable = false)\n |-- ISSN: string (nullable = true)\n |-- ISBN: string (nullable = true)\n |-- CODEN: string (nullable = true)\n |-- PubMed ID: string (nullable = true)\n |-- Language of Original Document: string (nullable = false)\n |-- Abbreviated Source Title: string (nullable = false)\n |-- Document Type: string (nullable = true)\n |-- Publication Stage: string (nullable = true)\n |-- Open Access: boolean (nullable = false)\n\n"
     ]
    }
   ],
   "source": [
    "articles_df.printSchema()\n"
   ]
  },
  {
   "cell_type": "code",
   "execution_count": 0,
   "metadata": {
    "application/vnd.databricks.v1+cell": {
     "cellMetadata": {
      "byteLimit": 2048000,
      "rowLimit": 10000
     },
     "inputWidgets": {},
     "nuid": "724da3e0-dfa7-4faf-adec-1430418eb13e",
     "showTitle": false,
     "tableResultSettingsMap": {},
     "title": ""
    }
   },
   "outputs": [
    {
     "output_type": "display_data",
     "data": {
      "text/html": [
       "<style scoped>\n",
       "  .ansiout {\n",
       "    display: block;\n",
       "    unicode-bidi: embed;\n",
       "    white-space: pre-wrap;\n",
       "    word-wrap: break-word;\n",
       "    word-break: break-all;\n",
       "    font-family: \"Menlo\", \"Monaco\", \"Consolas\", \"Ubuntu Mono\", \"Source Code Pro\", monospace;\n",
       "    font-size: 13px;\n",
       "    color: #555;\n",
       "    margin-left: 4px;\n",
       "    line-height: 19px;\n",
       "  }\n",
       "</style>"
      ]
     },
     "metadata": {
      "application/vnd.databricks.v1+output": {
       "arguments": {},
       "data": "",
       "errorSummary": "Cancelled",
       "errorTraceType": "html",
       "metadata": {},
       "type": "ipynbError"
      }
     },
     "output_type": "display_data"
    }
   ],
   "source": [
    "articles_df.show(1, truncate=False)\n"
   ]
  },
  {
   "cell_type": "code",
   "execution_count": 0,
   "metadata": {
    "application/vnd.databricks.v1+cell": {
     "cellMetadata": {
      "byteLimit": 2048000,
      "rowLimit": 10000
     },
     "inputWidgets": {},
     "nuid": "3161b411-9100-4d4d-9070-b01f84e2cc03",
     "showTitle": false,
     "tableResultSettingsMap": {},
     "title": ""
    }
   },
   "outputs": [],
   "source": [
    "# 2. Authors Table\n",
    "# Explode authors to create individual rows per author\n",
    "authors_df = df.withColumn(\n",
    "    \"author_struct\",\n",
    "    F.explode(F.arrays_zip(F.col(\"Authors\"), F.col(\"Author full names\"), F.col(\"Author(s) ID\")))\n",
    ").select(\n",
    "    \"Article_ID\",\n",
    "    F.col(\"author_struct.Authors\").alias(\"Author_Name\"),\n",
    "    F.col(\"author_struct.Author full names\").alias(\"Author_Full_Name\"),\n",
    "    F.col(\"author_struct.Author(s) ID\").alias(\"Author_ID\")\n",
    ")\n"
   ]
  },
  {
   "cell_type": "code",
   "execution_count": 0,
   "metadata": {
    "application/vnd.databricks.v1+cell": {
     "cellMetadata": {
      "byteLimit": 2048000,
      "rowLimit": 10000
     },
     "inputWidgets": {},
     "nuid": "0b36ab56-7e03-4327-9c17-67e62530fd7f",
     "showTitle": false,
     "tableResultSettingsMap": {},
     "title": ""
    }
   },
   "outputs": [
    {
     "output_type": "display_data",
     "data": {
      "text/plain": [
       ""
      ]
     },
     "metadata": {
      "application/vnd.databricks.v1+output": {
       "arguments": {},
       "data": "",
       "errorSummary": "Command skipped",
       "errorTraceType": "ansi",
       "metadata": {},
       "type": "ipynbError"
      }
     },
     "output_type": "display_data"
    }
   ],
   "source": [
    "authors_df.show()"
   ]
  },
  {
   "cell_type": "code",
   "execution_count": 0,
   "metadata": {
    "application/vnd.databricks.v1+cell": {
     "cellMetadata": {
      "byteLimit": 2048000,
      "rowLimit": 10000
     },
     "inputWidgets": {},
     "nuid": "58d98c68-3dd9-4a58-b249-69431c774478",
     "showTitle": false,
     "tableResultSettingsMap": {},
     "title": ""
    }
   },
   "outputs": [
    {
     "output_type": "stream",
     "name": "stdout",
     "output_type": "stream",
     "text": [
      "root\n |-- Document Type: string (nullable = true)\n |-- Language of Original Document: string (nullable = false)\n |-- Authors: array (nullable = true)\n |    |-- element: string (containsNull = false)\n |-- Author Full Names: array (nullable = true)\n |    |-- element: string (containsNull = false)\n |-- Author(s) ID: array (nullable = true)\n |    |-- element: string (containsNull = false)\n |-- Title: string (nullable = true)\n |-- Year: integer (nullable = true)\n |-- Source title: string (nullable = true)\n |-- Volume: integer (nullable = true)\n |-- Issue: integer (nullable = true)\n |-- article_number: integer (nullable = true)\n |-- Page start: integer (nullable = false)\n |-- Page end: integer (nullable = false)\n |-- Page count: integer (nullable = true)\n |-- Cited by: integer (nullable = false)\n |-- DOI: string (nullable = false)\n |-- Link: string (nullable = true)\n |-- Affiliations: array (nullable = true)\n |    |-- element: string (containsNull = false)\n |-- Authors with affiliations: string (nullable = true)\n |-- Abstract: string (nullable = true)\n |-- Author Keywords: array (nullable = true)\n |    |-- element: string (containsNull = false)\n |-- Index Keywords: array (nullable = true)\n |    |-- element: string (containsNull = false)\n |-- Molecular Sequence Numbers: string (nullable = true)\n |-- Chemicals/CAS: string (nullable = true)\n |-- Tradenames: string (nullable = false)\n |-- Manufacturers: string (nullable = false)\n |-- Funding Details: string (nullable = false)\n |-- Funding Texts: string (nullable = false)\n |-- References: array (nullable = true)\n |    |-- element: string (containsNull = false)\n |-- Correspondence Address: string (nullable = false)\n |-- Editors: string (nullable = false)\n |-- Publisher: string (nullable = true)\n |-- Sponsors: string (nullable = false)\n |-- Conference name: string (nullable = false)\n |-- Conference date: string (nullable = true)\n |-- Conference location: string (nullable = false)\n |-- Conference code: string (nullable = true)\n |-- ISSN: string (nullable = true)\n |-- ISBN: string (nullable = true)\n |-- CODEN: string (nullable = true)\n |-- PubMed ID: string (nullable = true)\n |-- Abbreviated Source Title: string (nullable = false)\n |-- Publication Stage: string (nullable = true)\n |-- Open Access: boolean (nullable = false)\n |-- Source: string (nullable = false)\n |-- EID: string (nullable = true)\n |-- 'Authors with affiliations: map (nullable = true)\n |    |-- key: string\n |    |-- value: string (valueContainsNull = true)\n |-- Start_date: date (nullable = true)\n |-- End_date: date (nullable = true)\n |-- Article_ID: long (nullable = false)\n\n"
     ]
    }
   ],
   "source": [
    "df = df.drop(\"City\")\n",
    "df = df.drop(\"Country\")\n",
    "\n",
    "df.printSchema()"
   ]
  },
  {
   "cell_type": "code",
   "execution_count": 0,
   "metadata": {
    "application/vnd.databricks.v1+cell": {
     "cellMetadata": {
      "byteLimit": 2048000,
      "rowLimit": 10000
     },
     "inputWidgets": {},
     "nuid": "6426d5f2-5768-4904-b83e-cb61bcfc6e14",
     "showTitle": false,
     "tableResultSettingsMap": {},
     "title": ""
    }
   },
   "outputs": [
    {
     "output_type": "stream",
     "name": "stdout",
     "output_type": "stream",
     "text": [
      "+-------------------------------------------------------------------------------------------------------------------------------------------------------------------------------------------------------------------------------------------------------------------------------------------------------------------------------------------------------------------------------------------------------------------------------------------------------------------------------------------------------------------------------------------------------------------------------------------------------------------------------------------------------------------------------------------------------------------------------------------------------------------------------------------------------------------------------------------------------------------------------------------------------------------------------------------------------------------------------------------------------------------------------------------------------------------------+\n|Affiliations                                                                                                                                                                                                                                                                                                                                                                                                                                                                                                                                                                                                                                                                                                                                                                                                                                                                                                                                                                                                                                                             |\n+-------------------------------------------------------------------------------------------------------------------------------------------------------------------------------------------------------------------------------------------------------------------------------------------------------------------------------------------------------------------------------------------------------------------------------------------------------------------------------------------------------------------------------------------------------------------------------------------------------------------------------------------------------------------------------------------------------------------------------------------------------------------------------------------------------------------------------------------------------------------------------------------------------------------------------------------------------------------------------------------------------------------------------------------------------------------------+\n|[Signals  Systems and Components Laboratory (LSSC)  Faculty of Sciences and Technologies of Fez  Sidi Mohamed Ben Abdellah University  B.P. 2022  Fez  Morocco,  Materials Science Energy and Nanoengineering Department  Mohamed VI Polytechnic University  Benguerir  Morocco,  University of Chinese Academy  28 Road  Beijing  100041  China]                                                                                                                                                                                                                                                                                                                                                                                                                                                                                                                                                                                                                                                                                                                        |\n|[Nanoscience and Nanotechnology Unit  E.N.S Rabat  Energy Research Centre  Mohammed V University  B.P. 5118  Takaddoum Rabat  Morocco,  Nanomaterials and Photovoltaic Cells Laboratory  Green Energy Park (GEP)  UM6P/IRESEN  Benguerir  Morocco,  College of Sciences  Department of Physics  Imam Mohammad Ibn Saud Islamic University (IMSIU)  Riyadh  11623  Saudi Arabia,  Department of Physics  Kuwait University  Safat  13060  Kuwait]                                                                                                                                                                                                                                                                                                                                                                                                                                                                                                                                                                                                                         |\n|[Materials Science and Nano-Engineering MSN Department  Mohammed VI Polytechnic University  Lot 660-Hay Moulay Rachid  Ben Guerir  43150  Morocco]                                                                                                                                                                                                                                                                                                                                                                                                                                                                                                                                                                                                                                                                                                                                                                                                                                                                                                                       |\n|[Molecular Chemistry  Materials and Catalysis Laboratory  Faculty of Sciences and Technologies  Sultan Moulay Slimane University  BP 523  Beni-Mellal  23000  Morocco,  Institut de Chimie de Clermont-Ferrand  Université Blaise Pascal  ICCF-UMR 6296  Aubière  F-63178  France]                                                                                                                                                                                                                                                                                                                                                                                                                                                                                                                                                                                                                                                                                                                                                                                       |\n|[University of Abdelmalek Essâddi  LabTIC  ENSA of Tangier  Tangier  Morocco,  LCCPS  ENSAM of Casablanca  University of Hassan II  Casablanca  Morocco,  LaSIT  ENSA of Tetuan  University of Abdelmalek Essaadi  Tetuan  Morocco,  University of Abdelmalek Essaadi  Faculty Polydisciplinaire of Larache  Larache  Morocco]                                                                                                                                                                                                                                                                                                                                                                                                                                                                                                                                                                                                                                                                                                                                           |\n|[Resources Valorization  Environment and Sustainable Development Research Team (RVESD)  Department of Mines  Mines School of Rabat  Ave Hadj Ahmed Cherkaoui  BP 753  Agdal  Rabat  10090  Morocco,  Geology and Sustainable Mining Institute  Mohammed VI Polytechnic University  Lot 660  Hay Moulay Rachid  Ben Guerir  43150  Morocco]                                                                                                                                                                                                                                                                                                                                                                                                                                                                                                                                                                                                                                                                                                                               |\n|[ISA  Department of Computer Science  Faculty of Science and Technology  University Sidi Mohamed Ben Abdelah  Fez  Morocco,  LISAC  Department of Computer Science  Faculty of Sciences Dhar El Mahraz  University Sidi Mohamed Ben Abdelah  Fez  Morocco,  Computer Science and Systems Engineering  Department of Computer Science  Faculty of Science and Technology  University Abdelmalek Essaadi  Tetouan  Morocco]                                                                                                                                                                                                                                                                                                                                                                                                                                                                                                                                                                                                                                                |\n|[LISAC Laboratory  Department of Computer Sciences  Faculty of Sciences  Sidi Mohamed ben Abdellah University  Dhar El Mahraz  Fez  30050  Morocco]                                                                                                                                                                                                                                                                                                                                                                                                                                                                                                                                                                                                                                                                                                                                                                                                                                                                                                                      |\n|[Department of Radiology  Mohammed VI University Hospital  Faculty of Medicine  University Mohammed First  Oujda  Morocco]                                                                                                                                                                                                                                                                                                                                                                                                                                                                                                                                                                                                                                                                                                                                                                                                                                                                                                                                               |\n|[Department of Energy and Environmental Civil Engineering  National School of Applied Sciences of Al-Hoceima  Engineering Sciences and Applications Laboratory  Abdelmalek Essaâdi University  Tetouan  Morocco,  Faculty of Medicine and Health Sciences  An-Najah National University  Nablus  Palestine,  Department of Chemistry  An-Najah National University  Nablus  Palestine]                                                                                                                                                                                                                                                                                                                                                                                                                                                                                                                                                                                                                                                                                   |\n|[FPSB  Chouaib Doukkali University  El Jadida  Morocco]                                                                                                                                                                                                                                                                                                                                                                                                                                                                                                                                                                                                                                                                                                                                                                                                                                                                                                                                                                                                                  |\n|[SI2M Laboratory  National Institute of Statistics and Applied Economics  Rabat  Morocco,  Claude Bernard Lyon 1 University  Lyon  France,  Ecole de Technologie Supérieure  Montreal  Canada,  Faculty of Sciences  Mohammed V University  Rabat  Morocco]                                                                                                                                                                                                                                                                                                                                                                                                                                                                                                                                                                                                                                                                                                                                                                                                              |\n|[Middle East  Africa  and Eurasia Influenza Stakeholder Network (MENA-ISN)  P.O.Box 393 PC 100  Muscat  Oman,  Internal and Pulmonary Medicine Department  Sheri Kashmir Institute of Medical Sciences  Srinagar  India,  Adult Infectious Diseases  Department of Medicine  Royal Hospital  MOH  Muscat  Oman,  Directorate of the National Diabetes Prevention and Control Program  Ministry of Health  Riyadh  Saudi Arabia,  Faculty of Medicine and Pharmacy of Rabat  Mohammed V University  Rabat  Morocco,  Child Health section  Dubai Health Authority  Dubai  United Arab Emirates,  Health Protection  Primary Health Care Center  MOPH  Doha  Qatar,  Department of National immunization Program  Ministry of Health  Riyadh  Saudi Arabia,  Health Affairs  Muscat MOH  Oman,  Department of Internal Medicine  Division of General Internal Medicine  Hacettepe University Faculty of Medicine  Ankara  Turkey,  Department of Experimental Pathology  Immunology  and Microbiology  Faculty of Medicine  American University of Beirut  Beirut  Lebanon]|\n|[Division of Computer Engineering  Hoseo University  Asan  31499  South Korea,  Department of Mathematics  Faculty of Science and Technology of Fez  University S. M. Ben Abdellah  Box 2202  Fez  Morocco]                                                                                                                                                                                                                                                                                                                                                                                                                                                                                                                                                                                                                                                                                                                                                                                                                                                              |\n|[Laboratory of Plants  Animals Productions and Agro-Industry  Faculty of Sciences  Ibn Tofail University  BP 133  Kenitra  14000  Morocco]                                                                                                                                                                                                                                                                                                                                                                                                                                                                                                                                                                                                                                                                                                                                                                                                                                                                                                                               |\n|[Department of Mathematics  Multidisciplinary Faculty of Nador  University Mohammed First  Oujda  Morocco]                                                                                                                                                                                                                                                                                                                                                                                                                                                                                                                                                                                                                                                                                                                                                                                                                                                                                                                                                               |\n|[Laboratory of Physics of Condensed Matter (LPMC)  Faculty of Sciences Ben M’Sik  Hassan II University of Casablanca  Casablanca  Morocco,  REMTEX Laboratory  Higher School of Textile and Clothing Industries (ESITH)  Casablanca  Morocco,  Department of Electrical and Computer Engineering  University of Houston  Houston  77204  TX  United States,  Department of Electronics and Communication Engineering  IMPS College of Engineering and Technology  West Bengal  Malda  732103  India]                                                                                                                                                                                                                                                                                                                                                                                                                                                                                                                                                                     |\n|[MaSEEL  FSTT  Abdelmalek Essaâdi University  Tetouan  Morocco,  Univ. Polytechnique Hauts-de-France  CNRS  UMR 8201 – LAMIH  Valenciennes  F-59313  France]                                                                                                                                                                                                                                                                                                                                                                                                                                                                                                                                                                                                                                                                                                                                                                                                                                                                                                             |\n|[SIRC-LAGES Lab  Hassania School of Public Works  Casablanca  Morocco]                                                                                                                                                                                                                                                                                                                                                                                                                                                                                                                                                                                                                                                                                                                                                                                                                                                                                                                                                                                                   |\n|[Faculty of Sciences Dhar Mahraz  Sidi Mohamed Ben Abdellah University  Fez  Morocco]                                                                                                                                                                                                                                                                                                                                                                                                                                                                                                                                                                                                                                                                                                                                                                                                                                                                                                                                                                                    |\n|[ENSIAS  Mohammed V University in Rabat  Smart Systems Laboratory (SSL)  Morocco,  ENSIAS  Mohammed V University in Rabat  Morocco]                                                                                                                                                                                                                                                                                                                                                                                                                                                                                                                                                                                                                                                                                                                                                                                                                                                                                                                                      |\n|[Optics and Photonics Center  Moroccan Foundation for Advanced Science and Innovation and Research  University Mohammed VI Polytechnic \n\n*** WARNING: max output size exceeded, skipping output. ***\n\n                                                                                                           |\n|[High School of Technology  Moulay Ismail University  Meknes  50050  Morocco,  Faculty of Sciences Dhar El Mahraz-Fes  Sidi Mohamed Ben Abdellah University  Fes  Morocco,  Department of Electronics and Communication Engineering  IMPS College of Engineering and Technology  West Bengal  India,  Department of Electronics and Communication Engineering  Koneru Lakshmaiah Education Foundation  Andhra Pradesh  India,  Department of Electrical and Computer Engineering  University of Houston  Houston  United States]                                                                                                                                                                                                                                                                                                                                                                                                                                                                                                                                         |\n|[Material Science  Energy and Nano-Engineering Department  University Mohammed VI Polytechnic UM6P  Lot 660 Hay Moulay Rachid  Benguerir  43150  Morocco]                                                                                                                                                                                                                                                                                                                                                                                                                                                                                                                                                                                                                                                                                                                                                                                                                                                                                                                |\n|[IRF-SIC  Faculty of Science  Ibn Zohr University  Agadir  Morocco]                                                                                                                                                                                                                                                                                                                                                                                                                                                                                                                                                                                                                                                                                                                                                                                                                                                                                                                                                                                                      |\n|[Laboratoire de Productions Végétales  Animales et Agro-Industrie  Faculté des Sciences  Université Ibn Tofail  Kénitra  Morocco,  Département de Botanique et d’écologie Végétale  Institut Scientifique  Université Mohamed V  Rabat  Morocco]                                                                                                                                                                                                                                                                                                                                                                                                                                                                                                                                                                                                                                                                                                                                                                                                                         |\n|[University of Chouaib Doukkali  LAROSERI Laboratory  Faculty of Sciences  Computer Science Department  El Jadida  Morocco,  Mohammed V University of Rabat  LRIT Laboratory  Faculty of Sciences  Computer Science Department  Rabat  Morocco]                                                                                                                                                                                                                                                                                                                                                                                                                                                                                                                                                                                                                                                                                                                                                                                                                          |\n|[Abdelmalek Essaadi University  B.P. 1818  Tangier  90000  Morocco,  Hassan II University  B.P. 8012  Casablanca  Morocco,  Moulay Ismail University  B.P. 15290  Meknes  Morocco]                                                                                                                                                                                                                                                                                                                                                                                                                                                                                                                                                                                                                                                                                                                                                                                                                                                                                       |\n|[Equipe MAISI  Ibn Zohr University  ENSA  Agadir  BP 1136  Morocco]                                                                                                                                                                                                                                                                                                                                                                                                                                                                                                                                                                                                                                                                                                                                                                                                                                                                                                                                                                                                      |\n|[ENSIAS  Mohamed V University in Rabat  Rabat  Morocco,  National Center for Scientific and Technical Research  Rabat  Morocco]                                                                                                                                                                                                                                                                                                                                                                                                                                                                                                                                                                                                                                                                                                                                                                                                                                                                                                                                          |\n|[Department of Obstetrics and Gynecology  Oncology and High-Risk Pregnancies  Maternity Hospital Souissi  University Hospital Center IBN SINA  University Mohammed V  Rabat  Morocco,  Gynaecology-Obstetrics and Endoscopy Department  Maternity Souissi  University Hospital Center IBN SINA  University Mohammed V  Rabat  Morocco,  Department of Pathology  University Hospital Center IBN SINA  University Mohammed V  Rabat  Morocco,  Department of Medical Oncology  University Hospital Center IBN SINA  University Mohammed V  Rabat  Morocco]                                                                                                                                                                                                                                                                                                                                                                                                                                                                                                                |\n|[Computer Systems Engineering Laboratory  Cadi Ayyad University  Faculty of Sciences Semlalia  Marrakesh  Morocco,  Ensa School-University Chouaib Doukkali  Lti Laboratory  EL Jadida  Morocco,  Computer Science Engineering Laboratory  Cadi Ayyad University  Faculty of Sciences Semlalia  Marrakesh  Morocco]                                                                                                                                                                                                                                                                                                                                                                                                                                                                                                                                                                                                                                                                                                                                                      |\n|[Departments of Mathematics and Computer Sciences Faculty of Sciences  University Ibnou Zohr  Laboratory of Computing Systems & Vision (LabSiV)  Team of Security  Cryptology  Access Control and Modeling (SCCAM)  B. P. 8106  Dakhla  Agadir  Morocco]                                                                                                                                                                                                                                                                                                                                                                                                                                                                                                                                                                                                                                                                                                                                                                                                                 |\n|[Center for Advanced Systems Understanding  Helmholtz-Zentrum Dresden-Rossendorf  Untermarkt 20  Görlitz  02826  Germany,  Helmholtz-Institute Freiberg for Resource Technology  Helmholtz-Zentrum-Dresden Rossendorf  Freiberg  09599  Germany,  Department of Photogrammetry and Cartography  School of Geomatics and Surveying Engineering  IAV Hassan II  6202 Madinat Al Irfane  Rabat  10000  Morocco,  School of Geosciences  University of the Witwatersrand  Johannesburg  2000  South Africa]                                                                                                                                                                                                                                                                                                                                                                                                                                                                                                                                                                  |\n|[Molecular Chemistry Laboratory  Department of Chemistry  Semlalia Faculty of Sciences  Cadi Ayyad University  Marrakech  40001  Morocco,  Department of Pharmaceutical Chemistry  College of Pharmacy  King Saud University  Riyadh  11451  Saudi Arabia,  University Institute of Pharma Sciences  Chandigarh University  Punjab  Mohali  14041  India]                                                                                                                                                                                                                                                                                                                                                                                                                                                                                                                                                                                                                                                                                                                |\n|[Faculty of Sciences  Ibn Zohr University  Agadir  Morocco,  EST  Ibn Zohr University  Agadir  Morocco]                                                                                                                                                                                                                                                                                                                                                                                                                                                                                                                                                                                                                                                                                                                                                                                                                                                                                                                                                                  |\n|[LABTIC  ENSA of Tangier  University of Abdelmalek  Essaadi  Morocco,  ENSA of Teouan  University of Abdelmalek  Essaadi  Morocco,  Hassan First University of Settat  FST of Settat  MIET Laboratory  Morocco,  UQO Gatineau Canada  Canada]                                                                                                                                                                                                                                                                                                                                                                                                                                                                                                                                                                                                                                                                                                                                                                                                                            |\n|[STI Laboratory  IDMS Team  Faculty of Sciences and Techniques  Moulay Ismail University of Meknes  Errachidia  Morocco,  Laboratory of Spectroscopy  Molecular Modeling  Materials  Nanomaterials  Water and Environment  Faculty of Science  CERNE2D  Mohammed V University  Rabat  Morocco,  Technology Higher School Essaouira  Cadi Ayyad University  Marrakesh  Morocco,  Digital Connectivity Research Laboratory  Kampala  Uganda,  School of Digital Science  Universiti Brunei Darussalam  Jalan Tungku Link  Gadong  1410  Brunei Darussalam,  Department of Computer Science  College of Computer Engineering and Sciences  Prince Sattam Bin Abdulaziz University  Al-Kharj  11942  Saudi Arabia,  University Center for Research and Development (UCRD)  Department of Computer Science and Engineering  Chandigarh University  Gharuan  Mohali  Punjab  140413  India]                                                                                                                                                                                    |\n|[Information System and Logistics Engineering  ENSA Tetouan  Abdelmalek Esaadi Unversity  Morocco,  Advanced Science and Technology Team  ENSA Tetouan  Abdelmalek Esaadi University  Morocco]                                                                                                                                                                                                                                                                                                                                                                                                                                                                                                                                                                                                                                                                                                                                                                                                                                                                           |\n|[National School of Applied Sciences  The Engineering Sciences Laboratory at Ibn Tofail University  Kenitra  Morocco]                                                                                                                                                                                                                                                                                                                                                                                                                                                                                                                                                                                                                                                                                                                                                                                                                                                                                                                                                    |\n|[LAGA research laboratory  Department of Mathematics  Faculty of Sciences  Ibnou Tofail University  Kenitra  Morocco,  M@Da research team  Department of Mathematics  CRMEF  Rabat  Morocco]                                                                                                                                                                                                                                                                                                                                                                                                                                                                                                                                                                                                                                                                                                                                                                                                                                                                             |\n|[University Mohammed Premier  Multidisciplinary Faculty of Nador  Oujda  60000  Morocco,  ENSAK  Sultan Moulay Slimane University  Laboratory LaSTI  Khouribga  54000  Morocco,  Cracow University of Technology  Faculty of Computer Science and Telecommunications  Department of Computer Science  Krakow  31-155  Poland,  Institute of Theoretical and Applied Informatics  Polish Academy of Sciences  Gliwice  44-100  Poland,  King Saud University  Community College  Computer Science Department  Riyadh  11437  Saudi Arabia]                                                                                                                                                                                                                                                                                                                                                                                                                                                                                                                                |\n|[Research Foundation for Development and Innovation in Science and Engineering  Casablanca  Morocco,  System Architecture Team (EAS)  Engineering Research Laboratory (LRI)  National High School of Electricity and Mechanic (ENSEM)  Hassan II University  Casablanca  8118  Morocco,  EIGSI  La Rochelle  17041  France,  IT  Image  Interaction Laboratory (L3I)  University of la Rochelle  La Rochelle  17000  France]                                                                                                                                                                                                                                                                                                                                                                                                                                                                                                                                                                                                                                             |\n|[Mechanic and Energetic Laboratory  FSO  University Mohammed First  Oujda  60050  Morocco]                                                                                                                                                                                                                                                                                                                                                                                                                                                                                                                                                                                                                                                                                                                                                                                                                                                                                                                                                                               |\n|[Equipe d’Equations Fonctionnelles et Applications  Department of Mathematics  Faculty of Sciences  Ibn Zohr University  Agadir  Morocco]                                                                                                                                                                                                                                                                                                                                                                                                                                                                                                                                                                                                                                                                                                                                                                                                                                                                                                                                |\n+-------------------------------------------------------------------------------------------------------------------------------------------------------------------------------------------------------------------------------------------------------------------------------------------------------------------------------------------------------------------------------------------------------------------------------------------------------------------------------------------------------------------------------------------------------------------------------------------------------------------------------------------------------------------------------------------------------------------------------------------------------------------------------------------------------------------------------------------------------------------------------------------------------------------------------------------------------------------------------------------------------------------------------------------------------------------------+\nonly showing top 100 rows\n\n"
     ]
    }
   ],
   "source": [
    "df.select(\"Affiliations\").show(100,truncate=False)\n"
   ]
  },
  {
   "cell_type": "code",
   "execution_count": 0,
   "metadata": {
    "application/vnd.databricks.v1+cell": {
     "cellMetadata": {
      "byteLimit": 2048000,
      "rowLimit": 10000
     },
     "inputWidgets": {},
     "nuid": "3a1d0627-c0d7-4c4f-90dd-7e74ece7509c",
     "showTitle": false,
     "tableResultSettingsMap": {},
     "title": ""
    }
   },
   "outputs": [],
   "source": [
    "\n",
    "# 3. Affiliations Table\n",
    "# Explode affiliations to create individual rows per affiliation\n",
    "affiliations_df = df.select(\n",
    "    \"Article_ID\",\n",
    "    F.explode(F.col(\"Affiliations\")).alias(\"Affiliation\")\n",
    ")"
   ]
  },
  {
   "cell_type": "code",
   "execution_count": 0,
   "metadata": {
    "application/vnd.databricks.v1+cell": {
     "cellMetadata": {
      "byteLimit": 2048000,
      "rowLimit": 10000
     },
     "inputWidgets": {},
     "nuid": "47e46fba-9b72-498a-a5da-51bc6b6f0810",
     "showTitle": false,
     "tableResultSettingsMap": {},
     "title": ""
    }
   },
   "outputs": [
    {
     "output_type": "stream",
     "name": "stdout",
     "output_type": "stream",
     "text": [
      "+----------+-------------------------------------------------------------------------------------------------------------------------------------------------------------------------------------------------+\n|Article_ID|Affiliation                                                                                                                                                                                      |\n+----------+-------------------------------------------------------------------------------------------------------------------------------------------------------------------------------------------------+\n|0         |Signals  Systems and Components Laboratory (LSSC)  Faculty of Sciences and Technologies of Fez  Sidi Mohamed Ben Abdellah University  B.P. 2022  Fez  Morocco                                    |\n|0         | Materials Science Energy and Nanoengineering Department  Mohamed VI Polytechnic University  Benguerir  Morocco                                                                                  |\n|0         | University of Chinese Academy  28 Road  Beijing  100041  China                                                                                                                                  |\n|1         |Nanoscience and Nanotechnology Unit  E.N.S Rabat  Energy Research Centre  Mohammed V University  B.P. 5118  Takaddoum Rabat  Morocco                                                             |\n|1         | Nanomaterials and Photovoltaic Cells Laboratory  Green Energy Park (GEP)  UM6P/IRESEN  Benguerir  Morocco                                                                                       |\n|1         | College of Sciences  Department of Physics  Imam Mohammad Ibn Saud Islamic University (IMSIU)  Riyadh  11623  Saudi Arabia                                                                      |\n|1         | Department of Physics  Kuwait University  Safat  13060  Kuwait                                                                                                                                  |\n|2         |Materials Science and Nano-Engineering MSN Department  Mohammed VI Polytechnic University  Lot 660-Hay Moulay Rachid  Ben Guerir  43150  Morocco                                                 |\n|3         |Molecular Chemistry  Materials and Catalysis Laboratory  Faculty of Sciences and Technologies  Sultan Moulay Slimane University  BP 523  Beni-Mellal  23000  Morocco                             |\n|3         | Institut de Chimie de Clermont-Ferrand  Université Blaise Pascal  ICCF-UMR 6296  Aubière  F-63178  France                                                                                       |\n|4         |University of Abdelmalek Essâddi  LabTIC  ENSA of Tangier  Tangier  Morocco                                                                                                                      |\n|4         | LCCPS  ENSAM of Casablanca  University of Hassan II  Casablanca  Morocco                                                                                                                        |\n|4         | LaSIT  ENSA of Tetuan  University of Abdelmalek Essaadi  Tetuan  Morocco                                                                                                                        |\n|4         | University of Abdelmalek Essaadi  Faculty Polydisciplinaire of Larache  Larache  Morocco                                                                                                        |\n|5         |Resources Valorization  Environment and Sustainable Development Research Team (RVESD)  Department of Mines  Mines School of Rabat  Ave Hadj Ahmed Cherkaoui  BP 753  Agdal  Rabat  10090  Morocco|\n|5         | Geology and Sustainable Mining Institute  Mohammed VI Polytechnic University  Lot 660  Hay Moulay Rachid  Ben Guerir  43150  Morocco                                                            |\n|6         |ISA  Department of Computer Science  Faculty of Science and Technology  University Sidi Mohamed Ben Abdelah  Fez  Morocco                                                                        |\n|6         | LISAC  Department of Computer Science  Faculty of Sciences Dhar El Mahraz  University Sidi Mohamed Ben Abdelah  Fez  Morocco                                                                    |\n|6         | Computer Science and Systems Engineering  Department of Computer Science  Faculty of Science and Technology  University Abdelmalek Essaadi  Tetouan  Morocco                                    |\n|7         |LISAC Laboratory  Department of Computer Sciences  Faculty of Sciences  Sidi Mohamed ben Abdellah University  Dhar El Mahraz  Fez  30050  Morocco                                                |\n+----------+-------------------------------------------------------------------------------------------------------------------------------------------------------------------------------------------------+\nonly showing top 20 rows\n\n"
     ]
    }
   ],
   "source": [
    "affiliations_df.show(truncate=False)\n"
   ]
  },
  {
   "cell_type": "code",
   "execution_count": 0,
   "metadata": {
    "application/vnd.databricks.v1+cell": {
     "cellMetadata": {
      "byteLimit": 2048000,
      "rowLimit": 10000
     },
     "inputWidgets": {},
     "nuid": "fc090e59-fa5b-4768-8e4d-fbb62d766aa6",
     "showTitle": false,
     "tableResultSettingsMap": {},
     "title": ""
    }
   },
   "outputs": [
    {
     "output_type": "stream",
     "name": "stdout",
     "output_type": "stream",
     "text": [
      "root\n |-- Article_ID: long (nullable = false)\n |-- Affiliation: string (nullable = false)\n\n"
     ]
    }
   ],
   "source": [
    "affiliations_df.printSchema()\n"
   ]
  },
  {
   "cell_type": "code",
   "execution_count": 0,
   "metadata": {
    "application/vnd.databricks.v1+cell": {
     "cellMetadata": {
      "byteLimit": 2048000,
      "rowLimit": 10000
     },
     "inputWidgets": {},
     "nuid": "231777e6-f253-4d8c-9ec4-e610bc075d24",
     "showTitle": false,
     "tableResultSettingsMap": {},
     "title": ""
    }
   },
   "outputs": [
    {
     "output_type": "stream",
     "name": "stdout",
     "output_type": "stream",
     "text": [
      "+----------------------------------------------------------------------------------------------------------------------------------------------------------------------------------------------------------------------------------------------------------------+\n|split_affiliation                                                                                                                                                                                                                                               |\n+----------------------------------------------------------------------------------------------------------------------------------------------------------------------------------------------------------------------------------------------------------------+\n|[Signals, Systems and Components Laboratory (LSSC), Faculty of Sciences and Technologies of Fez, Sidi Mohamed Ben Abdellah University, B.P. 2022, Fez, Morocco]                                                                                                 |\n|[ Materials Science Energy and Nanoengineering Department, Mohamed VI Polytechnic University, Benguerir, Morocco]                                                                                                                                               |\n|[ University of Chinese Academy, 28 Road, Beijing, 100041, China]                                                                                                                                                                                               |\n|[Nanoscience and Nanotechnology Unit, E.N.S Rabat, Energy Research Centre, Mohammed V University, B.P. 5118, Takaddoum Rabat, Morocco]                                                                                                                          |\n|[ Nanomaterials and Photovoltaic Cells Laboratory, Green Energy Park (GEP), UM6P/IRESEN, Benguerir, Morocco]                                                                                                                                                    |\n|[ College of Sciences, Department of Physics, Imam Mohammad Ibn Saud Islamic University (IMSIU), Riyadh, 11623, Saudi Arabia]                                                                                                                                   |\n|[ Department of Physics, Kuwait University, Safat, 13060, Kuwait]                                                                                                                                                                                               |\n|[Materials Science and Nano-Engineering MSN Department, Mohammed VI Polytechnic University, Lot 660-Hay Moulay Rachid, Ben Guerir, 43150, Morocco]                                                                                                              |\n|[Molecular Chemistry, Materials and Catalysis Laboratory, Faculty of Sciences and Technologies, Sultan Moulay Slimane University, BP 523, Beni-Mellal, 23000, Morocco]                                                                                          |\n|[ Institut de Chimie de Clermont-Ferrand, Université Blaise Pascal, ICCF-UMR 6296, Aubière, F-63178, France]                                                                                                                                                    |\n|[University of Abdelmalek Essâddi, LabTIC, ENSA of Tangier, Tangier, Morocco]                                                                                                                                                                                   |\n|[ LCCPS, ENSAM of Casablanca, University of Hassan II, Casablanca, Morocco]                                                                                                                                                                                     |\n|[ LaSIT, ENSA of Tetuan, University of Abdelmalek Essaadi, Tetuan, Morocco]                                                                                                                                                                                     |\n|[ University of Abdelmalek Essaadi, Faculty Polydisciplinaire of Larache, Larache, Morocco]                                                                                                                                                                     |\n|[Resources Valorization, Environment and Sustainable Development Research Team (RVESD), Department of Mines, Mines School of Rabat, Ave Hadj Ahmed Cherkaoui, BP 753, Agdal, Rabat, 10090, Morocco]                                                             |\n|[ Geology and Sustainable Mining Institute, Mohammed VI Polytechnic University, Lot 660, Hay Moulay Rachid, Ben Guerir, 43150, Morocco]                                                                                                                         |\n|[ISA, Department of Computer Science, Faculty of Science and Technology, University Sidi Mohamed Ben Abdelah, Fez, Morocco]                                                                                                                                     |\n|[ LISAC, Department of Computer Science, Faculty of Sciences Dhar El Mahraz, University Sidi Mohamed Ben Abdelah, Fez, Morocco]                                                                                                                                 |\n|[ Computer Science and Systems Engineering, Department of Computer Science, Faculty of Science and Technology, University Abdelmalek Essaadi, Tetouan, Morocco]                                                                                                 |\n|[LISAC Laboratory, Department of Computer Sciences, Faculty of Sciences, Sidi Mohamed ben Abdellah University, Dhar El Mahraz, Fez, 30050, Morocco]                                                                                                             |\n|[Department of Radiology, Mohammed VI University Hospital, Faculty of Medicine, University Mohammed First, Oujda, Morocco]                                                                                                                                      |\n|[Department of Energy and Environmental Civil Engineering, National School of Applied Sciences of Al-Hoceima, Engineering Sciences and Applications Laboratory, Abdelmalek Essaâdi University, Tetouan, Morocco]                                                |\n|[ Faculty of Medicine and Health Sciences, An-Najah National University, Nablus, Palestine]                                                                                                                                                                     |\n|[ Department of Chemistry, An-Najah National University, Nablus, Palestine]                                                                                                                                                                                     |\n|[FPSB, Chouaib Doukkali University, El Jadida, Morocco]                                                                                                                                                                                                         |\n|[SI2M Laboratory, National Institute of Statistics and Applied Economics, Rabat, Morocco]                                                                                                                                                                       |\n|[ Claude Bernard Lyon 1 University, Lyon, France]                                                                                                                                                                                                               |\n|[ Ecole de Technologie Supérieure, Montreal, Canada]                                                                                                                                                                                                            |\n|[ Faculty of Sciences, Mohammed V University, Rabat, Morocco]                                                                                                                                                                                                   |\n|[Middle East, Africa, and Eurasia Influenza Stakeholder Network (MENA-ISN), P.O.Box 393 PC 100, Muscat, Oman]                                                                                                                                                   |\n|[ Internal and Pulmonary Medicine Department, Sheri Kashmir Institute of Medical Sciences, Srinagar, India]                                                                                                                                                     |\n|[ Adult Infectious Diseases, Department of Medicine, Royal Hospital, MOH, Muscat, Oman]                                                                                                                                                                         |\n|[ Directorate of the National Diabetes Prevention and Control Program, Ministry of Health, Riyadh, Saudi Arabia]                                                                                                                                                |\n|[ Faculty of Medicine and Pharmacy of Rabat, Mohammed V University, Rabat, Morocco]                                                                                                                                                                             |\n|[ Child Health section, Dubai Health Authority, Dubai, United Arab Emirates]                                                                                                                                                                                    |\n|[ Health Protection, Primary Health Care Center, MOPH, Doha, Qatar]                                                                                                                                                                                             |\n|[ Department of National immunization Program, Ministry of Health, Riyadh, Saudi Arabia]                                                                                                                                                                        |\n|[ Health Affairs, Muscat MOH, Oman]                                                                                                                                                                                                                             |\n|[ Department of Internal Medicine, Division of General Internal Medicine, Hacettepe University Faculty of Medicine, Ankara, Turkey]                                                                                                                             |\n|[ Department of Experimental Pathology, Immunology, and Microbiology, Faculty of Medicine, American University of Beirut, Beirut, Lebanon]                                                                                                                      |\n|[Division of Computer Engineering, Hoseo University, Asan, 31499, South Korea]                                                                                                                                                                                  |\n|[ Department of Mathematics, Faculty of Science and Technology of Fez, University S. M. Ben Abdellah, Box 2202, Fez, Morocco]                                                                                                                                   |\n|[Laboratory of Plants, Animals Productions and Agro-Industry, Faculty of Sciences, Ibn Tofail University, BP 133, Kenitra, 14000, Morocco]                                                                                                                      |\n|[Department of Mathematics, Multidisciplinary Faculty of Nador, University Mohammed First, Oujda, Morocco]                                                                                                                                                      |\n|[Laboratory of Physics of Condensed Matter (LPMC), Faculty of Sciences Ben M’Sik, Hassan II University of Casablanca, Casablanca, Morocco]                                                                                                                      |\n|[ REMTEX Laboratory, Higher School of Textile and Clothing Industries (ESITH), Casablanca, Morocco]                                                                                                                                                             |\n|[ Department of Electrical and Computer Engineering, University of Houston, Houston, 77204, TX, United States]                                                                                                                                                  |\n|[ Department of Electronics and Communication Engineering, IMPS College of Engineering and Technology, West Bengal, Malda, 732103, India]                                                                                                                       |\n|[MaSEEL, FSTT, Abdelmalek Essaâdi University, Tetouan, Morocco]                                                                                                                                                                                                 |\n|[ Univ. Polytechnique Hauts-de-France, CNRS, UMR 8201 – LAMIH, Valenciennes, F-59313, France]                                                                                                                                                                   |\n|[SIRC-LAGES Lab, Hassania School of Public Works, Casablanca, Morocco]                                                                                                                                                                                          |\n|[Faculty of Sciences Dhar Mahraz, Sidi Mohamed Ben Abdellah University, Fez, Morocco]                                                                                                                                                                           |\n|[ENSIAS, Mohammed V University in Rabat, Smart Systems Laboratory (SSL), Morocco]                                                                                                                                                                               |\n|[ ENSIAS, Mohammed V University in Rabat, Morocco]                                                                                                                                                                                                              |\n|[Optics and Photonics Center, Moroccan Foundation for Advanced Science and Innovation and Research, University Mohammed VI Polytechnic, Benguerir, Morocco]                                                                                                     |\n|[ Department of Chemistry, Faculty of Sciences, University Mohammed V, Rabat, Morocco]                                                                                                                                                                          |\n|[Mohamadia School of Engineers, Department of Electrical Engineering, Mohammed V University, Rabat, Morocco]                                                                                                                                                    |\n|[ Laboratory of Signals, Systems, and Components, University Sidi Mohamed Ben Abdellah, Fez, Morocco]                                                                                                                                                           |\n|[ Laboratoire Des Sciences de L’Ingénieur & Biosciences (LSIB), Faculté Des Sciences Et Techniques de Mohammedia, Mohammedia, Morocco]                                                                                                                          |\n|[ Electrical Engineering and Intelligent System Laboratory, ENSET, Hassan II University Green Energy Park Mohammedia, Mohammedia, Morocco]                                                                                                                      |\n|[ Green Energy Park, Benguerir, Morocco]                                                                                                                                                                                                                        |\n|[SPM, ENSIAS, Mohammed V University, Rabat, Morocco]                                                                                                                                                                                                            |\n|[ Faculty of Medical Sciences, Mohammed VI Polytechnic University, Ben Guerir, Morocco]                                                                                                                                                                         |\n|[Aix Marseille Université, Université Côte d’Azur, Avignon Université, CNRS, ESPACE, UMR 7300, Avignon, 84000, France]                                                                                                                                          |\n|[ Department of Geodesy and Topography, Geomatics Science and Engineering, Hassan II Institute of Agronomy and Veterinary, Rabat, Morocco]                                                                                                                      |\n|[ National Institute of Agricultural Research (INRA), Rabat, Morocco]                                                                                                                                                                                           |\n|[ LEGOS, Université de Toulouse, IRD, CNES, CNRS, UPS, Toulouse, 31400, France]                                                                                                                                                                                 |\n|[Laboratory of Biotechnology, Medical and Pharmacy School, Mohammed V University, Rabat, Morocco]                                                                                                                                                               |\n|[ Mohammed VI Center for Research & Innovation (CM6), Rabat, Morocco]                                                                                                                                                                                           |\n|[ Mohammed VI University of Health Sciences (UM6SS), Casablanca, Morocco]                                                                                                                                                                                       |\n|[ Emergency Department, Military Hospital Mohammed V, Rabat Medical and Pharmacy School, Mohammed V University, Rabat, Morocco]                                                                                                                                 |\n|[Engineering, Systems, and Applications Laboratory, National School of Applied Sciences, Sidi Mohamed Ben Abdellah-Fez University, Fez, Morocco]                                                                                                                |\n|[ ESISA Analytica Laboratory, Higher School of Engineering in Applied Sciences, Fez, Morocco]                                                                                                                                                                   |\n|[Faculty of Sciences Ben m'Sik, Hiiu, Casablanca, Morocco]                                                                                                                                                                                                      |\n|[Laboratory of Organic Synthesis, Extraction and Valorization, FSAC, Hassan II University of Casablanca, Maarif, B.P. 2693, Casablanca, 20000, Morocco]                                                                                                         |\n|[ Universite Claude Bernard Lyon-1, Centre National de la Recherche Scientifique (CNRS), ISA-UMR 5280, Villeurbanne, 69100, France]                                                                                                                             |\n|[ Department of Chemistry, Laboratory of Applied Chemistry and Environment (LCAE), Faculty of Sciences, University Mohammed Premier, Oujda, 60000, Morocco]                                                                                                     |\n|[ Faculty of Sciences and Technologies Mohammedia, University Hassan II, B.P. 146, Mohammedia, 28800, Morocco]                                                                                                                                                  |\n|[Enset Mohammedia, Hassan Ii University, Laboratory Of Modeling And Simulation Of Intelligent Industrial Systems, Casablanca, Morocco]                                                                                                                          |\n|[ Enset Mohammedia, Hassan Ii University, Isem, Laboratory Of Modeling And Simulation Of Intelligent Industrial Systems, Casablanca, Morocco]                                                                                                                   |\n|[Laboratory of Computer Science Research, Faculty of Science Kenitra, Ibn Tofail University of Kenitra, Kenitra, Morocco]                                                                                                                                       |\n|[Telecommunication Systems, Networks and Services Lab, National Institute of Posts and Telecommunications (INPT), 2, Allal El Fassi Avenue, Rabat, Morocco]                                                                                                     |\n|[ENS-Rabat Physics Department, Mohammed V University in Rabat, BP 5118, Morocco]                                                                                                                                                                                |\n|[ Physical Sciences Research Center (PSRC), Department of Physics, Pachhunga University College, Mizoram University, Aizawl, 796001, India]                                                                                                                     |\n|[ Faculty of Chemical Engineering, New Uzbekistan University, Tashkent, Uzbekistan]                                                                                                                                                                             |\n|[Laboratory of Economical Sciences and Public Policies, Faculty of Economics and Management, Ibn Tofail University, Kenitra, Morocco]                                                                                                                           |\n|[BearLab, Rabat Business School, International University of Rabat, Rocade Rabat-Salé, Technopolis, Rabat, Morocco]                                                                                                                                             |\n|[LaRSA, ENSAO, Mohammed First University, Oujda, Morocco]                                                                                                                                                                                                       |\n|[ LAPABE, FSO, Mohammed First University, Oujda, Morocco]                                                                                                                                                                                                       |\n|[ SmartICT, ENSAO, Mohammed First University, Oujda, Morocco]                                                                                                                                                                                                   |\n|[Intelligent Processing Systems and Security (IPSS), Team Mohammed V University, Rabat, Morocco]                                                                                                                                                                |\n|[Mohammed V University, Rabat, Morocco]                                                                                                                                                                                                                         |\n|[Artificial Intelligence and Data Science and Emerging Systems Laboratory, Sidi Mohamed Ben Abdellah University of FES, Fes, Morocco]                                                                                                                           |\n|[ Innovative Systems Engineering Laboratory, Abdelmalek Essaadi University of Tetuan, Tetouan, Morocco]                                \n\n*** WARNING: max output size exceeded, skipping output. ***\n\n                                                                                                           |\n|[IGFAE, Universidade de Santiago de Compostela, Santiago de Compostela, E-15782, Spain]                                                                                                                                                                         |\n|[ ESMaR, Faculty of Sciences, Mohammed V University in Rabat, Morocco]                                                                                                                                                                                          |\n|[ Laboratory of R&D in Engineering Sciences, Faculty of Sciences and Techniques Al-Hoceima, Abdelmalek Essaadi University, Tetouan, Morocco]                                                                                                                    |\n|[ Max Planck Institute for the Physics of Complex Systems, Nöthnitzer Str. 38, Dresden, D-01187, Germany]                                                                                                                                                       |\n|[Radiology Department, National Institute of Oncology, Ibn Sina Hospital Center, Mohamed V University, Rabat, Morocco]                                                                                                                                          |\n|[ Pathological Anatomy Department, National Institute of Oncology, Ibn Sina Hospital Center, Mohamed V University, Rabat, Morocco]                                                                                                                              |\n|[Neuroradiology Department, Ibn Sina Hospital, Mohammed V University of Rabat, Lamfadel Cherkaoui street, Rabat, Morocco]                                                                                                                                       |\n|[Pediatric and Gynecology Radiology Department, Children's Hospital, Mohammed V University, Rabat, Morocco]                                                                                                                                                     |\n|[Service d’Endocrinologie et Maladies Métaboliques, Centre Hospitalo-Universitaire Ibn Sina, Faculté de Médecine et de Pharmacie, Université Mohammed V Souissi, Rabat, Morocco]                                                                                |\n|[Urology Department, CHU Ibn Rochd, Casablanca, 20100, Morocco]                                                                                                                                                                                                 |\n|[Pulmonology Department, Centre Hospitalier Universitaire Ibn Sina, Rabat, Morocco]                                                                                                                                                                             |\n|[ Pulmonology Department, Centre Hospitalier Sud Francilien, Corbeil-Essonnes, France]                                                                                                                                                                          |\n|[Department of Pharmaceutical Technology, Faculty of Pharmacy of the University of Coimbra, University of Coimbra, Coimbra, Portugal]                                                                                                                           |\n|[ REQUIMTE/LAQV, Group of Pharmaceutical Technology, Faculty of Pharmacy of the University of Coimbra, University of Coimbra, Coimbra, Portugal]                                                                                                                |\n|[ Health Sciences Research Centre (CICS-UBI), University of Beira Interior, Av. Infante D. Henrique, Covilhã, 6200-506, Portugal]                                                                                                                               |\n|[ Laboratory of Biomolecules and Organic Synthesis (BIOSYNTHO), Department of Chemistry, Faculty of Sciences Ben M'Sick, University Hassan II of Casablanca, Casablanca, Morocco]                                                                               |\n|[ School of Chemistry, Damghan University, Damghan, 36716-45667, Iran]                                                                                                                                                                                          |\n|[ Centre of Research Impact and Outcome, Chitkara University, Punjab, Rajpura, 140401, India]                                                                                                                                                                   |\n|[ Department of Mechanical and Industrial Engineering, Qatar University, Doha, 2713, Qatar]                                                                                                                                                                     |\n|[ Biomedical Research Center, Qatar University, Doha, 2713, Qatar]                                                                                                                                                                                              |\n|[ Biotechnology Centre, Silesian University of Technology, Krzywoustego 8, Gliwice, 44-100, Poland]                                                                                                                                                             |\n|[ Department of Polymer Engineering, Hakim Sabzevari University, Sabzevar, 9617976487, Iran]                                                                                                                                                                    |\n|[ Institute for Bioengineering, School of Engineering, The University of Edinburgh, Edinburgh, United Kingdom]                                                                                                                                                  |\n|[ Chitkara Centre for Research and Development, Chitkara University, Himachal Pradesh, 174103, India]                                                                                                                                                           |\n|[ Department of Biomaterials, Saveetha Dental College and Hospitals, SIMATS, Saveetha University, Chennai, 600077, India]                                                                                                                                       |\n|[ Chemical Science and Engineering Research Team (ERSIC), Department of Chemistry, Polydisciplinary Faculty of Beni Mellal (FPBM), University Sultan Moulay Slimane (USMS), Mellal, Beni, 23000, Morocco]                                                       |\n|[Department of Physics, University of Adelaide, Adelaide, Australia]                                                                                                                                                                                            |\n|[ Department of Physics, University of Alberta, Edmonton, AB, Canada]                                                                                                                                                                                           |\n|[ Department of Physics, Ankara University, Ankara, Turkey]                                                                                                                                                                                                     |\n|[ Division of Physics, TOBB University of Economics and Technology, Ankara, Turkey]                                                                                                                                                                             |\n|[ LAPP, Université Savoie Mont Blanc, CNRS/IN2P3, Annecy, France]                                                                                                                                                                                               |\n|[ APC, Université Paris Cité, CNRS/IN2P3, Paris, France]                                                                                                                                                                                                        |\n|[ High Energy Physics Division, Argonne National Laboratory, Argonne, IL, United States]                                                                                                                                                                        |\n|[ Department of Physics, University of Arizona, Tucson, AZ, United States]                                                                                                                                                                                      |\n|[ Department of Physics, University of Texas at Arlington, Arlington, TX, United States]                                                                                                                                                                        |\n|[ Physics Department, National and Kapodistrian University of Athens, Athens, Greece]                                                                                                                                                                           |\n|[ Physics Department, National Technical University of Athens, Zografou, Greece]                                                                                                                                                                                |\n|[ Department of Physics, University of Texas at Austin, Austin, TX, United States]                                                                                                                                                                              |\n|[ Institute of Physics, Azerbaijan Academy of Sciences, Baku, Azerbaijan]                                                                                                                                                                                       |\n|[ Institut de Física d’Altes Energies (IFAE), Barcelona Institute of Science and Technology, Barcelona, Spain]                                                                                                                                                  |\n|[ Institute of High Energy Physics, Chinese Academy of Sciences, Beijing, China]                                                                                                                                                                                |\n|[ Physics Department, Tsinghua University, Beijing, China]                                                                                                                                                                                                      |\n|[ Department of Physics, Nanjing University, Nanjing, China]                                                                                                                                                                                                    |\n|[ School of Science, Shenzhen Campus of Sun Yat-sen University, Shenzhen, China]                                                                                                                                                                                |\n|[ University of Chinese Academy of Science (UCAS), Beijing, China]                                                                                                                                                                                              |\n|[ Institute of Physics, University of Belgrade, Belgrade, Serbia]                                                                                                                                                                                               |\n|[ Department for Physics and Technology, University of Bergen, Bergen, Norway]                                                                                                                                                                                  |\n|[ Physics Division, Lawrence Berkeley National Laboratory, Berkeley, CA, United States]                                                                                                                                                                         |\n|[ University of California, Berkeley, CA, United States]                                                                                                                                                                                                        |\n|[ Institut für Physik, Humboldt Universität zu Berlin, Berlin, Germany]                                                                                                                                                                                         |\n|[ Albert Einstein Center for Fundamental Physics and Laboratory for High Energy Physics, University of Bern, Bern, Switzerland]                                                                                                                                 |\n|[ School of Physics and Astronomy, University of Birmingham, Birmingham, United Kingdom]                                                                                                                                                                        |\n|[ Department of Physics, Bogazici University, Istanbul, Turkey]                                                                                                                                                                                                 |\n|[ Department of Physics Engineering, Gaziantep University, Gaziantep, Turkey]                                                                                                                                                                                   |\n|[ Department of Physics, Istanbul University, Istanbul, Turkey]                                                                                                                                                                                                 |\n|[ Facultad de Ciencias y Centro de Investigaciónes, Universidad Antonio Nariño, Bogotá, Colombia]                                                                                                                                                               |\n|[ Departamento de Física, Universidad Nacional de Colombia, Bogotá, Colombia]                                                                                                                                                                                   |\n|[ Dipartimento di Fisica e Astronomia A. Righi, Università di Bologna, Bologna, Italy]                                                                                                                                                                          |\n|[ INFN Sezione di Bologna, Bologna, Italy]                                                                                                                                                                                                                      |\n|[ Physikalisches Institut, Universität Bonn, Bonn, Germany]                                                                                                                                                                                                     |\n|[ Department of Physics, Boston University, Boston, MA, United States]                                                                                                                                                                                          |\n|[ Department of Physics, Brandeis University, Waltham, MA, United States]                                                                                                                                                                                       |\n|[ Transilvania University of Brasov, Brasov, Romania]                                                                                                                                                                                                           |\n|[ Horia Hulubei National Institute of Physics and Nuclear Engineering, Bucharest, Romania]                                                                                                                                                                      |\n|[ Department of Physics, Alexandru Ioan Cuza University of Iasi, Iasi, Romania]                                                                                                                                                                                 |\n|[ National Institute for Research and Development of Isotopic and Molecular Technologies, Physics Department, Cluj-Napoca, Romania]                                                                                                                             |\n|[ National University of Science and Technology Politechnica, Bucharest, Romania]                                                                                                                                                                               |\n|[ West University in Timisoara, Timisoara, Romania]                                                                                                                                                                                                             |\n|[ Faculty of Mathematics, Physics and Informatics, Comenius University, Bratislava, Slovakia]                                                                                                                                                                   |\n|[ Department of Subnuclear Physics, Institute of Experimental Physics of the Slovak Academy of Sciences, Kosice, Slovakia]                                                                                                                                      |\n|[ Physics Department, Brookhaven National Laboratory, Upton, NY, United States]                                                                                                                                                                                 |\n|[ Universidad de Buenos Aires, Facultad de Ciencias Exactas y Naturales, Departamento de Física, y CONICET, Instituto de Física de Buenos Aires (IFIBA), Buenos Aires, Argentina]                                                                               |\n|[ California State University, Fresno, CA, United States]                                                                                                                                                                                                       |\n|[ Cavendish Laboratory, University of Cambridge, Cambridge, United Kingdom]                                                                                                                                                                                     |\n|[ Department of Physics, University of Cape Town, Cape Town, South Africa]                                                                                                                                                                                      |\n|[ Department of Mechanical Engineering Science, University of Johannesburg, Johannesburg, South Africa]                                                                                                                                                         |\n|[ National Institute of Physics, University of the Philippines Diliman, Diliman, Quezon City, Philippines]                                                                                                                                                      |\n|[ School of Physics, University of the Witwatersrand, Johannesburg, South Africa]                                                                                                                                                                               |\n|[ Department of Physics, Carleton University, Ottawa, ON, Canada]                                                                                                                                                                                               |\n|[ Faculté des Sciences Ain Chock, Réseau Universitaire de Physique des Hautes Energies - Université Hassan II, Casablanca, Morocco]                                                                                                                             |\n|[ Faculté des Sciences, Université Ibn-Tofail, Kénitra, Morocco]                                                                                                                                                                                                |\n|[ LPMR, Faculté des Sciences, Université Mohamed Premier, Oujda, Morocco]                                                                                                                                                                                       |\n|[ Faculté des sciences, Université Mohammed V, Rabat, Morocco]                                                                                                                                                                                                  |\n|[ Institute of Applied Physics, Mohammed VI Polytechnic University, Ben Guerir, Morocco]                                                                                                                                                                        |\n|[ CERN, Geneva, Switzerland]                                                                                                                                                                                                                                    |\n|[ Enrico Fermi Institute, University of Chicago, Chicago, IL, United States]                                                                                                                                                                                    |\n|[ LPC, Université Clermont Auvergne, CNRS/IN2P3, Clermont-Ferrand, France]                                                                                                                                                                                      |\n|[ Nevis Laboratory, Columbia University, Irvington, NY, United States]                                                                                                                                                                                          |\n|[ Niels Bohr Institute, University of Copenhagen, Copenhagen, Denmark]                                                                                                                                                                                          |\n|[ Dipartimento di Fisica, Università della Calabria, Rende, Italy]                                                                                                                                                                                              |\n|[ INFN Gruppo Collegato di Cosenza, Laboratori Nazionali di Frascati, Frascati, Italy]                                                                                                                                                                          |\n|[ Physics Department, Southern Methodist University, Dallas, TX, United States]                                                                                                                                                                                 |\n|[ Physics Department, University of Texas at Dallas, Richardson, TX, United States]                                                                                                                                                                             |\n|[ National Centre for Scientific Research “Demokritos”, Agia Paraskevi, Greece]                                                                                                                                                                                 |\n|[ Department of Physics, Stockholm University, Stockholm, Sweden]                                                                                                                                                                                               |\n+----------------------------------------------------------------------------------------------------------------------------------------------------------------------------------------------------------------------------------------------------------------+\nonly showing top 500 rows\n\n"
     ]
    }
   ],
   "source": [
    "from pyspark.sql.functions import split, col\n",
    "\n",
    "# Split the Affiliation column by two spaces\n",
    "affiliations_df = affiliations_df.withColumn(\"split_affiliation\", split(col(\"Affiliation\"), \"  \"))\n",
    "\n",
    "# Show the new column with the split elements\n",
    "affiliations_df.select(\"split_affiliation\").show(500,truncate=False)\n",
    "\n"
   ]
  },
  {
   "cell_type": "code",
   "execution_count": 0,
   "metadata": {
    "application/vnd.databricks.v1+cell": {
     "cellMetadata": {
      "byteLimit": 2048000,
      "rowLimit": 10000
     },
     "inputWidgets": {},
     "nuid": "f54819c1-aa2d-44c5-bd16-1bd4be5b09ef",
     "showTitle": false,
     "tableResultSettingsMap": {},
     "title": ""
    }
   },
   "outputs": [
    {
     "output_type": "stream",
     "name": "stdout",
     "output_type": "stream",
     "text": [
      "+---------------------------------------------------------------------------------------------------------------------------------------------------------------------------------------------------+\n|split_affiliation                                                                                                                                                                                  |\n+---------------------------------------------------------------------------------------------------------------------------------------------------------------------------------------------------+\n|[Signals, Systems and Components Laboratory (LSSC), Faculty of Sciences and Technologies of Fez, Sidi Mohamed Ben Abdellah University, B.P. 2022, Fez, Morocco]                                    |\n|[ Materials Science Energy and Nanoengineering Department, Mohamed VI Polytechnic University, Benguerir, Morocco]                                                                                  |\n|[ University of Chinese Academy, 28 Road, Beijing, 100041, China]                                                                                                                                  |\n|[Nanoscience and Nanotechnology Unit, E.N.S Rabat, Energy Research Centre, Mohammed V University, B.P. 5118, Takaddoum Rabat, Morocco]                                                             |\n|[ Nanomaterials and Photovoltaic Cells Laboratory, Green Energy Park (GEP), UM6P/IRESEN, Benguerir, Morocco]                                                                                       |\n|[ College of Sciences, Department of Physics, Imam Mohammad Ibn Saud Islamic University (IMSIU), Riyadh, 11623, Saudi Arabia]                                                                      |\n|[ Department of Physics, Kuwait University, Safat, 13060, Kuwait]                                                                                                                                  |\n|[Materials Science and Nano-Engineering MSN Department, Mohammed VI Polytechnic University, Lot 660-Hay Moulay Rachid, Ben Guerir, 43150, Morocco]                                                 |\n|[Molecular Chemistry, Materials and Catalysis Laboratory, Faculty of Sciences and Technologies, Sultan Moulay Slimane University, BP 523, Beni-Mellal, 23000, Morocco]                             |\n|[ Institut de Chimie de Clermont-Ferrand, Université Blaise Pascal, ICCF-UMR 6296, Aubière, F-63178, France]                                                                                       |\n|[University of Abdelmalek Essâddi, LabTIC, ENSA of Tangier, Tangier, Morocco]                                                                                                                      |\n|[ LCCPS, ENSAM of Casablanca, University of Hassan II, Casablanca, Morocco]                                                                                                                        |\n|[ LaSIT, ENSA of Tetuan, University of Abdelmalek Essaadi, Tetuan, Morocco]                                                                                                                        |\n|[ University of Abdelmalek Essaadi, Faculty Polydisciplinaire of Larache, Larache, Morocco]                                                                                                        |\n|[Resources Valorization, Environment and Sustainable Development Research Team (RVESD), Department of Mines, Mines School of Rabat, Ave Hadj Ahmed Cherkaoui, BP 753, Agdal, Rabat, 10090, Morocco]|\n|[ Geology and Sustainable Mining Institute, Mohammed VI Polytechnic University, Lot 660, Hay Moulay Rachid, Ben Guerir, 43150, Morocco]                                                            |\n|[ISA, Department of Computer Science, Faculty of Science and Technology, University Sidi Mohamed Ben Abdelah, Fez, Morocco]                                                                        |\n|[ LISAC, Department of Computer Science, Faculty of Sciences Dhar El Mahraz, University Sidi Mohamed Ben Abdelah, Fez, Morocco]                                                                    |\n|[ Computer Science and Systems Engineering, Department of Computer Science, Faculty of Science and Technology, University Abdelmalek Essaadi, Tetouan, Morocco]                                    |\n|[LISAC Laboratory, Department of Computer Sciences, Faculty of Sciences, Sidi Mohamed ben Abdellah University, Dhar El Mahraz, Fez, 30050, Morocco]                                                |\n+---------------------------------------------------------------------------------------------------------------------------------------------------------------------------------------------------+\nonly showing top 20 rows\n\n"
     ]
    }
   ],
   "source": [
    "affiliations_df.select(\"split_affiliation\").show(truncate=False)\n"
   ]
  },
  {
   "cell_type": "code",
   "execution_count": 0,
   "metadata": {
    "application/vnd.databricks.v1+cell": {
     "cellMetadata": {
      "byteLimit": 2048000,
      "rowLimit": 10000
     },
     "inputWidgets": {},
     "nuid": "afb81701-4497-4db3-8927-844fabe2c612",
     "showTitle": false,
     "tableResultSettingsMap": {},
     "title": ""
    }
   },
   "outputs": [
    {
     "output_type": "stream",
     "name": "stdout",
     "output_type": "stream",
     "text": [
      "+---------------------------------------------------------------------------------------------------------------------------------------------------------------------------------------------------+-------+\n|split_affiliation                                                                                                                                                                                  |Country|\n+---------------------------------------------------------------------------------------------------------------------------------------------------------------------------------------------------+-------+\n|[Signals, Systems and Components Laboratory (LSSC), Faculty of Sciences and Technologies of Fez, Sidi Mohamed Ben Abdellah University, B.P. 2022, Fez, Morocco]                                    |null   |\n|[ Materials Science Energy and Nanoengineering Department, Mohamed VI Polytechnic University, Benguerir, Morocco]                                                                                  |null   |\n|[ University of Chinese Academy, 28 Road, Beijing, 100041, China]                                                                                                                                  |null   |\n|[Nanoscience and Nanotechnology Unit, E.N.S Rabat, Energy Research Centre, Mohammed V University, B.P. 5118, Takaddoum Rabat, Morocco]                                                             |null   |\n|[ Nanomaterials and Photovoltaic Cells Laboratory, Green Energy Park (GEP), UM6P/IRESEN, Benguerir, Morocco]                                                                                       |null   |\n|[ College of Sciences, Department of Physics, Imam Mohammad Ibn Saud Islamic University (IMSIU), Riyadh, 11623, Saudi Arabia]                                                                      |null   |\n|[ Department of Physics, Kuwait University, Safat, 13060, Kuwait]                                                                                                                                  |null   |\n|[Materials Science and Nano-Engineering MSN Department, Mohammed VI Polytechnic University, Lot 660-Hay Moulay Rachid, Ben Guerir, 43150, Morocco]                                                 |null   |\n|[Molecular Chemistry, Materials and Catalysis Laboratory, Faculty of Sciences and Technologies, Sultan Moulay Slimane University, BP 523, Beni-Mellal, 23000, Morocco]                             |null   |\n|[ Institut de Chimie de Clermont-Ferrand, Université Blaise Pascal, ICCF-UMR 6296, Aubière, F-63178, France]                                                                                       |null   |\n|[University of Abdelmalek Essâddi, LabTIC, ENSA of Tangier, Tangier, Morocco]                                                                                                                      |null   |\n|[ LCCPS, ENSAM of Casablanca, University of Hassan II, Casablanca, Morocco]                                                                                                                        |null   |\n|[ LaSIT, ENSA of Tetuan, University of Abdelmalek Essaadi, Tetuan, Morocco]                                                                                                                        |null   |\n|[ University of Abdelmalek Essaadi, Faculty Polydisciplinaire of Larache, Larache, Morocco]                                                                                                        |null   |\n|[Resources Valorization, Environment and Sustainable Development Research Team (RVESD), Department of Mines, Mines School of Rabat, Ave Hadj Ahmed Cherkaoui, BP 753, Agdal, Rabat, 10090, Morocco]|null   |\n|[ Geology and Sustainable Mining Institute, Mohammed VI Polytechnic University, Lot 660, Hay Moulay Rachid, Ben Guerir, 43150, Morocco]                                                            |null   |\n|[ISA, Department of Computer Science, Faculty of Science and Technology, University Sidi Mohamed Ben Abdelah, Fez, Morocco]                                                                        |null   |\n|[ LISAC, Department of Computer Science, Faculty of Sciences Dhar El Mahraz, University Sidi Mohamed Ben Abdelah, Fez, Morocco]                                                                    |null   |\n|[ Computer Science and Systems Engineering, Department of Computer Science, Faculty of Science and Technology, University Abdelmalek Essaadi, Tetouan, Morocco]                                    |null   |\n|[LISAC Laboratory, Department of Computer Sciences, Faculty of Sciences, Sidi Mohamed ben Abdellah University, Dhar El Mahraz, Fez, 30050, Morocco]                                                |null   |\n+---------------------------------------------------------------------------------------------------------------------------------------------------------------------------------------------------+-------+\nonly showing top 20 rows\n\n"
     ]
    }
   ],
   "source": [
    "from pyspark.sql.functions import col\n",
    "\n",
    "# Extract the last element of the array using `getItem` function\n",
    "affiliations_df = affiliations_df.withColumn(\"Country\", col(\"split_affiliation\").getItem(-1))\n",
    "\n",
    "# Show the result with the new 'country' column\n",
    "affiliations_df.select(\"split_affiliation\", \"Country\").show(truncate=False)\n",
    "\n"
   ]
  },
  {
   "cell_type": "code",
   "execution_count": 0,
   "metadata": {
    "application/vnd.databricks.v1+cell": {
     "cellMetadata": {
      "byteLimit": 2048000,
      "rowLimit": 10000
     },
     "inputWidgets": {},
     "nuid": "4c5c1abb-2fe2-4549-9b74-0e604637a4a8",
     "showTitle": false,
     "tableResultSettingsMap": {},
     "title": ""
    }
   },
   "outputs": [
    {
     "output_type": "stream",
     "name": "stdout",
     "output_type": "stream",
     "text": [
      "root\n |-- Article_ID: long (nullable = false)\n |-- Affiliation: string (nullable = false)\n |-- split_affiliation: array (nullable = false)\n |    |-- element: string (containsNull = false)\n\n"
     ]
    }
   ],
   "source": [
    "affiliations_df = affiliations_df.drop(\"Country\")\n",
    "affiliations_df.printSchema()"
   ]
  },
  {
   "cell_type": "code",
   "execution_count": 0,
   "metadata": {
    "application/vnd.databricks.v1+cell": {
     "cellMetadata": {
      "byteLimit": 2048000,
      "rowLimit": 10000
     },
     "inputWidgets": {},
     "nuid": "fca717d1-0313-42b7-bfdb-d375312cabff",
     "showTitle": false,
     "tableResultSettingsMap": {},
     "title": ""
    }
   },
   "outputs": [
    {
     "output_type": "stream",
     "name": "stdout",
     "output_type": "stream",
     "text": [
      "+----------+--------------------+--------------------+------------+\n|Article_ID|         Affiliation|   split_affiliation|     Country|\n+----------+--------------------+--------------------+------------+\n|         0|Signals  Systems ...|[Signals, Systems...|     Morocco|\n|         0| Materials Scienc...|[ Materials Scien...|     Morocco|\n|         0| University of Ch...|[ University of C...|       China|\n|         1|Nanoscience and N...|[Nanoscience and ...|     Morocco|\n|         1| Nanomaterials an...|[ Nanomaterials a...|     Morocco|\n|         1| College of Scien...|[ College of Scie...|Saudi Arabia|\n|         1| Department of Ph...|[ Department of P...|      Kuwait|\n|         2|Materials Science...|[Materials Scienc...|     Morocco|\n|         3|Molecular Chemist...|[Molecular Chemis...|     Morocco|\n|         3| Institut de Chim...|[ Institut de Chi...|      France|\n|         4|University of Abd...|[University of Ab...|     Morocco|\n|         4| LCCPS  ENSAM of ...|[ LCCPS, ENSAM of...|     Morocco|\n|         4| LaSIT  ENSA of T...|[ LaSIT, ENSA of ...|     Morocco|\n|         4| University of Ab...|[ University of A...|     Morocco|\n|         5|Resources Valoriz...|[Resources Valori...|     Morocco|\n|         5| Geology and Sust...|[ Geology and Sus...|     Morocco|\n|         6|ISA  Department o...|[ISA, Department ...|     Morocco|\n|         6| LISAC  Departmen...|[ LISAC, Departme...|     Morocco|\n|         6| Computer Science...|[ Computer Scienc...|     Morocco|\n|         7|LISAC Laboratory ...|[LISAC Laboratory...|     Morocco|\n+----------+--------------------+--------------------+------------+\nonly showing top 20 rows\n\n"
     ]
    }
   ],
   "source": [
    "from pyspark.sql.functions import element_at, col\n",
    "\n",
    "# Use element_at to get the last item from 'split_affiliation' and create a new column 'Country'\n",
    "affiliations_df = affiliations_df.withColumn(\"Country\", element_at(col(\"split_affiliation\"), -1))\n",
    "\n",
    "# Show the updated DataFrame\n",
    "affiliations_df.show()\n"
   ]
  },
  {
   "cell_type": "code",
   "execution_count": 0,
   "metadata": {
    "application/vnd.databricks.v1+cell": {
     "cellMetadata": {
      "byteLimit": 2048000,
      "rowLimit": 10000
     },
     "inputWidgets": {},
     "nuid": "33944a1d-8a64-4d96-b4e4-e39113795f07",
     "showTitle": false,
     "tableResultSettingsMap": {},
     "title": ""
    }
   },
   "outputs": [],
   "source": [
    "\n",
    "affiliations_df = affiliations_df.withColumn(\n",
    "    \"Country\",\n",
    "    F.when(\n",
    "        (F.col(\"Country\").rlike(\"^[^a-zA-Z]\")) |                # Starts with non-letter character\n",
    "        (F.col(\"Country\").rlike(\"[^a-zA-Z]\")) |                  # Contains non-letter characters\n",
    "        (F.size(F.split(F.col(\"Country\"), \" \")) > 3),             # More than 3 words\n",
    "        \"Unknown\"\n",
    "    ).otherwise(F.col(\"Country\"))\n",
    ")\n"
   ]
  },
  {
   "cell_type": "code",
   "execution_count": 0,
   "metadata": {
    "application/vnd.databricks.v1+cell": {
     "cellMetadata": {
      "byteLimit": 2048000,
      "rowLimit": 10000
     },
     "inputWidgets": {},
     "nuid": "e69063dc-6de9-4b39-be5e-dbe95b6a4619",
     "showTitle": false,
     "tableResultSettingsMap": {},
     "title": ""
    }
   },
   "outputs": [
    {
     "output_type": "stream",
     "name": "stdout",
     "output_type": "stream",
     "text": [
      "+----------+\n|Country   |\n+----------+\n|Turkey    |\n|Germany   |\n|Jordan    |\n|France    |\n|Qatar     |\n|China     |\n|India     |\n|Kuwait    |\n|Unknown   |\n|Spain     |\n|Morocco   |\n|Oman      |\n|Palestine |\n|Tunisia   |\n|Uganda    |\n|Canada    |\n|Uzbekistan|\n|Lebanon   |\n|Poland    |\n|Egypt     |\n+----------+\nonly showing top 20 rows\n\n"
     ]
    }
   ],
   "source": [
    "# Show the distinct values in the 'Country' column\n",
    "affiliations_df.select(\"Country\").distinct().show(truncate=False)\n"
   ]
  },
  {
   "cell_type": "code",
   "execution_count": 0,
   "metadata": {
    "application/vnd.databricks.v1+cell": {
     "cellMetadata": {
      "byteLimit": 2048000,
      "rowLimit": 10000
     },
     "inputWidgets": {},
     "nuid": "9012ce7a-ea69-453b-b5f4-acff1a3db3c3",
     "showTitle": false,
     "tableResultSettingsMap": {},
     "title": ""
    }
   },
   "outputs": [
    {
     "output_type": "stream",
     "name": "stdout",
     "output_type": "stream",
     "text": [
      "+----------+-------------------------------------------------------------------------------------------------------------------------------------------------------------------------------------------------+---------------------------------------------------------------------------------------------------------------------------------------------------------------------------------------------------+-------+---------------+\n|Article_ID|Affiliation                                                                                                                                                                                      |split_affiliation                                                                                                                                                                                  |Country|City           |\n+----------+-------------------------------------------------------------------------------------------------------------------------------------------------------------------------------------------------+---------------------------------------------------------------------------------------------------------------------------------------------------------------------------------------------------+-------+---------------+\n|0         |Signals  Systems and Components Laboratory (LSSC)  Faculty of Sciences and Technologies of Fez  Sidi Mohamed Ben Abdellah University  B.P. 2022  Fez  Morocco                                    |[Signals, Systems and Components Laboratory (LSSC), Faculty of Sciences and Technologies of Fez, Sidi Mohamed Ben Abdellah University, B.P. 2022, Fez, Morocco]                                    |Morocco|Fez            |\n|0         | Materials Science Energy and Nanoengineering Department  Mohamed VI Polytechnic University  Benguerir  Morocco                                                                                  |[ Materials Science Energy and Nanoengineering Department, Mohamed VI Polytechnic University, Benguerir, Morocco]                                                                                  |Morocco|Benguerir      |\n|0         | University of Chinese Academy  28 Road  Beijing  100041  China                                                                                                                                  |[ University of Chinese Academy, 28 Road, Beijing, 100041, China]                                                                                                                                  |China  |Beijing        |\n|1         |Nanoscience and Nanotechnology Unit  E.N.S Rabat  Energy Research Centre  Mohammed V University  B.P. 5118  Takaddoum Rabat  Morocco                                                             |[Nanoscience and Nanotechnology Unit, E.N.S Rabat, Energy Research Centre, Mohammed V University, B.P. 5118, Takaddoum Rabat, Morocco]                                                             |Morocco|Takaddoum Rabat|\n|1         | Nanomaterials and Photovoltaic Cells Laboratory  Green Energy Park (GEP)  UM6P/IRESEN  Benguerir  Morocco                                                                                       |[ Nanomaterials and Photovoltaic Cells Laboratory, Green Energy Park (GEP), UM6P/IRESEN, Benguerir, Morocco]                                                                                       |Morocco|Benguerir      |\n|1         | College of Sciences  Department of Physics  Imam Mohammad Ibn Saud Islamic University (IMSIU)  Riyadh  11623  Saudi Arabia                                                                      |[ College of Sciences, Department of Physics, Imam Mohammad Ibn Saud Islamic University (IMSIU), Riyadh, 11623, Saudi Arabia]                                                                      |Unknown|Riyadh         |\n|1         | Department of Physics  Kuwait University  Safat  13060  Kuwait                                                                                                                                  |[ Department of Physics, Kuwait University, Safat, 13060, Kuwait]                                                                                                                                  |Kuwait |Safat          |\n|2         |Materials Science and Nano-Engineering MSN Department  Mohammed VI Polytechnic University  Lot 660-Hay Moulay Rachid  Ben Guerir  43150  Morocco                                                 |[Materials Science and Nano-Engineering MSN Department, Mohammed VI Polytechnic University, Lot 660-Hay Moulay Rachid, Ben Guerir, 43150, Morocco]                                                 |Morocco|Ben Guerir     |\n|3         |Molecular Chemistry  Materials and Catalysis Laboratory  Faculty of Sciences and Technologies  Sultan Moulay Slimane University  BP 523  Beni-Mellal  23000  Morocco                             |[Molecular Chemistry, Materials and Catalysis Laboratory, Faculty of Sciences and Technologies, Sultan Moulay Slimane University, BP 523, Beni-Mellal, 23000, Morocco]                             |Morocco|Beni-Mellal    |\n|3         | Institut de Chimie de Clermont-Ferrand  Université Blaise Pascal  ICCF-UMR 6296  Aubière  F-63178  France                                                                                       |[ Institut de Chimie de Clermont-Ferrand, Université Blaise Pascal, ICCF-UMR 6296, Aubière, F-63178, France]                                                                                       |France |F-63178        |\n|4         |University of Abdelmalek Essâddi  LabTIC  ENSA of Tangier  Tangier  Morocco                                                                                                                      |[University of Abdelmalek Essâddi, LabTIC, ENSA of Tangier, Tangier, Morocco]                                                                                                                      |Morocco|Tangier        |\n|4         | LCCPS  ENSAM of Casablanca  University of Hassan II  Casablanca  Morocco                                                                                                                        |[ LCCPS, ENSAM of Casablanca, University of Hassan II, Casablanca, Morocco]                                                                                                                        |Morocco|Casablanca     |\n|4         | LaSIT  ENSA of Tetuan  University of Abdelmalek Essaadi  Tetuan  Morocco                                                                                                                        |[ LaSIT, ENSA of Tetuan, University of Abdelmalek Essaadi, Tetuan, Morocco]                                                                                                                        |Morocco|Tetuan         |\n|4         | University of Abdelmalek Essaadi  Faculty Polydisciplinaire of Larache  Larache  Morocco                                                                                                        |[ University of Abdelmalek Essaadi, Faculty Polydisciplinaire of Larache, Larache, Morocco]                                                                                                        |Morocco|Larache        |\n|5         |Resources Valorization  Environment and Sustainable Development Research Team (RVESD)  Department of Mines  Mines School of Rabat  Ave Hadj Ahmed Cherkaoui  BP 753  Agdal  Rabat  10090  Morocco|[Resources Valorization, Environment and Sustainable Development Research Team (RVESD), Department of Mines, Mines School of Rabat, Ave Hadj Ahmed Cherkaoui, BP 753, Agdal, Rabat, 10090, Morocco]|Morocco|Rabat          |\n|5         | Geology and Sustainable Mining Institute  Mohammed VI Polytechnic University  Lot 660  Hay Moulay Rachid  Ben Guerir  43150  Morocco                                                            |[ Geology and Sustainable Mining Institute, Mohammed VI Polytechnic University, Lot 660, Hay Moulay Rachid, Ben Guerir, 43150, Morocco]                                                            |Morocco|Ben Guerir     |\n|6         |ISA  Department of Computer Science  Faculty of Science and Technology  University Sidi Mohamed Ben Abdelah  Fez  Morocco                                                                        |[ISA, Department of Computer Science, Faculty of Science and Technology, University Sidi Mohamed Ben Abdelah, Fez, Morocco]                                                                        |Morocco|Fez            |\n|6         | LISAC  Department of Computer Science  Faculty of Sciences Dhar El Mahraz  University Sidi Mohamed Ben Abdelah  Fez  Morocco                                                                    |[ LISAC, Department of Computer Science, Faculty of Sciences Dhar El Mahraz, University Sidi Mohamed Ben Abdelah, Fez, Morocco]                                                                    |Morocco|Fez            |\n|6         | Computer Science and Systems Engineering  Department of Computer Science  Faculty of Science and Technology  University Abdelmalek Essaadi  Tetouan  Morocco                                    |[ Computer Science and Systems Engineering, Department of Computer Science, Faculty of Science and Technology, University Abdelmalek Essaadi, Tetouan, Morocco]                                    |Morocco|Tetouan        |\n|7         |LISAC Laboratory  Department of Computer Sciences  Faculty of Sciences  Sidi Mohamed ben Abdellah University  Dhar El Mahraz  Fez  30050  Morocco                                                |[LISAC Laboratory, Department of Computer Sciences, Faculty of Sciences, Sidi Mohamed ben Abdellah University, Dhar El Mahraz, Fez, 30050, Morocco]                                                |Morocco|Fez            |\n+----------+-------------------------------------------------------------------------------------------------------------------------------------------------------------------------------------------------+---------------------------------------------------------------------------------------------------------------------------------------------------------------------------------------------------+-------+---------------+\nonly showing top 20 rows\n\n"
     ]
    }
   ],
   "source": [
    "from pyspark.sql.functions import element_at, col, when, regexp_extract\n",
    "\n",
    "# Extract the second-to-last element from the array (before the country)\n",
    "second_to_last_element = element_at(col(\"split_affiliation\"), -2)\n",
    "\n",
    "# Check if the second-to-last element is a number\n",
    "is_numeric = regexp_extract(second_to_last_element, r'^\\d+$', 0)\n",
    "\n",
    "# Use conditional logic to either take the second-to-last element or the third-to-last\n",
    "affiliations_df = affiliations_df.withColumn(\n",
    "    \"City\",\n",
    "    when(is_numeric == \"\", second_to_last_element)  # If it's not a number, take the second-to-last element\n",
    "    .otherwise(element_at(col(\"split_affiliation\"), -3))  # If it's a number, take the third-to-last element\n",
    ")\n",
    "\n",
    "# Show the updated DataFrame\n",
    "affiliations_df.show(truncate=False)\n"
   ]
  },
  {
   "cell_type": "code",
   "execution_count": 0,
   "metadata": {
    "application/vnd.databricks.v1+cell": {
     "cellMetadata": {
      "byteLimit": 2048000,
      "rowLimit": 10000
     },
     "inputWidgets": {},
     "nuid": "e185a593-580e-4ff2-81b9-f42fd89a156b",
     "showTitle": false,
     "tableResultSettingsMap": {},
     "title": ""
    }
   },
   "outputs": [
    {
     "output_type": "display_data",
     "data": {
      "text/plain": [
       ""
      ]
     },
     "metadata": {
      "application/vnd.databricks.v1+output": {
       "arguments": {},
       "data": "",
       "errorSummary": "Command skipped",
       "errorTraceType": "ansi",
       "metadata": {},
       "type": "ipynbError"
      }
     },
     "output_type": "display_data"
    }
   ],
   "source": [
    "affiliations_df.select(\"City\").distinct().show(truncate=False)\n"
   ]
  },
  {
   "cell_type": "code",
   "execution_count": 0,
   "metadata": {
    "application/vnd.databricks.v1+cell": {
     "cellMetadata": {
      "byteLimit": 2048000,
      "rowLimit": 10000
     },
     "inputWidgets": {},
     "nuid": "8738b53f-0df2-47d2-918f-6b1a3aafea67",
     "showTitle": false,
     "tableResultSettingsMap": {},
     "title": ""
    }
   },
   "outputs": [
    {
     "output_type": "display_data",
     "data": {
      "text/plain": [
       ""
      ]
     },
     "metadata": {
      "application/vnd.databricks.v1+output": {
       "arguments": {},
       "data": "",
       "errorSummary": "Command skipped",
       "errorTraceType": "ansi",
       "metadata": {},
       "type": "ipynbError"
      }
     },
     "output_type": "display_data"
    }
   ],
   "source": [
    "affiliations_df.select(\"City\").distinct().show(100,truncate=False)\n"
   ]
  },
  {
   "cell_type": "code",
   "execution_count": 0,
   "metadata": {
    "application/vnd.databricks.v1+cell": {
     "cellMetadata": {
      "byteLimit": 2048000,
      "rowLimit": 10000
     },
     "inputWidgets": {},
     "nuid": "c82155d9-f4fe-4bf8-a74d-f38c6e723481",
     "showTitle": false,
     "tableResultSettingsMap": {},
     "title": ""
    }
   },
   "outputs": [
    {
     "output_type": "stream",
     "name": "stdout",
     "output_type": "stream",
     "text": [
      "+---------------+\n|City           |\n+---------------+\n|Casablanca     |\n|Beijing        |\n|Tetouan        |\n|Rabat          |\n|Oujda          |\n|Takaddoum Rabat|\n|Muscat MOH     |\n|Ankara         |\n|Montreal       |\n|El Jadida      |\n|Safat          |\n|Unknown        |\n|Tetuan         |\n|Lyon           |\n|Riyadh         |\n|Beni-Mellal    |\n|Beirut         |\n|Nablus         |\n|Benguerir      |\n|Muscat         |\n+---------------+\nonly showing top 20 rows\n\n"
     ]
    }
   ],
   "source": [
    "from pyspark.sql.functions import col, when, size, split, regexp_replace, lit\n",
    "\n",
    "# Replace city names with \"Unknown\" if they contain numbers, have more than two words, or contain the word \"University\"\n",
    "affiliations_df = affiliations_df.withColumn(\n",
    "    \"City\",\n",
    "    when(\n",
    "        (col(\"City\").rlike(r\"\\d\")) |  # Check if the city contains any digit\n",
    "        (size(split(col(\"City\"), \" \")) > 2) | \n",
    "        (col(\"City\").rlike(\"(?i)University\")),  # Case-insensitive check for \"University\"\n",
    "        lit(\"Unknown\")\n",
    "    ).otherwise(col(\"City\"))\n",
    ")\n",
    "\n",
    "# Show the transformed DataFrame\n",
    "affiliations_df.select(\"City\").distinct().show(truncate=False)"
   ]
  },
  {
   "cell_type": "code",
   "execution_count": 0,
   "metadata": {
    "application/vnd.databricks.v1+cell": {
     "cellMetadata": {
      "byteLimit": 2048000,
      "rowLimit": 10000
     },
     "inputWidgets": {},
     "nuid": "e3e093e8-c28b-42fa-a1ec-29a0193d0901",
     "showTitle": false,
     "tableResultSettingsMap": {},
     "title": ""
    }
   },
   "outputs": [],
   "source": [
    "affiliations_df = affiliations_df.withColumn(\n",
    "    \"City\",\n",
    "    F.when(\n",
    "        F.col(\"City\").rlike(\"^[^a-zA-Z]\"),  \n",
    "        \"Unknown\"\n",
    "    ).otherwise(\n",
    "        F.trim(F.col(\"City\")) \n",
    "    )\n",
    ")"
   ]
  },
  {
   "cell_type": "code",
   "execution_count": 0,
   "metadata": {
    "application/vnd.databricks.v1+cell": {
     "cellMetadata": {
      "byteLimit": 2048000,
      "rowLimit": 10000
     },
     "inputWidgets": {},
     "nuid": "8277c0e7-5cab-47b2-ae80-42d35d6cddaa",
     "showTitle": false,
     "tableResultSettingsMap": {},
     "title": ""
    }
   },
   "outputs": [],
   "source": [
    "from pyspark.sql.functions import array_except, concat_ws, col, regexp_replace, lit, size\n",
    "\n",
    "# Create a list of City and Country values to exclude from split_affiliation\n",
    "affiliations_df = affiliations_df.withColumn(\n",
    "    \"Institution\",\n",
    "    concat_ws(\" \", \n",
    "        F.expr(\"filter(split_affiliation, x -> x NOT IN (City, Country) AND NOT rlike(x, '\\\\\\\\d{3,}'))\")\n",
    "    )\n",
    ")\n",
    "\n",
    "# Clean up: Remove leading/trailing spaces and handle empty institutions\n",
    "affiliations_df = affiliations_df.withColumn(\n",
    "    \"Institution\",\n",
    "    F.when(F.trim(F.col(\"Institution\")) == \"\", lit(\"Unknown\")).otherwise(F.trim(F.col(\"Institution\")))\n",
    ")"
   ]
  },
  {
   "cell_type": "code",
   "execution_count": 0,
   "metadata": {
    "application/vnd.databricks.v1+cell": {
     "cellMetadata": {
      "byteLimit": 2048000,
      "rowLimit": 10000
     },
     "inputWidgets": {},
     "nuid": "4d6609cf-c09f-42ad-9658-4ec83357a396",
     "showTitle": false,
     "tableResultSettingsMap": {},
     "title": ""
    }
   },
   "outputs": [
    {
     "output_type": "stream",
     "name": "stdout",
     "output_type": "stream",
     "text": [
      "+----------+--------------------------------------------------------------------------------------------------------------------------------------------------------------------------------------------------------------+----------+---------------+-----------------------------------------------------------------------------------------------------------------------------------------------------------------------------------------+\n|Article_ID|Affiliation                                                                                                                                                                                                   |Country   |City           |Institution                                                                                                                                                                              |\n+----------+--------------------------------------------------------------------------------------------------------------------------------------------------------------------------------------------------------------+----------+---------------+-----------------------------------------------------------------------------------------------------------------------------------------------------------------------------------------+\n|0         |Signals  Systems and Components Laboratory (LSSC)  Faculty of Sciences and Technologies of Fez  Sidi Mohamed Ben Abdellah University  B.P. 2022  Fez  Morocco                                                 |Morocco   |Fez            |Signals Systems and Components Laboratory (LSSC) Faculty of Sciences and Technologies of Fez Sidi Mohamed Ben Abdellah University                                                        |\n|0         | Materials Science Energy and Nanoengineering Department  Mohamed VI Polytechnic University  Benguerir  Morocco                                                                                               |Morocco   |Benguerir      |Materials Science Energy and Nanoengineering Department Mohamed VI Polytechnic University                                                                                                |\n|0         | University of Chinese Academy  28 Road  Beijing  100041  China                                                                                                                                               |China     |Beijing        |University of Chinese Academy 28 Road                                                                                                                                                    |\n|1         |Nanoscience and Nanotechnology Unit  E.N.S Rabat  Energy Research Centre  Mohammed V University  B.P. 5118  Takaddoum Rabat  Morocco                                                                          |Morocco   |Takaddoum Rabat|Nanoscience and Nanotechnology Unit E.N.S Rabat Energy Research Centre Mohammed V University                                                                                             |\n|1         | Nanomaterials and Photovoltaic Cells Laboratory  Green Energy Park (GEP)  UM6P/IRESEN  Benguerir  Morocco                                                                                                    |Morocco   |Benguerir      |Nanomaterials and Photovoltaic Cells Laboratory Green Energy Park (GEP) UM6P/IRESEN                                                                                                      |\n|1         | College of Sciences  Department of Physics  Imam Mohammad Ibn Saud Islamic University (IMSIU)  Riyadh  11623  Saudi Arabia                                                                                   |Unknown   |Riyadh         |College of Sciences Department of Physics Imam Mohammad Ibn Saud Islamic University (IMSIU) Saudi Arabia                                                                                 |\n|1         | Department of Physics  Kuwait University  Safat  13060  Kuwait                                                                                                                                               |Kuwait    |Safat          |Department of Physics Kuwait University                                                                                                                                                  |\n|2         |Materials Science and Nano-Engineering MSN Department  Mohammed VI Polytechnic University  Lot 660-Hay Moulay Rachid  Ben Guerir  43150  Morocco                                                              |Morocco   |Ben Guerir     |Materials Science and Nano-Engineering MSN Department Mohammed VI Polytechnic University                                                                                                 |\n|3         |Molecular Chemistry  Materials and Catalysis Laboratory  Faculty of Sciences and Technologies  Sultan Moulay Slimane University  BP 523  Beni-Mellal  23000  Morocco                                          |Morocco   |Beni-Mellal    |Molecular Chemistry Materials and Catalysis Laboratory Faculty of Sciences and Technologies Sultan Moulay Slimane University                                                             |\n|3         | Institut de Chimie de Clermont-Ferrand  Université Blaise Pascal  ICCF-UMR 6296  Aubière  F-63178  France                                                                                                    |France    |Unknown        |Institut de Chimie de Clermont-Ferrand Université Blaise Pascal Aubière                                                                                                                  |\n|4         |University of Abdelmalek Essâddi  LabTIC  ENSA of Tangier  Tangier  Morocco                                                                                                                                   |Morocco   |Tangier        |University of Abdelmalek Essâddi LabTIC ENSA of Tangier                                                                                                                                  |\n|4         | LCCPS  ENSAM of Casablanca  University of Hassan II  Casablanca  Morocco                                                                                                                                     |Morocco   |Casablanca     |LCCPS ENSAM of Casablanca University of Hassan II                                                                                                                                        |\n|4         | LaSIT  ENSA of Tetuan  University of Abdelmalek Essaadi  Tetuan  Morocco                                                                                                                                     |Morocco   |Tetuan         |LaSIT ENSA of Tetuan University of Abdelmalek Essaadi                                                                                                                                    |\n|4         | University of Abdelmalek Essaadi  Faculty Polydisciplinaire of Larache  Larache  Morocco                                                                                                                     |Morocco   |Larache        |University of Abdelmalek Essaadi Faculty Polydisciplinaire of Larache                                                                                                                    |\n|5         |Resources Valorization  Environment and Sustainable Development Research Team (RVESD)  Department of Mines  Mines School of Rabat  Ave Hadj Ahmed Cherkaoui  BP 753  Agdal  Rabat  10090  Morocco             |Morocco   |Rabat          |Resources Valorization Environment and Sustainable Development Research Team (RVESD) Department of Mines Mines School of Rabat Ave Hadj Ahmed Cherkaoui Agdal                            |\n|5         | Geology and Sustainable Mining Institute  Mohammed VI Polytechnic University  Lot 660  Hay Moulay Rachid  Ben Guerir  43150  Morocco                                                                         |Morocco   |Ben Guerir     |Geology and Sustainable Mining Institute Mohammed VI Polytechnic University Hay Moulay Rachid                                                                                            |\n|6         |ISA  Department of Computer Science  Faculty of Science and Technology  University Sidi Mohamed Ben Abdelah  Fez  Morocco                                                                                     |Morocco   |Fez            |ISA Department of Computer Science Faculty of Science and Technology University Sidi Mohamed Ben Abdelah                                                                                 |\n|6         | LISAC  Department of Computer Science  Faculty of Sciences Dhar El Mahraz  University Sidi Mohamed Ben Abdelah  Fez  Morocco                                                                                 |Morocco   |Fez            |LISAC Department of Computer Science Faculty of Sciences Dhar El Mahraz University Sidi Mohamed Ben Abdelah                                                                              |\n|6         | Computer Science and Systems Engineering  Department of Computer Science  Faculty of Science and Technology  University Abdelmalek Essaadi  Tetouan  Morocco                                                 |Morocco   |Tetouan        |Computer Science and Systems Engineering Department of Computer Science Faculty of Science and Technology University Abdelmalek Essaadi                                                  |\n|7         |LISAC Laboratory  Department of Computer Sciences  Faculty of Sciences  Sidi Mohamed ben Abdellah University  Dhar El Mahraz  Fez  30050  Morocco                                                             |Morocco   |Fez            |LISAC Laboratory Department of Computer Sciences Faculty of Sciences Sidi Mohamed ben Abdellah University Dhar El Mahraz                                                                 |\n|8         |Department of Radiology  Mohammed VI University Hospital  Faculty of Medicine  University Mohammed First  Oujda  Morocco                                                                                      |Morocco   |Oujda          |Department of Radiology Mohammed VI University Hospital Faculty of Medicine University Mohammed First                                                                                    |\n|9         |Department of Energy and Environmental Civil Engineering  National School of Applied Sciences of Al-Hoceima  Engineering Sciences and Applications Laboratory  Abdelmalek Essaâdi University  Tetouan  Morocco|Morocco   |Tetouan        |Department of Energy and Environmental Civil Engineering National School of Applied Sciences of Al-Hoceima Engineering Sciences and Applications Laboratory Abdelmalek Essaâdi University|\n|9         | Faculty of Medicine and Health Sciences  An-Najah National University  Nablus  Palestine                                                                                                                     |Palestine |Nablus         |Faculty of Medicine and Health Sciences An-Najah National University                                                                                                                     |\n|9         | Department of Chemistry  An-Najah National University  Nablus  Palestine                                                                                                                                     |Palestine |Nablus         |Department of Chemistry An-Najah National University                                                                                                                                     |\n|10        |FPSB  Chouaib Doukkali University  El Jadida  Morocco                                                                                                                                                         |Morocco   |El Jadida      |FPSB Chouaib Doukkali University                                                                                                                                                         |\n|11        |SI2M Laboratory  National Institute of Statistics and Applied Economics  Rabat  Morocco                                                                                                                       |Morocco   |Rabat          |SI2M Laboratory National Institute of Statistics and Applied Economics                                                                                                                   |\n|11        | Claude Bernard Lyon 1 University  Lyon  France                                                                                                                                                               |France    |Lyon           |Claude Bernard Lyon 1 University                                                                                                                                                         |\n|11        | Ecole de Technologie Supérieure  Montreal  Canada                                                                                                                                                            |Canada    |Montreal       |Ecole de Technologie Supérieure                                                                                                                                                          |\n|11        | Faculty of Sciences  Mohammed V University  Rabat  Morocco                                                                                                                                                   |Morocco   |Rabat          |Faculty of Sciences Mohammed V University                                                                                                                                                |\n|12        |Middle East  Africa  and Eurasia Influenza Stakeholder Network (MENA-ISN)  P.O.Box 393 PC 100  Muscat  Oman                                                                                                   |Oman      |Muscat         |Middle East Africa and Eurasia Influenza Stakeholder Network (MENA-ISN)                                                                                                                  |\n|12        | Internal and Pulmonary Medicine Department  Sheri Kashmir Institute of Medical Sciences  Srinagar  India                                                                                                     |India     |Srinagar       |Internal and Pulmonary Medicine Department Sheri Kashmir Institute of Medical Sciences                                                                                                   |\n|12        | Adult Infectious Diseases  Department of Medicine  Royal Hospital  MOH  Muscat  Oman                                                                                                                         |Oman      |Muscat         |Adult Infectious Diseases Department of Medicine Royal Hospital MOH                                                                                                                      |\n|12        | Directorate of the National Diabetes Prevention and Control Program  Ministry of Health  Riyadh  Saudi Arabia                                                                                                |Unknown   |Riyadh         |Directorate of the National Diabetes Prevention and Control Program Ministry of Health Saudi Arabia                                                                                      |\n|12        | Faculty of Medicine and Pharmacy of Rabat  Mohammed V University  Rabat  Morocco                                                                                                                             |Morocco   |Rabat          |Faculty of Medicine and Pharmacy of Rabat Mohammed V University                                                                                                                          |\n|12        | Child Health section  Dubai Health Authority  Dubai  United Arab Emirates                                                                                                                                    |Unknown   |Dubai          |Child Health section Dubai Health Authority United Arab Emirates                                                                                                                         |\n|12        | Health Protection  Primary Health Care Center  MOPH  Doha  Qatar                                                                                                                                             |Qatar     |Doha           |Health Protection Primary Health Care Center MOPH                                                                                                                                        |\n|12        | Department of National immunization Program  Ministry of Health  Riyadh  Saudi Arabia                                                                                                                        |Unknown   |Riyadh         |Department of National immunization Program Ministry of Health Saudi Arabia                                                                                                              |\n|12        | Health Affairs  Muscat MOH  Oman                                                                                                                                                                             |Oman      |Muscat MOH     |Health Affairs                                                                                                                                                                           |\n|12        | Department of Internal Medicine  Division of General Internal Medicine  Hacettepe University Faculty of Medicine  Ankara  Turkey                                                                             |Turkey    |Ankara         |Department of Internal Medicine Division of General Internal Medicine Hacettepe University Faculty of Medicine                                                                           |\n|12        | Department of Experimental Pathology  Immunology  and Microbiology  Faculty of Medicine  American University of Beirut  Beirut  Lebanon                                                                      |Lebanon   |Beirut         |Department of Experimental Pathology Immunology and Microbiology Faculty of Medicine American University of Beirut                                                                       |\n|13        |Division of Computer Engineering  Hoseo University  Asan  31499  South Korea                                                                                                                                  |Unknown   |Asan           |Division of Computer Engineering Hoseo University South Korea                                                                                                                            |\n|13        | Department of Mathematics  Faculty of Science and Technology of Fez  University S. M. Ben Abdellah  Box 2202  Fez  Morocco                                                                                   |Morocco   |Fez            |Department of Mathematics Faculty of Science and Technology of Fez University S. M. Ben Abdellah                                                                                         |\n|14        |Laboratory of Plants  Animals Productions and Agro-Industry  Faculty of Sciences  Ibn Tofail University  BP 133  Kenitra  14000  Morocco                                                                      |Morocco   |Kenitra        |Laboratory of Plants Animals Productions and Agro-Industry Faculty of Sciences Ibn Tofail University                                                                                     |\n|15        |Department of Mathematics  Multidisciplinary Faculty of Nador  University Mohammed First  Oujda  Morocco                                                                                                      |Morocco   |Oujda          |Department of Mathematics Multidisciplinary Faculty of Nador University Mohammed First                                                                                                   |\n|16        |Laboratory of Physics of Condensed Matter (LPMC)  Faculty of Sciences Ben M’Sik  Hassan II University of Casablanca  Casablanca  Morocco                                                                      |Morocco   |Casablanca     |Laboratory of Physics of Condensed Matter (LPMC) Faculty of Sciences Ben M’Sik Hassan II University of Casablanca                                                                        |\n|16        | REMTEX Laboratory  Higher School of Textile and Clothing Industries (ESITH)  Casablanca  Morocco                                                                                                             |Morocco   |Casablanca     |REMTEX Laboratory Higher School of Textile and Clothing Industries (ESITH)                                                                                                               |\n|16        | Department of Electrical and Computer Engineering  University of Houston  Houston  77204  TX  United States                                                                                                  |Unknown   |TX             |Department of Electrical and Computer Engineering University of Houston Houston United States                                                                                            |\n|16        | Department of Electronics and Communication Engineering  IMPS College of Engineering and Technology  West Bengal  Malda  732103  India                                                                       |India     |Malda          |Department of Electronics and Communication Engineering IMPS College of Engineering and Technology West Bengal                                                                           |\n|17        |MaSEEL  FSTT  Abdelmalek Essaâdi University  Tetouan  Morocco                                                                                                                                                 |Morocco   |Tetouan        |MaSEEL FSTT Abdelmalek Essaâdi University                                                                                                                                                |\n|17        | Univ. Polytechnique Hauts-de-France  CNRS  UMR 8201 – LAMIH  Valenciennes  F-59313  France                                                                                                                   |France    |Unknown        |Univ. Polytechnique Hauts-de-France CNRS Valenciennes                                                                                                                                    |\n|18        |SIRC-LAGES Lab  Hassania School of Public Works  Casablanca  Morocco                                                                                                                                          |Morocco   |Casablanca     |SIRC-LAGES Lab Hassania School of Public Works                                                                                                                                           |\n|19        |Faculty of Sciences Dhar Mahraz  Sidi Mohamed Ben Abdellah University  Fez  Morocco                                                                                                                           |Morocco   |Fez            |Faculty of Sciences Dhar Mahraz Sidi Mohamed Ben Abdellah University                                                                                                                     |\n|20        |ENSIAS  Mohammed V University in Rabat  Smart Systems Laboratory (SSL)  Morocco                                                                                                                               |Morocco   |Unknown        |ENSIAS Mohammed V University in Rabat Smart Systems Laboratory (SSL)                                                                                                                     |\n|20        | ENSIAS  Mohammed V University in Rabat  Morocco                                                                                                                                                              |Morocco   |Unknown        |ENSIAS Mohammed V University in Rabat                                                                                                                                                    |\n|21        |Optics and Photonics Center  Moroccan Foundation for Advanced Science and Innovation and Research  University Mohammed VI Polytechnic  Benguerir  Morocco                                                     |Morocco   |Benguerir      |Optics and Photonics Center Moroccan Foundation for Advanced Science and Innovation and Research University Mohammed VI Polytechnic                                                      |\n|21        | Department of Chemistry  Faculty of Sciences  University Mohammed V  Rabat  Morocco                                                                                                                          |Morocco   |Rabat          |Department of Chemistry Faculty of Sciences University Mohammed V                                                                                                                        |\n|22        |Mohamadia School of Engineers  Department of Electrical Engineering  Mohammed V University  Rabat  Morocco                                                                                                    |Morocco   |Rabat          |Mohamadia School of Engineers Department of Electrical Engineering Mohammed V University                                                                                                 |\n|22        | Laboratory of Signals  Systems  and Components  University Sidi Mohamed Ben Abdellah  Fez  Morocco                                                                                                           |Morocco   |Fez            |Laboratory of Signals Systems and Components University Sidi Mohamed Ben Abdellah                                                                                                        |\n|22        | Laboratoire Des Sciences de L’Ingénieur & Biosciences (LSIB)  Faculté Des Sciences Et Techniques de Mohammedia  Mohammedia  Morocco                                                                          |Morocco   |Mohammedia     |Laboratoire Des Sciences de L’Ingénieur & Biosciences (LSIB) Faculté Des Sciences Et Techniques de Mohammedia                                                                            |\n|22        | Electrical Engineering and Intelligent System Laboratory  ENSET  Hassan II University Green Energy Park Mohammedia  Mohammedia  Morocco                                                                      |Morocco   |Mohammedia     |Electrical Engineering and Intelligent System Laboratory ENSET Hassan II University Green Energy Park Mohammedia                                                                         |\n|22        | Green Energy Park  Benguerir  Morocco                                                                                                                                                                        |Morocco   |Benguerir      |Green Energy Park                                                                                                                                                                        |\n|23        |SPM  ENSIAS  Mohammed V University  Rabat  Morocco                                                                                                                                                            |Morocco   |Rabat          |SPM ENSIAS Mohammed V University                                                                                                                                                         |\n|23        | Faculty of Medical Sciences  Mohammed VI Polytechnic University  Ben Guerir  Morocco                                                                                                                         |Morocco   |Ben Guerir     |Faculty of Medical Sciences Mohammed VI Polytechnic University                                                                                                                           |\n|24        |Aix Marseille Université  Université Côte d’Azur  Avignon Université  CNRS  ESPACE  UMR 7300  Avignon  84000  France                                                                                          |France    |Avignon        |Aix Marseille Université Université Côte d’Azur Avignon Université CNRS ESPACE                                                                                                           |\n|24        | Department of Geodesy and Topography  Geomatics Science and Engineering  Hassan II Institute of Agronomy and Veterinary  Rabat  Morocco                                                                      |Morocco   |Rabat          |Department of Geodesy and Topography Geomatics Science and Engineering Hassan II Institute of Agronomy and Veterinary                                                                    |\n|24        | National Institute of Agricultural Research (INRA)  Rabat  Morocco                                                                                                                                           |Morocco   |Rabat          |National Institute of Agricultural Research (INRA)                                                                                                                                       |\n|24        | LEGOS  Université de Toulouse  IRD  CNES  CNRS  UPS  Toulouse  31400  France                                                                                                                                 |France    |Toulouse       |LEGOS Université de Toulouse IRD CNES CNRS UPS                                                                                                                                           |\n|25        |Laboratory of Biotechnology  Medical and Pharmacy School  Mohammed V University  Rabat  Morocco                                                                                                               |Morocco   |Rabat          |Laboratory of Biotechnology Medical and Pharmacy School Mohammed V University                                                                                                            |\n|25        | Mohammed VI Center for Research & Innovation (CM6)  Rabat  Morocco                                                                                                                                           |Morocco   |Rabat          |Mohammed VI Center for Research & Innovation (CM6)                                                                                                                                       |\n|25        | Mohammed VI University of Health Sciences (UM6SS)  Casablanca  Morocco                                                                                                                                       |Morocco   |Casablanca     |Mohammed VI University of Health Sciences (UM6SS)                                                                                                                                        |\n|25        | Emergency Department  Military Hospital Mohammed V  Rabat Medical and Pharmacy School  Mohammed V University  Rabat  Morocco                                                                                 |Morocco   |Rabat          |Emergency Department Military Hospital Mohammed V Rabat Medical and Pharmacy School Mohammed V University                                                                                |\n|26        |Engineering  Systems  and Applications Laboratory  National School of Applied Sciences  Sidi Mohamed Ben Abdellah-Fez University  Fez  Morocco                                                                |Morocco   |Fez            |Engineering Systems and Applications Laboratory National School of Applied Sciences Sidi Mohamed Ben Abdellah-Fez University                                                             |\n|26        | ESISA Analytica Laboratory  Higher School of Engineering in Applied Sciences  Fez  Morocco                                                                                                                   |Morocco   |Fez            |ESISA Analytica Laboratory Higher School of Engineering in Applied Sciences                                                                                                              |\n|27        |Faculty of Sciences Ben m'Sik  Hiiu  Casablanca  Morocco                                                                                                                                                      |Morocco   |Casablanca     |Faculty of Sciences Ben m'Sik Hiiu                                                                                                                                                       |\n|28        |Laboratory of Organic Synthesis  Extraction and Valorization  FSAC  Hassan II University of Casablanca  Maarif  B.P. 2693  Casablanca  20000  Morocco                                                         |Morocco   |Casablanca     |Laboratory of Organic Synthesis Extraction and Valorization FSAC Hassan II University of Casablanca Maarif                                                                               |\n|28        | Universite Claude Bernard Lyon-1  Centre National de la Recherche Scientifique (CNRS)  ISA-UMR 5280  Villeurbanne  69100  France                                                                             |France    |Villeurbanne   |Universite Claude Bernard Lyon-1 Centre National de la Recherche Scientifique (CNRS)                                                                                                     |\n|28        | Department of Chemistry  Laboratory of Applied Chemistry and Environment (LCAE)  Faculty of Sciences  University Mohammed Premier  Oujda  60000  Morocco                                                     |Morocco   |Oujda          |Department of Chemistry Laboratory of Applied Chemistry and Environment (LCAE) Faculty of Sciences University Mohammed Premier                                                           |\n|28        | Faculty of Sciences and Technologies Mohammedia  University Hassan II  B.P. 146  Mohammedia  28800  Morocco                                                                                                  |Morocco   |Mohammedia     |Faculty of Sciences and Technologies Mohammedia University Hassan II                                                                                                                     |\n|29        |Enset Mohammedia  Hassan Ii University  Laboratory Of Modeling And Simulation Of Intelligent Industrial Systems  Casablanca  Morocco                                                                          |Morocco   |Casablanca     |Enset Mohammedia Hassan Ii University Laboratory Of Modeling And Simulation Of Intelligent Industrial Systems                                                                            |\n|29        | Enset Mohammedia  Hassan Ii University  Isem  Laboratory Of Modeling And Simulation Of Intelligent Industrial Systems  Casablanca  Morocco                                                                   |Morocco   |Casablanca     |Enset Mohammedia Hassan Ii University Isem Laboratory Of Modeling And Simulation Of Intelligent Industrial Systems                                                                       |\n|30        |Laboratory of Computer Science Research  Faculty of Science Kenitra  Ibn Tofail University of Kenitra  Kenitra  Morocco                                                                                       |Morocco   |Kenitra        |Laboratory of Computer Science Research Faculty of Science Kenitra Ibn Tofail University of Kenitra                                                                                      |\n|31        |Telecommunication Systems  Networks and Services Lab  National Institute of Posts and Telecommunications (INPT)  2  Allal El Fassi Avenue  Rabat  Morocco                                                     |Morocco   |Rabat          |Telecommunication Systems Networks and Services Lab National Institute of Posts and Telecommunications (INPT) 2 Allal El Fassi Avenue                                                    |\n|32        |ENS-Rabat Physics Department  Mohammed V University in Rabat  BP 5118  Morocco                                                                                                                                |Morocco   |Unknown        |ENS-Rabat Physics Department Mohammed V University in Rabat                                                                                                                              |\n|32        | Physical Sciences Research Center (PSRC)  Department of Physics  Pachhunga University College  Mizoram University  Aizawl  796001  India                                                                     |India     |Aizawl         |Physical Sciences Research Center (PSRC) Department of Physics Pachhunga University College Mizoram University                                                                           |\n|32        | Faculty of Chemical Engineering  New Uzbekistan University  Tashkent  Uzbekistan                                                                                                                             |Uzbekistan|Tashkent       |Faculty of Chemical Engineering New Uzbekistan University                                                                                                                                |\n|33        |Laboratory of Economical Sciences and Public Policies  Faculty of Economics and Management  Ibn Tofail University  Kenitra  Morocco                                                                           |Morocco   |Kenitra        |Laboratory of Economical Sciences and Public Policies Faculty of Economics and Management Ibn Tofail University                                                                          |\n|34        |BearLab  Rabat Business School  International University of Rabat  Rocade Rabat-Salé  Technopolis  Rabat  Morocco                                                                                             |Morocco   |Rabat          |BearLab Rabat Business School International University of Rabat Rocade Rabat-Salé Technopolis                                                                                            |\n|35        |LaRSA  ENSAO  Mohammed First University  Oujda  Morocco                                                                                                                                                       |Morocco   |Oujda          |LaRSA ENSAO Mohammed First University                                                                                                                                                    |\n|35        | LAPABE  FSO  Mohammed First University  Oujda  Morocco                                                                                                                                                       |Morocco   |Oujda          |LAPABE FSO Mohammed First University                                                                                                                                                     |\n|35        | SmartICT  ENSAO  Mohammed First University  Oujda  Morocco                                                                                                                                                   |Morocco   |Oujda          |SmartICT ENSAO Mohammed First University                                                                                                                                                 |\n|36        |Intelligent Processing Systems and Security (IPSS)  Team Mohammed V University  Rabat  Morocco                                                                                                                |Morocco   |Rabat          |Intelligent Processing Systems and Security (IPSS) Team Mohammed V University                                                                                                            |\n|37        |Mohammed V University  Rabat  Morocco                                                                                                                                                                         |Morocco   |Rabat          |Mohammed V University                                                                                                                                                                    |\n|38        |Artificial Intelligence and Data Science and Emerging Systems Laboratory  Sidi Mohamed Ben Abdellah University of FES  Fes  Morocco                                                                           |Morocco   |Fes            |Artificial Intelligence and Data Science and Emerging Systems Laboratory Sidi Mohamed Ben Abdellah University of FES                                                                     |\n|38        | Innovative Systems Engineering Laboratory  Abdelmalek Essaadi University of Tetuan  Tetouan  Morocco                                                                                                         |Morocco   |Tetouan        |Innovative Systems Engineering Laboratory Abdelmalek Essaadi University of Tetuan                                                                                                        |\n|38        | Image Laboratory  University of Moulay Ismail of Meknes  Meknes  Morocco                                                                                                                                     |Morocco   |Meknes         |Image Laboratory University of Moulay Ismail of Meknes                                                                                                                                   |\n|39        |Department of Mathematics  Faculty of Sciences  Ibn Tofail University  B. P. 133  Kenitra  Morocco                                                                                                            |Morocco   |Kenitra        |Department of Mathematics Faculty of Sciences Ibn Tofail University                                                                                                                      |\n|40        |Ibn Zohr University  Laboratory Of Metrology And Information Processing  Faculty Of Sciences  Physics Department  Agadir  Morocco                                                                             |Morocco   |Agadir         |Ibn Zohr University Laboratory Of Metrology And Information Processing Faculty Of Sciences Physics Department                                                                            |\n|41        |FSTT  Abdelmalek Essaadi University  Tangier  EMRN  Morocco                                                                                                                                                   |Morocco   |EMRN           |FSTT Abdelmalek Essaadi University Tangier                                                                                                                                               |\n|41        | Division of Water and Climate  CNESTEN  Rabat  Morocco                                                                                                                                                       |Morocco   |Rabat          |Division of Water and Climate CNESTEN                                                                                                                                                    |\n|41        | Research and Development Laboratory in Applied Geosciences  FSTT  Abdelmalek Essaadi University  Tetouan  Morocco                                                                                            |Morocco   |Tetouan        |Research and Development Laboratory in Applied Geosciences FSTT Abdelmalek Essaadi University                                                                                            |\n+----------+--------------------------------------------------------------------------------------------------------------------------------------------------------------------------------------------------------------+----------+---------------+-----------------------------------------------------------------------------------------------------------------------------------------------------------------------------------------+\nonly showing top 100 rows\n\n"
     ]
    }
   ],
   "source": [
    "affiliations_df = affiliations_df.drop(\"split_affiliation\")\n",
    "affiliations_df.show(100,truncate=False)\n"
   ]
  },
  {
   "cell_type": "code",
   "execution_count": 0,
   "metadata": {
    "application/vnd.databricks.v1+cell": {
     "cellMetadata": {
      "byteLimit": 2048000,
      "rowLimit": 10000
     },
     "inputWidgets": {},
     "nuid": "9faa5c6e-c157-4b2a-b0ba-3885e6e4e2fc",
     "showTitle": false,
     "tableResultSettingsMap": {},
     "title": ""
    }
   },
   "outputs": [
    {
     "output_type": "stream",
     "name": "stdout",
     "output_type": "stream",
     "text": [
      "root\n |-- Document Type: string (nullable = true)\n |-- Language of Original Document: string (nullable = false)\n |-- Authors: array (nullable = true)\n |    |-- element: string (containsNull = false)\n |-- Author Full Names: array (nullable = true)\n |    |-- element: string (containsNull = false)\n |-- Author(s) ID: array (nullable = true)\n |    |-- element: string (containsNull = false)\n |-- Title: string (nullable = true)\n |-- Year: integer (nullable = true)\n |-- Source title: string (nullable = true)\n |-- Volume: integer (nullable = true)\n |-- Issue: integer (nullable = true)\n |-- article_number: integer (nullable = true)\n |-- Page start: integer (nullable = false)\n |-- Page end: integer (nullable = false)\n |-- Page count: integer (nullable = true)\n |-- Cited by: integer (nullable = false)\n |-- DOI: string (nullable = false)\n |-- Link: string (nullable = true)\n |-- Affiliations: array (nullable = true)\n |    |-- element: string (containsNull = false)\n |-- Authors with affiliations: string (nullable = true)\n |-- Abstract: string (nullable = true)\n |-- Author Keywords: array (nullable = true)\n |    |-- element: string (containsNull = false)\n |-- Index Keywords: array (nullable = true)\n |    |-- element: string (containsNull = false)\n |-- Molecular Sequence Numbers: string (nullable = true)\n |-- Chemicals/CAS: string (nullable = true)\n |-- Tradenames: string (nullable = false)\n |-- Manufacturers: string (nullable = false)\n |-- Funding Details: string (nullable = false)\n |-- Funding Texts: string (nullable = false)\n |-- References: array (nullable = true)\n |    |-- element: string (containsNull = false)\n |-- Correspondence Address: string (nullable = false)\n |-- Editors: string (nullable = false)\n |-- Publisher: string (nullable = true)\n |-- Sponsors: string (nullable = false)\n |-- Conference name: string (nullable = false)\n |-- Conference date: string (nullable = true)\n |-- Conference location: string (nullable = false)\n |-- Conference code: string (nullable = true)\n |-- ISSN: string (nullable = true)\n |-- ISBN: string (nullable = true)\n |-- CODEN: string (nullable = true)\n |-- PubMed ID: string (nullable = true)\n |-- Abbreviated Source Title: string (nullable = false)\n |-- Publication Stage: string (nullable = true)\n |-- Open Access: boolean (nullable = false)\n |-- Source: string (nullable = false)\n |-- EID: string (nullable = true)\n |-- 'Authors with affiliations: map (nullable = true)\n |    |-- key: string\n |    |-- value: string (valueContainsNull = true)\n |-- Start_date: date (nullable = true)\n |-- End_date: date (nullable = true)\n |-- Article_ID: long (nullable = false)\n\n"
     ]
    }
   ],
   "source": [
    "df.printSchema()"
   ]
  },
  {
   "cell_type": "code",
   "execution_count": 0,
   "metadata": {
    "application/vnd.databricks.v1+cell": {
     "cellMetadata": {
      "byteLimit": 2048000,
      "rowLimit": 10000
     },
     "inputWidgets": {},
     "nuid": "64137de3-2730-4aa7-9a77-4adcc31f2e87",
     "showTitle": false,
     "tableResultSettingsMap": {},
     "title": ""
    }
   },
   "outputs": [],
   "source": [
    "keywords_df = df.select(\n",
    "    \"Article_ID\",\n",
    "    F.explode(F.col(\"Author Keywords\")).alias(\"Keyword\")\n",
    ").union(\n",
    "    df.select(\n",
    "        \"Article_ID\",\n",
    "        F.explode(F.col(\"Index Keywords\")).alias(\"Keyword\")\n",
    "    )\n",
    ")\n"
   ]
  },
  {
   "cell_type": "code",
   "execution_count": 0,
   "metadata": {
    "application/vnd.databricks.v1+cell": {
     "cellMetadata": {
      "byteLimit": 2048000,
      "rowLimit": 10000
     },
     "inputWidgets": {},
     "nuid": "568bfb71-c4c6-497a-b973-475d508bb405",
     "showTitle": false,
     "tableResultSettingsMap": {},
     "title": ""
    }
   },
   "outputs": [],
   "source": [
    "\n",
    "keywords_df = keywords_df.withColumn(\n",
    "    \"keyword\",\n",
    "    F.when(\n",
    "        F.col(\"keyword\").rlike(\"^[^a-zA-Z]\") | F.col(\"keyword\").rlike(\"[^a-zA-Z]\"),\n",
    "        None\n",
    "    ).otherwise(F.col(\"keyword\"))\n",
    ")\n"
   ]
  },
  {
   "cell_type": "code",
   "execution_count": 0,
   "metadata": {
    "application/vnd.databricks.v1+cell": {
     "cellMetadata": {
      "byteLimit": 2048000,
      "rowLimit": 10000
     },
     "inputWidgets": {},
     "nuid": "7843902b-0672-4916-9353-b7fb237fad19",
     "showTitle": false,
     "tableResultSettingsMap": {},
     "title": ""
    }
   },
   "outputs": [
    {
     "output_type": "stream",
     "name": "stdout",
     "output_type": "stream",
     "text": [
      "Out[110]: 266129"
     ]
    }
   ],
   "source": [
    "keywords_df.count()"
   ]
  },
  {
   "cell_type": "code",
   "execution_count": 0,
   "metadata": {
    "application/vnd.databricks.v1+cell": {
     "cellMetadata": {
      "byteLimit": 2048000,
      "rowLimit": 10000
     },
     "inputWidgets": {},
     "nuid": "01e62060-02c2-4937-9d81-8fd2aeeafb5f",
     "showTitle": false,
     "tableResultSettingsMap": {},
     "title": ""
    }
   },
   "outputs": [
    {
     "output_type": "stream",
     "name": "stdout",
     "output_type": "stream",
     "text": [
      "root\n |-- Article_ID: long (nullable = false)\n |-- Title: string (nullable = true)\n |-- Year: integer (nullable = true)\n |-- Source title: string (nullable = true)\n |-- Volume: integer (nullable = true)\n |-- Issue: integer (nullable = true)\n |-- article_number: integer (nullable = true)\n |-- Page start: integer (nullable = false)\n |-- Page end: integer (nullable = false)\n |-- Page count: integer (nullable = true)\n |-- Cited by: integer (nullable = false)\n |-- DOI: string (nullable = false)\n |-- Link: string (nullable = true)\n |-- Abstract: string (nullable = true)\n |-- Molecular Sequence Numbers: string (nullable = true)\n |-- Chemicals/CAS: string (nullable = true)\n |-- Tradenames: string (nullable = false)\n |-- Manufacturers: string (nullable = false)\n |-- Correspondence Address: string (nullable = false)\n |-- Editors: string (nullable = false)\n |-- Publisher: string (nullable = true)\n |-- Sponsors: string (nullable = false)\n |-- ISSN: string (nullable = true)\n |-- ISBN: string (nullable = true)\n |-- CODEN: string (nullable = true)\n |-- PubMed ID: string (nullable = true)\n |-- Language of Original Document: string (nullable = false)\n |-- Abbreviated Source Title: string (nullable = false)\n |-- Document Type: string (nullable = true)\n |-- Publication Stage: string (nullable = true)\n |-- Open Access: boolean (nullable = false)\n\nroot\n |-- Article_ID: long (nullable = false)\n |-- Author_Name: string (nullable = true)\n |-- Author_Full_Name: string (nullable = true)\n |-- Author_ID: string (nullable = true)\n\nroot\n |-- Article_ID: long (nullable = false)\n |-- Affiliation: string (nullable = false)\n |-- Country: string (nullable = true)\n |-- City: string (nullable = true)\n |-- Institution: string (nullable = false)\n\nroot\n |-- Article_ID: long (nullable = false)\n |-- keyword: string (nullable = true)\n\n"
     ]
    }
   ],
   "source": [
    "articles_df.printSchema()\n",
    "authors_df.printSchema()\n",
    "affiliations_df.printSchema()\n",
    "keywords_df.printSchema()\n"
   ]
  },
  {
   "cell_type": "code",
   "execution_count": 0,
   "metadata": {
    "application/vnd.databricks.v1+cell": {
     "cellMetadata": {
      "byteLimit": 2048000,
      "rowLimit": 10000
     },
     "inputWidgets": {},
     "nuid": "00963410-2ece-47d8-ba08-cbea2b065e4d",
     "showTitle": false,
     "tableResultSettingsMap": {},
     "title": ""
    }
   },
   "outputs": [],
   "source": [
    "keywords_df = keywords_df.filter(F.col(\"Keyword\").isNotNull())\n"
   ]
  },
  {
   "cell_type": "code",
   "execution_count": 0,
   "metadata": {
    "application/vnd.databricks.v1+cell": {
     "cellMetadata": {
      "byteLimit": 2048000,
      "rowLimit": 10000
     },
     "inputWidgets": {},
     "nuid": "06b5e7e7-10da-444e-8bdf-1adbd48cf238",
     "showTitle": false,
     "tableResultSettingsMap": {},
     "title": ""
    }
   },
   "outputs": [
    {
     "output_type": "stream",
     "name": "stdout",
     "output_type": "stream",
     "text": [
      "Number of rows: 79284\n"
     ]
    }
   ],
   "source": [
    "row_count = keywords_df.count()\n",
    "print(\"Number of rows:\", row_count)\n"
   ]
  },
  {
   "cell_type": "code",
   "execution_count": 0,
   "metadata": {
    "application/vnd.databricks.v1+cell": {
     "cellMetadata": {
      "byteLimit": 2048000,
      "rowLimit": 10000
     },
     "inputWidgets": {},
     "nuid": "c06e83e4-9686-4bc3-bf0b-9c4e6b86ff46",
     "showTitle": false,
     "tableResultSettingsMap": {},
     "title": ""
    }
   },
   "outputs": [],
   "source": [
    "articles_df.write.format(\"csv\").option(\"header\", \"true\").save(\"/dbfs/FileStore/Article/articles_data.csv\")\n"
   ]
  },
  {
   "cell_type": "code",
   "execution_count": 0,
   "metadata": {
    "application/vnd.databricks.v1+cell": {
     "cellMetadata": {
      "byteLimit": 2048000,
      "rowLimit": 10000
     },
     "inputWidgets": {},
     "nuid": "7af512e6-1d3e-4888-ab4c-d7fe84747c69",
     "showTitle": false,
     "tableResultSettingsMap": {},
     "title": ""
    }
   },
   "outputs": [],
   "source": [
    "authors_df.write.format(\"csv\").option(\"header\", \"true\").save(\"/dbfs/FileStore/Article/authors_data.csv\")"
   ]
  },
  {
   "cell_type": "code",
   "execution_count": 0,
   "metadata": {
    "application/vnd.databricks.v1+cell": {
     "cellMetadata": {
      "byteLimit": 2048000,
      "rowLimit": 10000
     },
     "inputWidgets": {},
     "nuid": "a7b66816-faad-4239-a079-9515328f4626",
     "showTitle": false,
     "tableResultSettingsMap": {},
     "title": ""
    }
   },
   "outputs": [],
   "source": [
    "affiliations_df.write.format(\"csv\").option(\"header\", \"true\").save(\"/dbfs/FileStore/Article/affiliations_data.csv\")"
   ]
  },
  {
   "cell_type": "code",
   "execution_count": 0,
   "metadata": {
    "application/vnd.databricks.v1+cell": {
     "cellMetadata": {
      "byteLimit": 2048000,
      "rowLimit": 10000
     },
     "inputWidgets": {},
     "nuid": "c469f13b-0cc8-4e48-badf-aef4fd9b9af3",
     "showTitle": false,
     "tableResultSettingsMap": {},
     "title": ""
    }
   },
   "outputs": [],
   "source": [
    "keywords_df.write.format(\"csv\").option(\"header\", \"true\").save(\"/dbfs/FileStore/Article/keywords_data1.csv\")"
   ]
  },
  {
   "cell_type": "code",
   "execution_count": 0,
   "metadata": {
    "application/vnd.databricks.v1+cell": {
     "cellMetadata": {
      "byteLimit": 2048000,
      "rowLimit": 10000
     },
     "inputWidgets": {},
     "nuid": "666cc89f-a94f-4280-9da0-41cbb73a3e9d",
     "showTitle": false,
     "tableResultSettingsMap": {},
     "title": ""
    }
   },
   "outputs": [],
   "source": []
  }
 ],
 "metadata": {
  "application/vnd.databricks.v1+notebook": {
   "computePreferences": null,
   "dashboards": [],
   "environmentMetadata": null,
   "language": "python",
   "notebookMetadata": {
    "mostRecentlyExecutedCommandWithImplicitDF": {
     "commandId": 564241474839953,
     "dataframes": [
      "_sqldf"
     ]
    },
    "pythonIndentUnit": 2
   },
   "notebookName": "load data files",
   "widgets": {}
  }
 },
 "nbformat": 4,
 "nbformat_minor": 0
}
